{
 "cells": [
  {
   "cell_type": "markdown",
   "id": "32913ba8",
   "metadata": {},
   "source": [
    "**Table of contents**<a id='toc0_'></a>    \n",
    "- 1. [Proyecto tarifas Megaline](#toc1_)    \n",
    "  - 1.1. [Descripción del proyecto](#toc1_1_)    \n",
    "  - 1.2. [Descripción de datos](#toc1_2_)    \n",
    "    - 1.2.1. [Descripción de users_data](#toc1_2_1_)    \n",
    "    - 1.2.2. [Descripción de calls_data](#toc1_2_2_)    \n",
    "    - 1.2.3. [Descripción de internet_data](#toc1_2_3_)    \n",
    "    - 1.2.4. [Descripción de messages_data](#toc1_2_4_)    \n",
    "    - 1.2.5. [Descripción de plans_data](#toc1_2_5_)    \n",
    "    - 1.2.6. [Conclusiones intermedias](#toc1_2_6_)    \n",
    "  - 1.3. [Procesamiento de datos](#toc1_3_)    \n",
    "    - 1.3.1. [Preprocesamiento de users_data](#toc1_3_1_)    \n",
    "    - 1.3.2. [Preprocesamiento de calls_data](#toc1_3_2_)    \n",
    "    - 1.3.3. [Preprocesamiento de internet_data](#toc1_3_3_)    \n",
    "    - 1.3.4. [Preprocesamiento de messages_data](#toc1_3_4_)    \n",
    "    - 1.3.5. [Preprocesamiento de plans_data](#toc1_3_5_)    \n",
    "    - 1.3.6. [Conclusiones intermedias](#toc1_3_6_)    \n",
    "  - 1.4. [Tablas de consumo por usuario por mes](#toc1_4_)    \n",
    "    - 1.4.1. [Consumo de llamadas](#toc1_4_1_)    \n",
    "    - 1.4.2. [Consumo de internet](#toc1_4_2_)    \n",
    "    - 1.4.3. [Consumo de mensajes](#toc1_4_3_)    \n",
    "    - 1.4.4. [Consumo de todos los servicios](#toc1_4_4_)    \n",
    "    - 1.4.5. [Conclusiones intermedias](#toc1_4_5_)    \n",
    "  - 1.5. [Cálculo de ingresos mensuales por cada usuario](#toc1_5_)    \n",
    "    - 1.5.1. [Cálculo de ingreso mensual del excedente por cada usuario](#toc1_5_1_)    \n",
    "    - 1.5.2. [Cálculo del ingreso total por cada usuario](#toc1_5_2_)    \n",
    "    - 1.5.3. [Conclusiones intermedias](#toc1_5_3_)    \n",
    "  - 1.6. [Análisis de datos](#toc1_6_)    \n",
    "    - 1.6.1. [Consumo de llamadas entre usuarios de surf y ultimate](#toc1_6_1_)    \n",
    "    - 1.6.2. [Consumo de internet entre usuarios de surf y ultimate](#toc1_6_2_)    \n",
    "    - 1.6.3. [Consumo de mensajes de texto entre usuarios de surf y ultimate](#toc1_6_3_)    \n",
    "    - 1.6.4. [Ingreso de usuarios de surf y ultimate](#toc1_6_4_)    \n",
    "    - 1.6.5. [Ingreso de usuarios del estado de New York/ New Jersey y los demás](#toc1_6_5_)    \n",
    "    - 1.6.6. [Conclusiones intermedias](#toc1_6_6_)    \n",
    "  - 1.7. [Prueba las hipótesis](#toc1_7_)    \n",
    "    - 1.7.1. [Primera hipótesis](#toc1_7_1_)    \n",
    "    - 1.7.2. [Segunda hipótesis](#toc1_7_2_)    \n",
    "    - 1.7.3. [Conclusiones intermedias](#toc1_7_3_)    \n",
    "  - 1.8. [Conclusiones generales](#toc1_8_)    \n",
    "\n",
    "<!-- vscode-jupyter-toc-config\n",
    "\tnumbering=true\n",
    "\tanchor=true\n",
    "\tflat=false\n",
    "\tminLevel=1\n",
    "\tmaxLevel=6\n",
    "\t/vscode-jupyter-toc-config -->\n",
    "<!-- THIS CELL WILL BE REPLACED ON TOC UPDATE. DO NOT WRITE YOUR TEXT IN THIS CELL -->"
   ]
  },
  {
   "cell_type": "markdown",
   "id": "6fbe1a58",
   "metadata": {},
   "source": [
    "# 1. <a id='toc1_'></a>[Proyecto tarifas Megaline](#toc0_)"
   ]
  },
  {
   "cell_type": "markdown",
   "id": "70312686",
   "metadata": {},
   "source": [
    "## 1.1. <a id='toc1_1_'></a>[Descripción del proyecto](#toc0_)"
   ]
  },
  {
   "cell_type": "markdown",
   "id": "50f5169a",
   "metadata": {},
   "source": [
    "El operador de telecomunicaciones, Megaline, ofrece a sus clientes dos tarifas de prepago, Surf y Ultimate. Se requiere determiniar cuál plan genera más ingresos para ajustar el presupuesto de publicidad. Se tienen inicialmente los datos de 500 clientes de Megaline, del año 2018. Se va a analizar el comportamiento y determinar cuál tarifa genera más ingresos. \n",
    "\n",
    "**Descripción de tarifas**\n",
    "\n",
    "Estas son los límites de cada plan y los costos si se exceden del límite:\n",
    "\n",
    "**Surf**\n",
    "\n",
    "- Pago mensual: 20\\$\n",
    "- 500 minutos al mes, 50 SMS\n",
    "- 15 GB de datos\n",
    "\n",
    "Si se exceden los límites del paquete:\n",
    "- 1 minuto: 3 centavos\n",
    "- 1 SMS: 3 centavos\n",
    "- 1 GB de datos: 10\\$\n",
    "\n",
    "**Ultimate**\n",
    "- Pago mensual: 70\\$\n",
    "- 3000 minutos al mes, 1000 SMS\n",
    "- 30 GB de datos\n",
    "\n",
    "Si se exceden los límites del paquete:\n",
    "- 1 minuto: 1 centavo\n",
    "- 1 SMS: 1 centavo\n",
    "- 1 GB de datos: 7\\$\n",
    "\n",
    "**Rutas de los archivos:**\n",
    "- /datasets/megaline_calls.csv\n",
    "- /datasets/megaline_internet.csv\n",
    "- /datasets/megaline_messages.csv\n",
    "- /datasets/megaline_plans.csv\n",
    "- /datasets/megaline_users.csv"
   ]
  },
  {
   "cell_type": "markdown",
   "id": "9dc2302e",
   "metadata": {},
   "source": [
    "## 1.2. <a id='toc1_2_'></a>[Descripción de datos](#toc0_)"
   ]
  },
  {
   "cell_type": "markdown",
   "id": "4877615d",
   "metadata": {},
   "source": [
    "Se importan las librerías"
   ]
  },
  {
   "cell_type": "code",
   "execution_count": 32,
   "id": "18c30b1a",
   "metadata": {},
   "outputs": [],
   "source": [
    "import pandas as pd\n",
    "from scipy import stats as st\n",
    "import numpy as np\n",
    "import matplotlib.pyplot as plt\n",
    "import seaborn as sns"
   ]
  },
  {
   "cell_type": "markdown",
   "id": "eb9aae6e",
   "metadata": {},
   "source": [
    "Se importan los datos de los 5 archivos"
   ]
  },
  {
   "cell_type": "code",
   "execution_count": 33,
   "id": "b087237d",
   "metadata": {},
   "outputs": [],
   "source": [
    "users_data = pd.read_csv('datasets/megaline_users.csv')\n",
    "calls_data = pd.read_csv('datasets/megaline_calls.csv')\n",
    "internet_data = pd.read_csv('datasets/megaline_internet.csv')\n",
    "messages_data = pd.read_csv('datasets/megaline_messages.csv')\n",
    "plans_data = pd.read_csv('datasets/megaline_plans.csv')"
   ]
  },
  {
   "cell_type": "markdown",
   "id": "c6088b44",
   "metadata": {},
   "source": [
    "### 1.2.1. <a id='toc1_2_1_'></a>[Descripción de users_data](#toc0_)"
   ]
  },
  {
   "cell_type": "markdown",
   "id": "a6a7a1a7",
   "metadata": {},
   "source": [
    "Se revisará la información en users_data"
   ]
  },
  {
   "cell_type": "code",
   "execution_count": 34,
   "id": "a5624637",
   "metadata": {
    "scrolled": true
   },
   "outputs": [
    {
     "name": "stdout",
     "output_type": "stream",
     "text": [
      "<class 'pandas.core.frame.DataFrame'>\n",
      "RangeIndex: 500 entries, 0 to 499\n",
      "Data columns (total 8 columns):\n",
      " #   Column      Non-Null Count  Dtype \n",
      "---  ------      --------------  ----- \n",
      " 0   user_id     500 non-null    int64 \n",
      " 1   first_name  500 non-null    object\n",
      " 2   last_name   500 non-null    object\n",
      " 3   age         500 non-null    int64 \n",
      " 4   city        500 non-null    object\n",
      " 5   reg_date    500 non-null    object\n",
      " 6   plan        500 non-null    object\n",
      " 7   churn_date  34 non-null     object\n",
      "dtypes: int64(2), object(6)\n",
      "memory usage: 31.4+ KB\n"
     ]
    }
   ],
   "source": [
    "users_data.info()"
   ]
  },
  {
   "cell_type": "markdown",
   "id": "a61eca90",
   "metadata": {},
   "source": [
    "No hay valores ausentes excepto en churn_date. Los valores ausentes en esta columna indicarían que el aun usaba el servicio al momento de recolectar estos datos. Hay 34 usuarios que han dejado el servicio."
   ]
  },
  {
   "cell_type": "code",
   "execution_count": 35,
   "id": "8e5166a5",
   "metadata": {
    "scrolled": true
   },
   "outputs": [
    {
     "data": {
      "text/html": [
       "<div>\n",
       "<style scoped>\n",
       "    .dataframe tbody tr th:only-of-type {\n",
       "        vertical-align: middle;\n",
       "    }\n",
       "\n",
       "    .dataframe tbody tr th {\n",
       "        vertical-align: top;\n",
       "    }\n",
       "\n",
       "    .dataframe thead th {\n",
       "        text-align: right;\n",
       "    }\n",
       "</style>\n",
       "<table border=\"1\" class=\"dataframe\">\n",
       "  <thead>\n",
       "    <tr style=\"text-align: right;\">\n",
       "      <th></th>\n",
       "      <th>user_id</th>\n",
       "      <th>first_name</th>\n",
       "      <th>last_name</th>\n",
       "      <th>age</th>\n",
       "      <th>city</th>\n",
       "      <th>reg_date</th>\n",
       "      <th>plan</th>\n",
       "      <th>churn_date</th>\n",
       "    </tr>\n",
       "  </thead>\n",
       "  <tbody>\n",
       "    <tr>\n",
       "      <th>0</th>\n",
       "      <td>1000</td>\n",
       "      <td>Anamaria</td>\n",
       "      <td>Bauer</td>\n",
       "      <td>45</td>\n",
       "      <td>Atlanta-Sandy Springs-Roswell, GA MSA</td>\n",
       "      <td>2018-12-24</td>\n",
       "      <td>ultimate</td>\n",
       "      <td>NaN</td>\n",
       "    </tr>\n",
       "    <tr>\n",
       "      <th>1</th>\n",
       "      <td>1001</td>\n",
       "      <td>Mickey</td>\n",
       "      <td>Wilkerson</td>\n",
       "      <td>28</td>\n",
       "      <td>Seattle-Tacoma-Bellevue, WA MSA</td>\n",
       "      <td>2018-08-13</td>\n",
       "      <td>surf</td>\n",
       "      <td>NaN</td>\n",
       "    </tr>\n",
       "    <tr>\n",
       "      <th>2</th>\n",
       "      <td>1002</td>\n",
       "      <td>Carlee</td>\n",
       "      <td>Hoffman</td>\n",
       "      <td>36</td>\n",
       "      <td>Las Vegas-Henderson-Paradise, NV MSA</td>\n",
       "      <td>2018-10-21</td>\n",
       "      <td>surf</td>\n",
       "      <td>NaN</td>\n",
       "    </tr>\n",
       "    <tr>\n",
       "      <th>3</th>\n",
       "      <td>1003</td>\n",
       "      <td>Reynaldo</td>\n",
       "      <td>Jenkins</td>\n",
       "      <td>52</td>\n",
       "      <td>Tulsa, OK MSA</td>\n",
       "      <td>2018-01-28</td>\n",
       "      <td>surf</td>\n",
       "      <td>NaN</td>\n",
       "    </tr>\n",
       "    <tr>\n",
       "      <th>4</th>\n",
       "      <td>1004</td>\n",
       "      <td>Leonila</td>\n",
       "      <td>Thompson</td>\n",
       "      <td>40</td>\n",
       "      <td>Seattle-Tacoma-Bellevue, WA MSA</td>\n",
       "      <td>2018-05-23</td>\n",
       "      <td>surf</td>\n",
       "      <td>NaN</td>\n",
       "    </tr>\n",
       "  </tbody>\n",
       "</table>\n",
       "</div>"
      ],
      "text/plain": [
       "   user_id first_name  last_name  age                                   city  \\\n",
       "0     1000   Anamaria      Bauer   45  Atlanta-Sandy Springs-Roswell, GA MSA   \n",
       "1     1001     Mickey  Wilkerson   28        Seattle-Tacoma-Bellevue, WA MSA   \n",
       "2     1002     Carlee    Hoffman   36   Las Vegas-Henderson-Paradise, NV MSA   \n",
       "3     1003   Reynaldo    Jenkins   52                          Tulsa, OK MSA   \n",
       "4     1004    Leonila   Thompson   40        Seattle-Tacoma-Bellevue, WA MSA   \n",
       "\n",
       "     reg_date      plan churn_date  \n",
       "0  2018-12-24  ultimate        NaN  \n",
       "1  2018-08-13      surf        NaN  \n",
       "2  2018-10-21      surf        NaN  \n",
       "3  2018-01-28      surf        NaN  \n",
       "4  2018-05-23      surf        NaN  "
      ]
     },
     "execution_count": 35,
     "metadata": {},
     "output_type": "execute_result"
    }
   ],
   "source": [
    "users_data.head()"
   ]
  },
  {
   "cell_type": "markdown",
   "id": "65d0d6a8",
   "metadata": {},
   "source": [
    "- Se cambiara el formato de strings a date para reg_date.\n",
    "- Se obtendrá una columna nueva con los valores del mes de reg_date."
   ]
  },
  {
   "cell_type": "markdown",
   "id": "5eeb4589",
   "metadata": {},
   "source": [
    "### 1.2.2. <a id='toc1_2_2_'></a>[Descripción de calls_data](#toc0_)"
   ]
  },
  {
   "cell_type": "code",
   "execution_count": 36,
   "id": "d265b322",
   "metadata": {},
   "outputs": [
    {
     "name": "stdout",
     "output_type": "stream",
     "text": [
      "<class 'pandas.core.frame.DataFrame'>\n",
      "RangeIndex: 137735 entries, 0 to 137734\n",
      "Data columns (total 4 columns):\n",
      " #   Column     Non-Null Count   Dtype  \n",
      "---  ------     --------------   -----  \n",
      " 0   id         137735 non-null  object \n",
      " 1   user_id    137735 non-null  int64  \n",
      " 2   call_date  137735 non-null  object \n",
      " 3   duration   137735 non-null  float64\n",
      "dtypes: float64(1), int64(1), object(2)\n",
      "memory usage: 4.2+ MB\n"
     ]
    }
   ],
   "source": [
    "calls_data.info()"
   ]
  },
  {
   "cell_type": "markdown",
   "id": "ed46b25b",
   "metadata": {},
   "source": [
    "No hay valores ausentes en calls_data"
   ]
  },
  {
   "cell_type": "code",
   "execution_count": 37,
   "id": "7a8280c8",
   "metadata": {},
   "outputs": [
    {
     "data": {
      "text/html": [
       "<div>\n",
       "<style scoped>\n",
       "    .dataframe tbody tr th:only-of-type {\n",
       "        vertical-align: middle;\n",
       "    }\n",
       "\n",
       "    .dataframe tbody tr th {\n",
       "        vertical-align: top;\n",
       "    }\n",
       "\n",
       "    .dataframe thead th {\n",
       "        text-align: right;\n",
       "    }\n",
       "</style>\n",
       "<table border=\"1\" class=\"dataframe\">\n",
       "  <thead>\n",
       "    <tr style=\"text-align: right;\">\n",
       "      <th></th>\n",
       "      <th>id</th>\n",
       "      <th>user_id</th>\n",
       "      <th>call_date</th>\n",
       "      <th>duration</th>\n",
       "    </tr>\n",
       "  </thead>\n",
       "  <tbody>\n",
       "    <tr>\n",
       "      <th>0</th>\n",
       "      <td>1000_93</td>\n",
       "      <td>1000</td>\n",
       "      <td>2018-12-27</td>\n",
       "      <td>8.52</td>\n",
       "    </tr>\n",
       "    <tr>\n",
       "      <th>1</th>\n",
       "      <td>1000_145</td>\n",
       "      <td>1000</td>\n",
       "      <td>2018-12-27</td>\n",
       "      <td>13.66</td>\n",
       "    </tr>\n",
       "    <tr>\n",
       "      <th>2</th>\n",
       "      <td>1000_247</td>\n",
       "      <td>1000</td>\n",
       "      <td>2018-12-27</td>\n",
       "      <td>14.48</td>\n",
       "    </tr>\n",
       "    <tr>\n",
       "      <th>3</th>\n",
       "      <td>1000_309</td>\n",
       "      <td>1000</td>\n",
       "      <td>2018-12-28</td>\n",
       "      <td>5.76</td>\n",
       "    </tr>\n",
       "    <tr>\n",
       "      <th>4</th>\n",
       "      <td>1000_380</td>\n",
       "      <td>1000</td>\n",
       "      <td>2018-12-30</td>\n",
       "      <td>4.22</td>\n",
       "    </tr>\n",
       "  </tbody>\n",
       "</table>\n",
       "</div>"
      ],
      "text/plain": [
       "         id  user_id   call_date  duration\n",
       "0   1000_93     1000  2018-12-27      8.52\n",
       "1  1000_145     1000  2018-12-27     13.66\n",
       "2  1000_247     1000  2018-12-27     14.48\n",
       "3  1000_309     1000  2018-12-28      5.76\n",
       "4  1000_380     1000  2018-12-30      4.22"
      ]
     },
     "execution_count": 37,
     "metadata": {},
     "output_type": "execute_result"
    }
   ],
   "source": [
    "calls_data.head()"
   ]
  },
  {
   "cell_type": "markdown",
   "id": "646770d8",
   "metadata": {},
   "source": [
    "- Se cambiará el formato de strings a date para call_date\n",
    "- Hay llamadas con duración de cero minutos, quizás debido a llamadas perdidas realizadas. Como se van a contar las llamadas, estas que no generan ingresos no nos interesa mucho, se van a eliminar.\n",
    "- Se creará una columna con el mes del call_date, para obtener el total de llamadas y duración por mes.\n",
    "- Los datos de duration  se redondearán al entero mayor para los calculos a realizar"
   ]
  },
  {
   "cell_type": "markdown",
   "id": "cc6dc243",
   "metadata": {},
   "source": [
    "### 1.2.3. <a id='toc1_2_3_'></a>[Descripción de internet_data](#toc0_)"
   ]
  },
  {
   "cell_type": "code",
   "execution_count": 38,
   "id": "0ea88e00",
   "metadata": {
    "scrolled": true
   },
   "outputs": [
    {
     "name": "stdout",
     "output_type": "stream",
     "text": [
      "<class 'pandas.core.frame.DataFrame'>\n",
      "RangeIndex: 104825 entries, 0 to 104824\n",
      "Data columns (total 4 columns):\n",
      " #   Column        Non-Null Count   Dtype  \n",
      "---  ------        --------------   -----  \n",
      " 0   id            104825 non-null  object \n",
      " 1   user_id       104825 non-null  int64  \n",
      " 2   session_date  104825 non-null  object \n",
      " 3   mb_used       104825 non-null  float64\n",
      "dtypes: float64(1), int64(1), object(2)\n",
      "memory usage: 3.2+ MB\n"
     ]
    }
   ],
   "source": [
    "internet_data.info()"
   ]
  },
  {
   "cell_type": "markdown",
   "id": "1140029a",
   "metadata": {},
   "source": [
    "No hay valores ausentes en internet_data"
   ]
  },
  {
   "cell_type": "code",
   "execution_count": 39,
   "id": "3b94672b",
   "metadata": {
    "scrolled": true
   },
   "outputs": [
    {
     "data": {
      "text/html": [
       "<div>\n",
       "<style scoped>\n",
       "    .dataframe tbody tr th:only-of-type {\n",
       "        vertical-align: middle;\n",
       "    }\n",
       "\n",
       "    .dataframe tbody tr th {\n",
       "        vertical-align: top;\n",
       "    }\n",
       "\n",
       "    .dataframe thead th {\n",
       "        text-align: right;\n",
       "    }\n",
       "</style>\n",
       "<table border=\"1\" class=\"dataframe\">\n",
       "  <thead>\n",
       "    <tr style=\"text-align: right;\">\n",
       "      <th></th>\n",
       "      <th>id</th>\n",
       "      <th>user_id</th>\n",
       "      <th>session_date</th>\n",
       "      <th>mb_used</th>\n",
       "    </tr>\n",
       "  </thead>\n",
       "  <tbody>\n",
       "    <tr>\n",
       "      <th>0</th>\n",
       "      <td>1000_13</td>\n",
       "      <td>1000</td>\n",
       "      <td>2018-12-29</td>\n",
       "      <td>89.86</td>\n",
       "    </tr>\n",
       "    <tr>\n",
       "      <th>1</th>\n",
       "      <td>1000_204</td>\n",
       "      <td>1000</td>\n",
       "      <td>2018-12-31</td>\n",
       "      <td>0.00</td>\n",
       "    </tr>\n",
       "    <tr>\n",
       "      <th>2</th>\n",
       "      <td>1000_379</td>\n",
       "      <td>1000</td>\n",
       "      <td>2018-12-28</td>\n",
       "      <td>660.40</td>\n",
       "    </tr>\n",
       "    <tr>\n",
       "      <th>3</th>\n",
       "      <td>1000_413</td>\n",
       "      <td>1000</td>\n",
       "      <td>2018-12-26</td>\n",
       "      <td>270.99</td>\n",
       "    </tr>\n",
       "    <tr>\n",
       "      <th>4</th>\n",
       "      <td>1000_442</td>\n",
       "      <td>1000</td>\n",
       "      <td>2018-12-27</td>\n",
       "      <td>880.22</td>\n",
       "    </tr>\n",
       "  </tbody>\n",
       "</table>\n",
       "</div>"
      ],
      "text/plain": [
       "         id  user_id session_date  mb_used\n",
       "0   1000_13     1000   2018-12-29    89.86\n",
       "1  1000_204     1000   2018-12-31     0.00\n",
       "2  1000_379     1000   2018-12-28   660.40\n",
       "3  1000_413     1000   2018-12-26   270.99\n",
       "4  1000_442     1000   2018-12-27   880.22"
      ]
     },
     "execution_count": 39,
     "metadata": {},
     "output_type": "execute_result"
    }
   ],
   "source": [
    "internet_data.head()"
   ]
  },
  {
   "cell_type": "markdown",
   "id": "aa74bdd7",
   "metadata": {},
   "source": [
    "- Se cambiará el formato de strings a date para session_date\n",
    "- Hay entradas con megas usados igual cero, quizás debido a perdida de conexión o la página no cargó. No nos interesan este tipo de datos, se va a tratar de eliminarlos.\n",
    "- Se creará una columna con el mes del session_date, para obtener el total por mes por usuario.\n",
    "- Los datos de mb_used se convertirán a Gb y se redondearán entero mayor para los calculos a realizar."
   ]
  },
  {
   "cell_type": "markdown",
   "id": "e7134606",
   "metadata": {},
   "source": [
    "### 1.2.4. <a id='toc1_2_4_'></a>[Descripción de messages_data](#toc0_)"
   ]
  },
  {
   "cell_type": "code",
   "execution_count": 40,
   "id": "02895a07",
   "metadata": {},
   "outputs": [
    {
     "name": "stdout",
     "output_type": "stream",
     "text": [
      "<class 'pandas.core.frame.DataFrame'>\n",
      "RangeIndex: 76051 entries, 0 to 76050\n",
      "Data columns (total 3 columns):\n",
      " #   Column        Non-Null Count  Dtype \n",
      "---  ------        --------------  ----- \n",
      " 0   id            76051 non-null  object\n",
      " 1   user_id       76051 non-null  int64 \n",
      " 2   message_date  76051 non-null  object\n",
      "dtypes: int64(1), object(2)\n",
      "memory usage: 1.7+ MB\n"
     ]
    }
   ],
   "source": [
    "messages_data.info()"
   ]
  },
  {
   "cell_type": "code",
   "execution_count": 41,
   "id": "d7cdbb4b",
   "metadata": {},
   "outputs": [
    {
     "data": {
      "text/html": [
       "<div>\n",
       "<style scoped>\n",
       "    .dataframe tbody tr th:only-of-type {\n",
       "        vertical-align: middle;\n",
       "    }\n",
       "\n",
       "    .dataframe tbody tr th {\n",
       "        vertical-align: top;\n",
       "    }\n",
       "\n",
       "    .dataframe thead th {\n",
       "        text-align: right;\n",
       "    }\n",
       "</style>\n",
       "<table border=\"1\" class=\"dataframe\">\n",
       "  <thead>\n",
       "    <tr style=\"text-align: right;\">\n",
       "      <th></th>\n",
       "      <th>id</th>\n",
       "      <th>user_id</th>\n",
       "      <th>message_date</th>\n",
       "    </tr>\n",
       "  </thead>\n",
       "  <tbody>\n",
       "    <tr>\n",
       "      <th>0</th>\n",
       "      <td>1000_125</td>\n",
       "      <td>1000</td>\n",
       "      <td>2018-12-27</td>\n",
       "    </tr>\n",
       "    <tr>\n",
       "      <th>1</th>\n",
       "      <td>1000_160</td>\n",
       "      <td>1000</td>\n",
       "      <td>2018-12-31</td>\n",
       "    </tr>\n",
       "    <tr>\n",
       "      <th>2</th>\n",
       "      <td>1000_223</td>\n",
       "      <td>1000</td>\n",
       "      <td>2018-12-31</td>\n",
       "    </tr>\n",
       "    <tr>\n",
       "      <th>3</th>\n",
       "      <td>1000_251</td>\n",
       "      <td>1000</td>\n",
       "      <td>2018-12-27</td>\n",
       "    </tr>\n",
       "    <tr>\n",
       "      <th>4</th>\n",
       "      <td>1000_255</td>\n",
       "      <td>1000</td>\n",
       "      <td>2018-12-26</td>\n",
       "    </tr>\n",
       "  </tbody>\n",
       "</table>\n",
       "</div>"
      ],
      "text/plain": [
       "         id  user_id message_date\n",
       "0  1000_125     1000   2018-12-27\n",
       "1  1000_160     1000   2018-12-31\n",
       "2  1000_223     1000   2018-12-31\n",
       "3  1000_251     1000   2018-12-27\n",
       "4  1000_255     1000   2018-12-26"
      ]
     },
     "execution_count": 41,
     "metadata": {},
     "output_type": "execute_result"
    }
   ],
   "source": [
    "messages_data.head()"
   ]
  },
  {
   "cell_type": "markdown",
   "id": "ade31fe4",
   "metadata": {},
   "source": [
    "- Se cambiará el formato de strings a date para message_date\n",
    "- Se creará una columna con el mes del message_date, para obtener el total por mes por usuario."
   ]
  },
  {
   "cell_type": "markdown",
   "id": "7ce27a01",
   "metadata": {},
   "source": [
    "### 1.2.5. <a id='toc1_2_5_'></a>[Descripción de plans_data](#toc0_)"
   ]
  },
  {
   "cell_type": "code",
   "execution_count": 42,
   "id": "2b9be9b9",
   "metadata": {},
   "outputs": [
    {
     "name": "stdout",
     "output_type": "stream",
     "text": [
      "<class 'pandas.core.frame.DataFrame'>\n",
      "RangeIndex: 2 entries, 0 to 1\n",
      "Data columns (total 8 columns):\n",
      " #   Column                 Non-Null Count  Dtype  \n",
      "---  ------                 --------------  -----  \n",
      " 0   messages_included      2 non-null      int64  \n",
      " 1   mb_per_month_included  2 non-null      int64  \n",
      " 2   minutes_included       2 non-null      int64  \n",
      " 3   usd_monthly_pay        2 non-null      int64  \n",
      " 4   usd_per_gb             2 non-null      int64  \n",
      " 5   usd_per_message        2 non-null      float64\n",
      " 6   usd_per_minute         2 non-null      float64\n",
      " 7   plan_name              2 non-null      object \n",
      "dtypes: float64(2), int64(5), object(1)\n",
      "memory usage: 256.0+ bytes\n"
     ]
    }
   ],
   "source": [
    "plans_data.info()"
   ]
  },
  {
   "cell_type": "code",
   "execution_count": 43,
   "id": "dd247a8c",
   "metadata": {},
   "outputs": [
    {
     "data": {
      "text/html": [
       "<div>\n",
       "<style scoped>\n",
       "    .dataframe tbody tr th:only-of-type {\n",
       "        vertical-align: middle;\n",
       "    }\n",
       "\n",
       "    .dataframe tbody tr th {\n",
       "        vertical-align: top;\n",
       "    }\n",
       "\n",
       "    .dataframe thead th {\n",
       "        text-align: right;\n",
       "    }\n",
       "</style>\n",
       "<table border=\"1\" class=\"dataframe\">\n",
       "  <thead>\n",
       "    <tr style=\"text-align: right;\">\n",
       "      <th></th>\n",
       "      <th>messages_included</th>\n",
       "      <th>mb_per_month_included</th>\n",
       "      <th>minutes_included</th>\n",
       "      <th>usd_monthly_pay</th>\n",
       "      <th>usd_per_gb</th>\n",
       "      <th>usd_per_message</th>\n",
       "      <th>usd_per_minute</th>\n",
       "      <th>plan_name</th>\n",
       "    </tr>\n",
       "  </thead>\n",
       "  <tbody>\n",
       "    <tr>\n",
       "      <th>0</th>\n",
       "      <td>50</td>\n",
       "      <td>15360</td>\n",
       "      <td>500</td>\n",
       "      <td>20</td>\n",
       "      <td>10</td>\n",
       "      <td>0.03</td>\n",
       "      <td>0.03</td>\n",
       "      <td>surf</td>\n",
       "    </tr>\n",
       "    <tr>\n",
       "      <th>1</th>\n",
       "      <td>1000</td>\n",
       "      <td>30720</td>\n",
       "      <td>3000</td>\n",
       "      <td>70</td>\n",
       "      <td>7</td>\n",
       "      <td>0.01</td>\n",
       "      <td>0.01</td>\n",
       "      <td>ultimate</td>\n",
       "    </tr>\n",
       "  </tbody>\n",
       "</table>\n",
       "</div>"
      ],
      "text/plain": [
       "   messages_included  mb_per_month_included  minutes_included  \\\n",
       "0                 50                  15360               500   \n",
       "1               1000                  30720              3000   \n",
       "\n",
       "   usd_monthly_pay  usd_per_gb  usd_per_message  usd_per_minute plan_name  \n",
       "0               20          10             0.03            0.03      surf  \n",
       "1               70           7             0.01            0.01  ultimate  "
      ]
     },
     "execution_count": 43,
     "metadata": {},
     "output_type": "execute_result"
    }
   ],
   "source": [
    "plans_data"
   ]
  },
  {
   "cell_type": "markdown",
   "id": "110e3713",
   "metadata": {},
   "source": [
    "- Solo hay dos planes, por lo que solo tenemos dos filas de datos.\n",
    "- Los límites para cada plan se obtendrán de esta tabla"
   ]
  },
  {
   "cell_type": "markdown",
   "id": "968b40a7",
   "metadata": {},
   "source": [
    "### 1.2.6. <a id='toc1_2_6_'></a>[Conclusiones intermedias](#toc0_)"
   ]
  },
  {
   "cell_type": "markdown",
   "id": "f81d0df6",
   "metadata": {},
   "source": [
    "- Se observaron los datos de las 5 tablas proporcionadas de los usuarios, llamadas, internet, mensajes y plan. No casi no hubiero datos ausentes que hayan que rellenar.\n",
    "- En la única tabla con datos ausentes, la columna de `churn_date` en users_data, estos nos indican los usuarios que aun usaban el servicio en el 2018.\n",
    "    - Se van a rellenar con una fecha del 2019, para que no afecte los datos del 2018.\n",
    "- En todas las tablas, excepto la de plans_data, se convertirán las columnas de fechas en variables de datetime."
   ]
  },
  {
   "cell_type": "markdown",
   "id": "633f1013",
   "metadata": {},
   "source": [
    "## 1.3. <a id='toc1_3_'></a>[Procesamiento de datos](#toc0_)"
   ]
  },
  {
   "cell_type": "markdown",
   "id": "19daffaf",
   "metadata": {},
   "source": [
    "Se guardará una copia de los dataframes originales, para trabajar con copias y no perder las tablas iniciales."
   ]
  },
  {
   "cell_type": "code",
   "execution_count": 44,
   "id": "0c47fa5d",
   "metadata": {},
   "outputs": [],
   "source": [
    "calls_data_original = calls_data.copy()\n",
    "internet_data_original = internet_data.copy()\n",
    "messages_data_original = messages_data.copy()\n",
    "plans_data_original = plans_data.copy()\n",
    "users_data_original = users_data.copy()"
   ]
  },
  {
   "cell_type": "markdown",
   "id": "fd60b2e2",
   "metadata": {},
   "source": [
    "### 1.3.1. <a id='toc1_3_1_'></a>[Preprocesamiento de users_data](#toc0_)"
   ]
  },
  {
   "cell_type": "markdown",
   "id": "10689d5b",
   "metadata": {},
   "source": [
    "Se procederá a cambiar a tipo de fecha las columnas de `churn_date` and `reg_date`"
   ]
  },
  {
   "cell_type": "code",
   "execution_count": 45,
   "id": "e3750274",
   "metadata": {},
   "outputs": [],
   "source": [
    "users_data['reg_date'] = pd.to_datetime(users_data['reg_date'], format='%Y-%m-%d')\n",
    "users_data['churn_date'] = pd.to_datetime(users_data['churn_date'], format='%Y-%m-%d')"
   ]
  },
  {
   "cell_type": "markdown",
   "id": "e9099069",
   "metadata": {},
   "source": [
    "Se comprueba si el cambio de formatos se realizó correctamente"
   ]
  },
  {
   "cell_type": "code",
   "execution_count": 46,
   "id": "984ff708",
   "metadata": {
    "scrolled": false
   },
   "outputs": [
    {
     "name": "stdout",
     "output_type": "stream",
     "text": [
      "<class 'pandas.core.frame.DataFrame'>\n",
      "RangeIndex: 500 entries, 0 to 499\n",
      "Data columns (total 8 columns):\n",
      " #   Column      Non-Null Count  Dtype         \n",
      "---  ------      --------------  -----         \n",
      " 0   user_id     500 non-null    int64         \n",
      " 1   first_name  500 non-null    object        \n",
      " 2   last_name   500 non-null    object        \n",
      " 3   age         500 non-null    int64         \n",
      " 4   city        500 non-null    object        \n",
      " 5   reg_date    500 non-null    datetime64[ns]\n",
      " 6   plan        500 non-null    object        \n",
      " 7   churn_date  34 non-null     datetime64[ns]\n",
      "dtypes: datetime64[ns](2), int64(2), object(4)\n",
      "memory usage: 31.4+ KB\n"
     ]
    }
   ],
   "source": [
    "users_data.info()"
   ]
  },
  {
   "cell_type": "markdown",
   "id": "dfbee18e",
   "metadata": {},
   "source": [
    "Vamos a revisar el rango de fechas de `reg_date` y `churn_date`"
   ]
  },
  {
   "cell_type": "code",
   "execution_count": 47,
   "id": "03efe6e1",
   "metadata": {
    "scrolled": false
   },
   "outputs": [
    {
     "name": "stdout",
     "output_type": "stream",
     "text": [
      "Minima fecha de reg_date 2018-01-01 00:00:00\n",
      "Máxima fecha de reg_date 2018-12-31 00:00:00\n"
     ]
    }
   ],
   "source": [
    "print(f'Minima fecha de reg_date {users_data[\"reg_date\"].min()}')\n",
    "print(f'Máxima fecha de reg_date {users_data[\"reg_date\"].max()}')"
   ]
  },
  {
   "cell_type": "code",
   "execution_count": 48,
   "id": "96ed8d2e",
   "metadata": {
    "scrolled": true
   },
   "outputs": [
    {
     "name": "stdout",
     "output_type": "stream",
     "text": [
      "Minima fecha de churn_date 2018-07-31 00:00:00\n",
      "Máxima fecha de churn_date 2018-12-31 00:00:00\n"
     ]
    }
   ],
   "source": [
    "print(f'Minima fecha de churn_date {users_data[\"churn_date\"].min()}')\n",
    "print(f'Máxima fecha de churn_date {users_data[\"churn_date\"].max()}')"
   ]
  },
  {
   "cell_type": "markdown",
   "id": "8aa321b5",
   "metadata": {},
   "source": [
    "Todas las fechas son del año 2018, solo necesitamos obtener el mes, ya que el año es el mismo."
   ]
  },
  {
   "cell_type": "markdown",
   "id": "96c2b906",
   "metadata": {},
   "source": [
    "Vamos a rellenar los ausentes con de churn_data con una fecha del 2019."
   ]
  },
  {
   "cell_type": "code",
   "execution_count": 49,
   "id": "fd9b4cb0",
   "metadata": {},
   "outputs": [],
   "source": [
    "users_data['churn_date'] = users_data['churn_date'].fillna(pd.to_datetime('2019-01-01'))"
   ]
  },
  {
   "cell_type": "code",
   "execution_count": 50,
   "id": "5b4d5a7e",
   "metadata": {
    "scrolled": true
   },
   "outputs": [
    {
     "name": "stdout",
     "output_type": "stream",
     "text": [
      "<class 'pandas.core.frame.DataFrame'>\n",
      "RangeIndex: 500 entries, 0 to 499\n",
      "Data columns (total 8 columns):\n",
      " #   Column      Non-Null Count  Dtype         \n",
      "---  ------      --------------  -----         \n",
      " 0   user_id     500 non-null    int64         \n",
      " 1   first_name  500 non-null    object        \n",
      " 2   last_name   500 non-null    object        \n",
      " 3   age         500 non-null    int64         \n",
      " 4   city        500 non-null    object        \n",
      " 5   reg_date    500 non-null    datetime64[ns]\n",
      " 6   plan        500 non-null    object        \n",
      " 7   churn_date  500 non-null    datetime64[ns]\n",
      "dtypes: datetime64[ns](2), int64(2), object(4)\n",
      "memory usage: 31.4+ KB\n"
     ]
    }
   ],
   "source": [
    "users_data.info()"
   ]
  },
  {
   "cell_type": "markdown",
   "id": "c308a038",
   "metadata": {},
   "source": [
    "Ya no quedan valores ausentes."
   ]
  },
  {
   "cell_type": "markdown",
   "id": "6978e5ab",
   "metadata": {},
   "source": [
    "Cremos una columna con el equivalente del mes de `reg_date` y  `churn_date`. Para `churn_date`, si el año es 2019, se reemplazará con cero en `churn_month`."
   ]
  },
  {
   "cell_type": "code",
   "execution_count": 51,
   "id": "b67f0e77",
   "metadata": {
    "scrolled": false
   },
   "outputs": [
    {
     "data": {
      "text/html": [
       "<div>\n",
       "<style scoped>\n",
       "    .dataframe tbody tr th:only-of-type {\n",
       "        vertical-align: middle;\n",
       "    }\n",
       "\n",
       "    .dataframe tbody tr th {\n",
       "        vertical-align: top;\n",
       "    }\n",
       "\n",
       "    .dataframe thead th {\n",
       "        text-align: right;\n",
       "    }\n",
       "</style>\n",
       "<table border=\"1\" class=\"dataframe\">\n",
       "  <thead>\n",
       "    <tr style=\"text-align: right;\">\n",
       "      <th></th>\n",
       "      <th>user_id</th>\n",
       "      <th>first_name</th>\n",
       "      <th>last_name</th>\n",
       "      <th>age</th>\n",
       "      <th>city</th>\n",
       "      <th>reg_date</th>\n",
       "      <th>plan</th>\n",
       "      <th>churn_date</th>\n",
       "      <th>reg_month</th>\n",
       "    </tr>\n",
       "  </thead>\n",
       "  <tbody>\n",
       "    <tr>\n",
       "      <th>0</th>\n",
       "      <td>1000</td>\n",
       "      <td>Anamaria</td>\n",
       "      <td>Bauer</td>\n",
       "      <td>45</td>\n",
       "      <td>Atlanta-Sandy Springs-Roswell, GA MSA</td>\n",
       "      <td>2018-12-24</td>\n",
       "      <td>ultimate</td>\n",
       "      <td>2019-01-01</td>\n",
       "      <td>12</td>\n",
       "    </tr>\n",
       "    <tr>\n",
       "      <th>1</th>\n",
       "      <td>1001</td>\n",
       "      <td>Mickey</td>\n",
       "      <td>Wilkerson</td>\n",
       "      <td>28</td>\n",
       "      <td>Seattle-Tacoma-Bellevue, WA MSA</td>\n",
       "      <td>2018-08-13</td>\n",
       "      <td>surf</td>\n",
       "      <td>2019-01-01</td>\n",
       "      <td>8</td>\n",
       "    </tr>\n",
       "    <tr>\n",
       "      <th>2</th>\n",
       "      <td>1002</td>\n",
       "      <td>Carlee</td>\n",
       "      <td>Hoffman</td>\n",
       "      <td>36</td>\n",
       "      <td>Las Vegas-Henderson-Paradise, NV MSA</td>\n",
       "      <td>2018-10-21</td>\n",
       "      <td>surf</td>\n",
       "      <td>2019-01-01</td>\n",
       "      <td>10</td>\n",
       "    </tr>\n",
       "    <tr>\n",
       "      <th>3</th>\n",
       "      <td>1003</td>\n",
       "      <td>Reynaldo</td>\n",
       "      <td>Jenkins</td>\n",
       "      <td>52</td>\n",
       "      <td>Tulsa, OK MSA</td>\n",
       "      <td>2018-01-28</td>\n",
       "      <td>surf</td>\n",
       "      <td>2019-01-01</td>\n",
       "      <td>1</td>\n",
       "    </tr>\n",
       "    <tr>\n",
       "      <th>4</th>\n",
       "      <td>1004</td>\n",
       "      <td>Leonila</td>\n",
       "      <td>Thompson</td>\n",
       "      <td>40</td>\n",
       "      <td>Seattle-Tacoma-Bellevue, WA MSA</td>\n",
       "      <td>2018-05-23</td>\n",
       "      <td>surf</td>\n",
       "      <td>2019-01-01</td>\n",
       "      <td>5</td>\n",
       "    </tr>\n",
       "  </tbody>\n",
       "</table>\n",
       "</div>"
      ],
      "text/plain": [
       "   user_id first_name  last_name  age                                   city  \\\n",
       "0     1000   Anamaria      Bauer   45  Atlanta-Sandy Springs-Roswell, GA MSA   \n",
       "1     1001     Mickey  Wilkerson   28        Seattle-Tacoma-Bellevue, WA MSA   \n",
       "2     1002     Carlee    Hoffman   36   Las Vegas-Henderson-Paradise, NV MSA   \n",
       "3     1003   Reynaldo    Jenkins   52                          Tulsa, OK MSA   \n",
       "4     1004    Leonila   Thompson   40        Seattle-Tacoma-Bellevue, WA MSA   \n",
       "\n",
       "    reg_date      plan churn_date  reg_month  \n",
       "0 2018-12-24  ultimate 2019-01-01         12  \n",
       "1 2018-08-13      surf 2019-01-01          8  \n",
       "2 2018-10-21      surf 2019-01-01         10  \n",
       "3 2018-01-28      surf 2019-01-01          1  \n",
       "4 2018-05-23      surf 2019-01-01          5  "
      ]
     },
     "execution_count": 51,
     "metadata": {},
     "output_type": "execute_result"
    }
   ],
   "source": [
    "users_data['reg_month'] = users_data['reg_date'].dt.month\n",
    "users_data.head()"
   ]
  },
  {
   "cell_type": "code",
   "execution_count": 52,
   "id": "598bfa1c",
   "metadata": {},
   "outputs": [
    {
     "data": {
      "text/html": [
       "<div>\n",
       "<style scoped>\n",
       "    .dataframe tbody tr th:only-of-type {\n",
       "        vertical-align: middle;\n",
       "    }\n",
       "\n",
       "    .dataframe tbody tr th {\n",
       "        vertical-align: top;\n",
       "    }\n",
       "\n",
       "    .dataframe thead th {\n",
       "        text-align: right;\n",
       "    }\n",
       "</style>\n",
       "<table border=\"1\" class=\"dataframe\">\n",
       "  <thead>\n",
       "    <tr style=\"text-align: right;\">\n",
       "      <th></th>\n",
       "      <th>user_id</th>\n",
       "      <th>first_name</th>\n",
       "      <th>last_name</th>\n",
       "      <th>age</th>\n",
       "      <th>city</th>\n",
       "      <th>reg_date</th>\n",
       "      <th>plan</th>\n",
       "      <th>churn_date</th>\n",
       "      <th>reg_month</th>\n",
       "      <th>churn_month</th>\n",
       "    </tr>\n",
       "  </thead>\n",
       "  <tbody>\n",
       "    <tr>\n",
       "      <th>0</th>\n",
       "      <td>1000</td>\n",
       "      <td>Anamaria</td>\n",
       "      <td>Bauer</td>\n",
       "      <td>45</td>\n",
       "      <td>Atlanta-Sandy Springs-Roswell, GA MSA</td>\n",
       "      <td>2018-12-24</td>\n",
       "      <td>ultimate</td>\n",
       "      <td>2019-01-01</td>\n",
       "      <td>12</td>\n",
       "      <td>0</td>\n",
       "    </tr>\n",
       "    <tr>\n",
       "      <th>1</th>\n",
       "      <td>1001</td>\n",
       "      <td>Mickey</td>\n",
       "      <td>Wilkerson</td>\n",
       "      <td>28</td>\n",
       "      <td>Seattle-Tacoma-Bellevue, WA MSA</td>\n",
       "      <td>2018-08-13</td>\n",
       "      <td>surf</td>\n",
       "      <td>2019-01-01</td>\n",
       "      <td>8</td>\n",
       "      <td>0</td>\n",
       "    </tr>\n",
       "    <tr>\n",
       "      <th>2</th>\n",
       "      <td>1002</td>\n",
       "      <td>Carlee</td>\n",
       "      <td>Hoffman</td>\n",
       "      <td>36</td>\n",
       "      <td>Las Vegas-Henderson-Paradise, NV MSA</td>\n",
       "      <td>2018-10-21</td>\n",
       "      <td>surf</td>\n",
       "      <td>2019-01-01</td>\n",
       "      <td>10</td>\n",
       "      <td>0</td>\n",
       "    </tr>\n",
       "    <tr>\n",
       "      <th>3</th>\n",
       "      <td>1003</td>\n",
       "      <td>Reynaldo</td>\n",
       "      <td>Jenkins</td>\n",
       "      <td>52</td>\n",
       "      <td>Tulsa, OK MSA</td>\n",
       "      <td>2018-01-28</td>\n",
       "      <td>surf</td>\n",
       "      <td>2019-01-01</td>\n",
       "      <td>1</td>\n",
       "      <td>0</td>\n",
       "    </tr>\n",
       "    <tr>\n",
       "      <th>4</th>\n",
       "      <td>1004</td>\n",
       "      <td>Leonila</td>\n",
       "      <td>Thompson</td>\n",
       "      <td>40</td>\n",
       "      <td>Seattle-Tacoma-Bellevue, WA MSA</td>\n",
       "      <td>2018-05-23</td>\n",
       "      <td>surf</td>\n",
       "      <td>2019-01-01</td>\n",
       "      <td>5</td>\n",
       "      <td>0</td>\n",
       "    </tr>\n",
       "  </tbody>\n",
       "</table>\n",
       "</div>"
      ],
      "text/plain": [
       "   user_id first_name  last_name  age                                   city  \\\n",
       "0     1000   Anamaria      Bauer   45  Atlanta-Sandy Springs-Roswell, GA MSA   \n",
       "1     1001     Mickey  Wilkerson   28        Seattle-Tacoma-Bellevue, WA MSA   \n",
       "2     1002     Carlee    Hoffman   36   Las Vegas-Henderson-Paradise, NV MSA   \n",
       "3     1003   Reynaldo    Jenkins   52                          Tulsa, OK MSA   \n",
       "4     1004    Leonila   Thompson   40        Seattle-Tacoma-Bellevue, WA MSA   \n",
       "\n",
       "    reg_date      plan churn_date  reg_month  churn_month  \n",
       "0 2018-12-24  ultimate 2019-01-01         12            0  \n",
       "1 2018-08-13      surf 2019-01-01          8            0  \n",
       "2 2018-10-21      surf 2019-01-01         10            0  \n",
       "3 2018-01-28      surf 2019-01-01          1            0  \n",
       "4 2018-05-23      surf 2019-01-01          5            0  "
      ]
     },
     "execution_count": 52,
     "metadata": {},
     "output_type": "execute_result"
    }
   ],
   "source": [
    "users_data['churn_month'] = users_data['churn_date'].dt.month\n",
    "users_data.loc[users_data['churn_date'].dt.year == 2019,'churn_month'] = 0\n",
    "users_data.head()"
   ]
  },
  {
   "cell_type": "markdown",
   "id": "af2e732f",
   "metadata": {},
   "source": [
    "### 1.3.2. <a id='toc1_3_2_'></a>[Preprocesamiento de calls_data](#toc0_)"
   ]
  },
  {
   "cell_type": "markdown",
   "id": "1404f619",
   "metadata": {},
   "source": [
    "Procedemos a cambiar el formato de strings a date para `call_date`"
   ]
  },
  {
   "cell_type": "code",
   "execution_count": 53,
   "id": "95fbb712",
   "metadata": {},
   "outputs": [],
   "source": [
    "calls_data['call_date'] = pd.to_datetime(calls_data['call_date'], format='%Y-%m-%d')"
   ]
  },
  {
   "cell_type": "markdown",
   "id": "75f704ba",
   "metadata": {},
   "source": [
    "Se comprueba si el cambio de formatos se realizó correctamente"
   ]
  },
  {
   "cell_type": "code",
   "execution_count": 54,
   "id": "942b0dfd",
   "metadata": {
    "scrolled": false
   },
   "outputs": [
    {
     "name": "stdout",
     "output_type": "stream",
     "text": [
      "<class 'pandas.core.frame.DataFrame'>\n",
      "RangeIndex: 137735 entries, 0 to 137734\n",
      "Data columns (total 4 columns):\n",
      " #   Column     Non-Null Count   Dtype         \n",
      "---  ------     --------------   -----         \n",
      " 0   id         137735 non-null  object        \n",
      " 1   user_id    137735 non-null  int64         \n",
      " 2   call_date  137735 non-null  datetime64[ns]\n",
      " 3   duration   137735 non-null  float64       \n",
      "dtypes: datetime64[ns](1), float64(1), int64(1), object(1)\n",
      "memory usage: 4.2+ MB\n"
     ]
    }
   ],
   "source": [
    "calls_data.info()"
   ]
  },
  {
   "cell_type": "markdown",
   "id": "9988fcc4",
   "metadata": {},
   "source": [
    "Continuamos revisando la cantidad de llamadas con duración de cero minutos. Se va a obtener el número de llamadas y su relación con todos los datos disponibles"
   ]
  },
  {
   "cell_type": "code",
   "execution_count": 55,
   "id": "138c083a",
   "metadata": {
    "scrolled": false
   },
   "outputs": [
    {
     "name": "stdout",
     "output_type": "stream",
     "text": [
      "Hay 26834 filas con duración de cero\n",
      "Esto representa el 19.48%\n"
     ]
    }
   ],
   "source": [
    "duration_zeros = calls_data.query('duration == 0')\n",
    "print(f'Hay {len(duration_zeros)} filas con duración de cero')\n",
    "print(f'Esto representa el {len(duration_zeros)/len(calls_data):.2%}')"
   ]
  },
  {
   "cell_type": "markdown",
   "id": "dfa89a05",
   "metadata": {},
   "source": [
    "Casi el 20% de las llamadas tienen 0 minutos de duración. Como no nos ayudan a estudiar los ingresos que generán los planes, vamos a eliminarlas."
   ]
  },
  {
   "cell_type": "code",
   "execution_count": 56,
   "id": "801c5023",
   "metadata": {},
   "outputs": [],
   "source": [
    "calls_data = calls_data.query('duration != 0')"
   ]
  },
  {
   "cell_type": "markdown",
   "id": "34bc6f92",
   "metadata": {},
   "source": [
    "Verificamos si ya no quedan datos mb_used igual a cero."
   ]
  },
  {
   "cell_type": "code",
   "execution_count": 57,
   "id": "378ef36e",
   "metadata": {
    "scrolled": true
   },
   "outputs": [
    {
     "data": {
      "text/plain": [
       "0.01"
      ]
     },
     "execution_count": 57,
     "metadata": {},
     "output_type": "execute_result"
    }
   ],
   "source": [
    "calls_data['duration'].min()"
   ]
  },
  {
   "cell_type": "markdown",
   "id": "a56d619a",
   "metadata": {},
   "source": [
    "Ya que no quedan llamadas con cero de duración, vamos a crear una columna con los datos de duration pero redondeados al entero mayor y revisamos unas filas para verificar."
   ]
  },
  {
   "cell_type": "code",
   "execution_count": 58,
   "id": "4f9a4535",
   "metadata": {
    "scrolled": true
   },
   "outputs": [
    {
     "data": {
      "text/html": [
       "<div>\n",
       "<style scoped>\n",
       "    .dataframe tbody tr th:only-of-type {\n",
       "        vertical-align: middle;\n",
       "    }\n",
       "\n",
       "    .dataframe tbody tr th {\n",
       "        vertical-align: top;\n",
       "    }\n",
       "\n",
       "    .dataframe thead th {\n",
       "        text-align: right;\n",
       "    }\n",
       "</style>\n",
       "<table border=\"1\" class=\"dataframe\">\n",
       "  <thead>\n",
       "    <tr style=\"text-align: right;\">\n",
       "      <th></th>\n",
       "      <th>id</th>\n",
       "      <th>user_id</th>\n",
       "      <th>call_date</th>\n",
       "      <th>duration</th>\n",
       "      <th>duration_int</th>\n",
       "    </tr>\n",
       "  </thead>\n",
       "  <tbody>\n",
       "    <tr>\n",
       "      <th>0</th>\n",
       "      <td>1000_93</td>\n",
       "      <td>1000</td>\n",
       "      <td>2018-12-27</td>\n",
       "      <td>8.52</td>\n",
       "      <td>9</td>\n",
       "    </tr>\n",
       "    <tr>\n",
       "      <th>1</th>\n",
       "      <td>1000_145</td>\n",
       "      <td>1000</td>\n",
       "      <td>2018-12-27</td>\n",
       "      <td>13.66</td>\n",
       "      <td>14</td>\n",
       "    </tr>\n",
       "    <tr>\n",
       "      <th>2</th>\n",
       "      <td>1000_247</td>\n",
       "      <td>1000</td>\n",
       "      <td>2018-12-27</td>\n",
       "      <td>14.48</td>\n",
       "      <td>15</td>\n",
       "    </tr>\n",
       "    <tr>\n",
       "      <th>3</th>\n",
       "      <td>1000_309</td>\n",
       "      <td>1000</td>\n",
       "      <td>2018-12-28</td>\n",
       "      <td>5.76</td>\n",
       "      <td>6</td>\n",
       "    </tr>\n",
       "    <tr>\n",
       "      <th>4</th>\n",
       "      <td>1000_380</td>\n",
       "      <td>1000</td>\n",
       "      <td>2018-12-30</td>\n",
       "      <td>4.22</td>\n",
       "      <td>5</td>\n",
       "    </tr>\n",
       "  </tbody>\n",
       "</table>\n",
       "</div>"
      ],
      "text/plain": [
       "         id  user_id  call_date  duration  duration_int\n",
       "0   1000_93     1000 2018-12-27      8.52             9\n",
       "1  1000_145     1000 2018-12-27     13.66            14\n",
       "2  1000_247     1000 2018-12-27     14.48            15\n",
       "3  1000_309     1000 2018-12-28      5.76             6\n",
       "4  1000_380     1000 2018-12-30      4.22             5"
      ]
     },
     "execution_count": 58,
     "metadata": {},
     "output_type": "execute_result"
    }
   ],
   "source": [
    "calls_data['duration_int'] = np.ceil(calls_data['duration']).astype(int)\n",
    "calls_data.head()"
   ]
  },
  {
   "cell_type": "markdown",
   "id": "c662ae2e",
   "metadata": {},
   "source": [
    "Se creará una columna con el mes de `call_date` para luego poder agrupar por id del usuario y mes de la llamada."
   ]
  },
  {
   "cell_type": "code",
   "execution_count": 59,
   "id": "772b3576",
   "metadata": {},
   "outputs": [
    {
     "data": {
      "text/html": [
       "<div>\n",
       "<style scoped>\n",
       "    .dataframe tbody tr th:only-of-type {\n",
       "        vertical-align: middle;\n",
       "    }\n",
       "\n",
       "    .dataframe tbody tr th {\n",
       "        vertical-align: top;\n",
       "    }\n",
       "\n",
       "    .dataframe thead th {\n",
       "        text-align: right;\n",
       "    }\n",
       "</style>\n",
       "<table border=\"1\" class=\"dataframe\">\n",
       "  <thead>\n",
       "    <tr style=\"text-align: right;\">\n",
       "      <th></th>\n",
       "      <th>id</th>\n",
       "      <th>user_id</th>\n",
       "      <th>call_date</th>\n",
       "      <th>duration</th>\n",
       "      <th>duration_int</th>\n",
       "      <th>call_month</th>\n",
       "    </tr>\n",
       "  </thead>\n",
       "  <tbody>\n",
       "    <tr>\n",
       "      <th>0</th>\n",
       "      <td>1000_93</td>\n",
       "      <td>1000</td>\n",
       "      <td>2018-12-27</td>\n",
       "      <td>8.52</td>\n",
       "      <td>9</td>\n",
       "      <td>12</td>\n",
       "    </tr>\n",
       "    <tr>\n",
       "      <th>1</th>\n",
       "      <td>1000_145</td>\n",
       "      <td>1000</td>\n",
       "      <td>2018-12-27</td>\n",
       "      <td>13.66</td>\n",
       "      <td>14</td>\n",
       "      <td>12</td>\n",
       "    </tr>\n",
       "    <tr>\n",
       "      <th>2</th>\n",
       "      <td>1000_247</td>\n",
       "      <td>1000</td>\n",
       "      <td>2018-12-27</td>\n",
       "      <td>14.48</td>\n",
       "      <td>15</td>\n",
       "      <td>12</td>\n",
       "    </tr>\n",
       "    <tr>\n",
       "      <th>3</th>\n",
       "      <td>1000_309</td>\n",
       "      <td>1000</td>\n",
       "      <td>2018-12-28</td>\n",
       "      <td>5.76</td>\n",
       "      <td>6</td>\n",
       "      <td>12</td>\n",
       "    </tr>\n",
       "    <tr>\n",
       "      <th>4</th>\n",
       "      <td>1000_380</td>\n",
       "      <td>1000</td>\n",
       "      <td>2018-12-30</td>\n",
       "      <td>4.22</td>\n",
       "      <td>5</td>\n",
       "      <td>12</td>\n",
       "    </tr>\n",
       "  </tbody>\n",
       "</table>\n",
       "</div>"
      ],
      "text/plain": [
       "         id  user_id  call_date  duration  duration_int  call_month\n",
       "0   1000_93     1000 2018-12-27      8.52             9          12\n",
       "1  1000_145     1000 2018-12-27     13.66            14          12\n",
       "2  1000_247     1000 2018-12-27     14.48            15          12\n",
       "3  1000_309     1000 2018-12-28      5.76             6          12\n",
       "4  1000_380     1000 2018-12-30      4.22             5          12"
      ]
     },
     "execution_count": 59,
     "metadata": {},
     "output_type": "execute_result"
    }
   ],
   "source": [
    "calls_data['call_month'] = calls_data['call_date'].dt.month\n",
    "calls_data.head()"
   ]
  },
  {
   "cell_type": "markdown",
   "id": "969fc600",
   "metadata": {},
   "source": [
    "### 1.3.3. <a id='toc1_3_3_'></a>[Preprocesamiento de internet_data](#toc0_)"
   ]
  },
  {
   "cell_type": "markdown",
   "id": "29cce7aa",
   "metadata": {},
   "source": [
    "Procedemos a cambiar el formato de strings a date para `session_date`"
   ]
  },
  {
   "cell_type": "code",
   "execution_count": 60,
   "id": "db375716",
   "metadata": {},
   "outputs": [],
   "source": [
    "internet_data['session_date'] = pd.to_datetime(internet_data['session_date'], format='%Y-%m-%d')"
   ]
  },
  {
   "cell_type": "markdown",
   "id": "1324f2f6",
   "metadata": {},
   "source": [
    "Se comprueba si el cambio de formatos se realizó correctamente"
   ]
  },
  {
   "cell_type": "code",
   "execution_count": 61,
   "id": "6eabf598",
   "metadata": {
    "scrolled": true
   },
   "outputs": [
    {
     "name": "stdout",
     "output_type": "stream",
     "text": [
      "<class 'pandas.core.frame.DataFrame'>\n",
      "RangeIndex: 104825 entries, 0 to 104824\n",
      "Data columns (total 4 columns):\n",
      " #   Column        Non-Null Count   Dtype         \n",
      "---  ------        --------------   -----         \n",
      " 0   id            104825 non-null  object        \n",
      " 1   user_id       104825 non-null  int64         \n",
      " 2   session_date  104825 non-null  datetime64[ns]\n",
      " 3   mb_used       104825 non-null  float64       \n",
      "dtypes: datetime64[ns](1), float64(1), int64(1), object(1)\n",
      "memory usage: 3.2+ MB\n"
     ]
    }
   ],
   "source": [
    "internet_data.info()"
   ]
  },
  {
   "cell_type": "markdown",
   "id": "e7de365c",
   "metadata": {},
   "source": [
    "Vamos a averiguar la cantidad de filas que tienen datos en ceros para mb_used y cuanto representan de los datos en total."
   ]
  },
  {
   "cell_type": "code",
   "execution_count": 62,
   "id": "48b9b377",
   "metadata": {
    "scrolled": true
   },
   "outputs": [
    {
     "name": "stdout",
     "output_type": "stream",
     "text": [
      "Hay 13747 filas con mb usados igual a cero\n",
      "Esto representa el 13.11%\n"
     ]
    }
   ],
   "source": [
    "mb_zeros = internet_data.query('mb_used == 0')\n",
    "print(f'Hay {len(mb_zeros)} filas con mb usados igual a cero')\n",
    "print(f'Esto representa el {len(mb_zeros)/len(internet_data):.2%}')"
   ]
  },
  {
   "cell_type": "markdown",
   "id": "167e31db",
   "metadata": {},
   "source": [
    "Un poco más del 13% de los datos tienen como megas usados con valor cero. No son tantos, ni nos interesan estos datos en nuestro análisis de ingresos, por lo que se eliminarán."
   ]
  },
  {
   "cell_type": "code",
   "execution_count": 63,
   "id": "1c468592",
   "metadata": {},
   "outputs": [],
   "source": [
    "internet_data = internet_data.query('mb_used != 0')"
   ]
  },
  {
   "cell_type": "markdown",
   "id": "72e855cc",
   "metadata": {},
   "source": [
    "Verificamos si ya no quedan datos mb_used igual a cero."
   ]
  },
  {
   "cell_type": "code",
   "execution_count": 64,
   "id": "a0a2775b",
   "metadata": {
    "scrolled": true
   },
   "outputs": [
    {
     "data": {
      "text/plain": [
       "0.01"
      ]
     },
     "execution_count": 64,
     "metadata": {},
     "output_type": "execute_result"
    }
   ],
   "source": [
    "internet_data['mb_used'].min()"
   ]
  },
  {
   "cell_type": "markdown",
   "id": "c7e8cbc9",
   "metadata": {},
   "source": [
    "Vamos a crear una columna para el consumo en gb."
   ]
  },
  {
   "cell_type": "code",
   "execution_count": 65,
   "id": "8c8411e7",
   "metadata": {},
   "outputs": [],
   "source": [
    "internet_data['gb_used'] = internet_data['mb_used']/1024"
   ]
  },
  {
   "cell_type": "markdown",
   "id": "ea72d505",
   "metadata": {},
   "source": [
    "Ahora con filas sin valores a ceros, se creará una columna con el mes de `session_date`"
   ]
  },
  {
   "cell_type": "code",
   "execution_count": 66,
   "id": "a21b1216",
   "metadata": {},
   "outputs": [
    {
     "data": {
      "text/html": [
       "<div>\n",
       "<style scoped>\n",
       "    .dataframe tbody tr th:only-of-type {\n",
       "        vertical-align: middle;\n",
       "    }\n",
       "\n",
       "    .dataframe tbody tr th {\n",
       "        vertical-align: top;\n",
       "    }\n",
       "\n",
       "    .dataframe thead th {\n",
       "        text-align: right;\n",
       "    }\n",
       "</style>\n",
       "<table border=\"1\" class=\"dataframe\">\n",
       "  <thead>\n",
       "    <tr style=\"text-align: right;\">\n",
       "      <th></th>\n",
       "      <th>id</th>\n",
       "      <th>user_id</th>\n",
       "      <th>session_date</th>\n",
       "      <th>mb_used</th>\n",
       "      <th>gb_used</th>\n",
       "      <th>session_month</th>\n",
       "    </tr>\n",
       "  </thead>\n",
       "  <tbody>\n",
       "    <tr>\n",
       "      <th>0</th>\n",
       "      <td>1000_13</td>\n",
       "      <td>1000</td>\n",
       "      <td>2018-12-29</td>\n",
       "      <td>89.86</td>\n",
       "      <td>0.087754</td>\n",
       "      <td>12</td>\n",
       "    </tr>\n",
       "    <tr>\n",
       "      <th>2</th>\n",
       "      <td>1000_379</td>\n",
       "      <td>1000</td>\n",
       "      <td>2018-12-28</td>\n",
       "      <td>660.40</td>\n",
       "      <td>0.644922</td>\n",
       "      <td>12</td>\n",
       "    </tr>\n",
       "    <tr>\n",
       "      <th>3</th>\n",
       "      <td>1000_413</td>\n",
       "      <td>1000</td>\n",
       "      <td>2018-12-26</td>\n",
       "      <td>270.99</td>\n",
       "      <td>0.264639</td>\n",
       "      <td>12</td>\n",
       "    </tr>\n",
       "    <tr>\n",
       "      <th>4</th>\n",
       "      <td>1000_442</td>\n",
       "      <td>1000</td>\n",
       "      <td>2018-12-27</td>\n",
       "      <td>880.22</td>\n",
       "      <td>0.859590</td>\n",
       "      <td>12</td>\n",
       "    </tr>\n",
       "    <tr>\n",
       "      <th>5</th>\n",
       "      <td>1001_0</td>\n",
       "      <td>1001</td>\n",
       "      <td>2018-08-24</td>\n",
       "      <td>284.68</td>\n",
       "      <td>0.278008</td>\n",
       "      <td>8</td>\n",
       "    </tr>\n",
       "  </tbody>\n",
       "</table>\n",
       "</div>"
      ],
      "text/plain": [
       "         id  user_id session_date  mb_used   gb_used  session_month\n",
       "0   1000_13     1000   2018-12-29    89.86  0.087754             12\n",
       "2  1000_379     1000   2018-12-28   660.40  0.644922             12\n",
       "3  1000_413     1000   2018-12-26   270.99  0.264639             12\n",
       "4  1000_442     1000   2018-12-27   880.22  0.859590             12\n",
       "5    1001_0     1001   2018-08-24   284.68  0.278008              8"
      ]
     },
     "execution_count": 66,
     "metadata": {},
     "output_type": "execute_result"
    }
   ],
   "source": [
    "internet_data['session_month'] = internet_data['session_date'].dt.month\n",
    "internet_data.head()"
   ]
  },
  {
   "cell_type": "markdown",
   "id": "b733e40a",
   "metadata": {},
   "source": [
    "### 1.3.4. <a id='toc1_3_4_'></a>[Preprocesamiento de messages_data](#toc0_)"
   ]
  },
  {
   "cell_type": "markdown",
   "id": "1c123702",
   "metadata": {},
   "source": [
    "Se transformará la columna de `message_date` a formato de fecha."
   ]
  },
  {
   "cell_type": "code",
   "execution_count": 67,
   "id": "b0eef005",
   "metadata": {},
   "outputs": [],
   "source": [
    "messages_data['message_date'] = pd.to_datetime(messages_data['message_date'], format='%Y-%m-%d')"
   ]
  },
  {
   "cell_type": "markdown",
   "id": "f344a1d7",
   "metadata": {},
   "source": [
    "Se comprueba si el cambio de formatos se realizó correctamente"
   ]
  },
  {
   "cell_type": "code",
   "execution_count": 68,
   "id": "333eaafc",
   "metadata": {
    "scrolled": true
   },
   "outputs": [
    {
     "name": "stdout",
     "output_type": "stream",
     "text": [
      "<class 'pandas.core.frame.DataFrame'>\n",
      "RangeIndex: 76051 entries, 0 to 76050\n",
      "Data columns (total 3 columns):\n",
      " #   Column        Non-Null Count  Dtype         \n",
      "---  ------        --------------  -----         \n",
      " 0   id            76051 non-null  object        \n",
      " 1   user_id       76051 non-null  int64         \n",
      " 2   message_date  76051 non-null  datetime64[ns]\n",
      "dtypes: datetime64[ns](1), int64(1), object(1)\n",
      "memory usage: 1.7+ MB\n"
     ]
    }
   ],
   "source": [
    "messages_data.info()"
   ]
  },
  {
   "cell_type": "markdown",
   "id": "935d95ac",
   "metadata": {},
   "source": [
    "Ya con las columna de fechas con formato correcto, se creará una columna con el mes de `message_date` para luego poder agrupar por id del usuario y mes del mensaje."
   ]
  },
  {
   "cell_type": "code",
   "execution_count": 69,
   "id": "baff7327",
   "metadata": {},
   "outputs": [
    {
     "data": {
      "text/html": [
       "<div>\n",
       "<style scoped>\n",
       "    .dataframe tbody tr th:only-of-type {\n",
       "        vertical-align: middle;\n",
       "    }\n",
       "\n",
       "    .dataframe tbody tr th {\n",
       "        vertical-align: top;\n",
       "    }\n",
       "\n",
       "    .dataframe thead th {\n",
       "        text-align: right;\n",
       "    }\n",
       "</style>\n",
       "<table border=\"1\" class=\"dataframe\">\n",
       "  <thead>\n",
       "    <tr style=\"text-align: right;\">\n",
       "      <th></th>\n",
       "      <th>id</th>\n",
       "      <th>user_id</th>\n",
       "      <th>message_date</th>\n",
       "      <th>message_month</th>\n",
       "    </tr>\n",
       "  </thead>\n",
       "  <tbody>\n",
       "    <tr>\n",
       "      <th>0</th>\n",
       "      <td>1000_125</td>\n",
       "      <td>1000</td>\n",
       "      <td>2018-12-27</td>\n",
       "      <td>12</td>\n",
       "    </tr>\n",
       "    <tr>\n",
       "      <th>1</th>\n",
       "      <td>1000_160</td>\n",
       "      <td>1000</td>\n",
       "      <td>2018-12-31</td>\n",
       "      <td>12</td>\n",
       "    </tr>\n",
       "    <tr>\n",
       "      <th>2</th>\n",
       "      <td>1000_223</td>\n",
       "      <td>1000</td>\n",
       "      <td>2018-12-31</td>\n",
       "      <td>12</td>\n",
       "    </tr>\n",
       "    <tr>\n",
       "      <th>3</th>\n",
       "      <td>1000_251</td>\n",
       "      <td>1000</td>\n",
       "      <td>2018-12-27</td>\n",
       "      <td>12</td>\n",
       "    </tr>\n",
       "    <tr>\n",
       "      <th>4</th>\n",
       "      <td>1000_255</td>\n",
       "      <td>1000</td>\n",
       "      <td>2018-12-26</td>\n",
       "      <td>12</td>\n",
       "    </tr>\n",
       "  </tbody>\n",
       "</table>\n",
       "</div>"
      ],
      "text/plain": [
       "         id  user_id message_date  message_month\n",
       "0  1000_125     1000   2018-12-27             12\n",
       "1  1000_160     1000   2018-12-31             12\n",
       "2  1000_223     1000   2018-12-31             12\n",
       "3  1000_251     1000   2018-12-27             12\n",
       "4  1000_255     1000   2018-12-26             12"
      ]
     },
     "execution_count": 69,
     "metadata": {},
     "output_type": "execute_result"
    }
   ],
   "source": [
    "messages_data['message_month'] = messages_data['message_date'].dt.month\n",
    "messages_data.head()"
   ]
  },
  {
   "cell_type": "markdown",
   "id": "e62871e1",
   "metadata": {},
   "source": [
    "### 1.3.5. <a id='toc1_3_5_'></a>[Preprocesamiento de plans_data](#toc0_)"
   ]
  },
  {
   "cell_type": "markdown",
   "id": "ade1087f",
   "metadata": {},
   "source": [
    "Para esta tabla, para facilitar su uso, tomaremos el plan_name como el índice. "
   ]
  },
  {
   "cell_type": "code",
   "execution_count": 70,
   "id": "deefd0bd",
   "metadata": {},
   "outputs": [
    {
     "data": {
      "text/html": [
       "<div>\n",
       "<style scoped>\n",
       "    .dataframe tbody tr th:only-of-type {\n",
       "        vertical-align: middle;\n",
       "    }\n",
       "\n",
       "    .dataframe tbody tr th {\n",
       "        vertical-align: top;\n",
       "    }\n",
       "\n",
       "    .dataframe thead th {\n",
       "        text-align: right;\n",
       "    }\n",
       "</style>\n",
       "<table border=\"1\" class=\"dataframe\">\n",
       "  <thead>\n",
       "    <tr style=\"text-align: right;\">\n",
       "      <th></th>\n",
       "      <th>messages_included</th>\n",
       "      <th>mb_per_month_included</th>\n",
       "      <th>minutes_included</th>\n",
       "      <th>usd_monthly_pay</th>\n",
       "      <th>usd_per_gb</th>\n",
       "      <th>usd_per_message</th>\n",
       "      <th>usd_per_minute</th>\n",
       "    </tr>\n",
       "    <tr>\n",
       "      <th>plan_name</th>\n",
       "      <th></th>\n",
       "      <th></th>\n",
       "      <th></th>\n",
       "      <th></th>\n",
       "      <th></th>\n",
       "      <th></th>\n",
       "      <th></th>\n",
       "    </tr>\n",
       "  </thead>\n",
       "  <tbody>\n",
       "    <tr>\n",
       "      <th>surf</th>\n",
       "      <td>50</td>\n",
       "      <td>15360</td>\n",
       "      <td>500</td>\n",
       "      <td>20</td>\n",
       "      <td>10</td>\n",
       "      <td>0.03</td>\n",
       "      <td>0.03</td>\n",
       "    </tr>\n",
       "    <tr>\n",
       "      <th>ultimate</th>\n",
       "      <td>1000</td>\n",
       "      <td>30720</td>\n",
       "      <td>3000</td>\n",
       "      <td>70</td>\n",
       "      <td>7</td>\n",
       "      <td>0.01</td>\n",
       "      <td>0.01</td>\n",
       "    </tr>\n",
       "  </tbody>\n",
       "</table>\n",
       "</div>"
      ],
      "text/plain": [
       "           messages_included  mb_per_month_included  minutes_included  \\\n",
       "plan_name                                                               \n",
       "surf                      50                  15360               500   \n",
       "ultimate                1000                  30720              3000   \n",
       "\n",
       "           usd_monthly_pay  usd_per_gb  usd_per_message  usd_per_minute  \n",
       "plan_name                                                                \n",
       "surf                    20          10             0.03            0.03  \n",
       "ultimate                70           7             0.01            0.01  "
      ]
     },
     "execution_count": 70,
     "metadata": {},
     "output_type": "execute_result"
    }
   ],
   "source": [
    "plans_data = plans_data.set_index('plan_name')\n",
    "plans_data"
   ]
  },
  {
   "cell_type": "markdown",
   "id": "547a4d3f",
   "metadata": {},
   "source": [
    "### 1.3.6. <a id='toc1_3_6_'></a>[Conclusiones intermedias](#toc0_)"
   ]
  },
  {
   "cell_type": "markdown",
   "id": "94bce0aa",
   "metadata": {},
   "source": [
    "- Se realizó el preprocesamiento de tablas de users, calls, internet y messages.\n",
    "    - Las columnas de fechas se convirtieron en variable tipo datetime.\n",
    "    - Se eliminaron algunas filas donde la duración o el consumo, dieron valores de cero.\n",
    "- Para plans, se seteó como index a una de sus columnas, para facilitar la busqueda de datos."
   ]
  },
  {
   "cell_type": "markdown",
   "id": "a617997b",
   "metadata": {},
   "source": [
    "## 1.4. <a id='toc1_4_'></a>[Tablas de consumo por usuario por mes](#toc0_)"
   ]
  },
  {
   "cell_type": "markdown",
   "id": "847c7d24",
   "metadata": {},
   "source": [
    "### 1.4.1. <a id='toc1_4_1_'></a>[Consumo de llamadas](#toc0_)"
   ]
  },
  {
   "cell_type": "markdown",
   "id": "1bdd4443",
   "metadata": {},
   "source": [
    "Ahora que ya tenemos la columna del mes de la llamadas, vamos a agrupar por mes y por usuario. Primero vamos a contar las llamadas por id de usuario y mes."
   ]
  },
  {
   "cell_type": "code",
   "execution_count": 71,
   "id": "7162381b",
   "metadata": {
    "scrolled": false
   },
   "outputs": [
    {
     "data": {
      "text/html": [
       "<div>\n",
       "<style scoped>\n",
       "    .dataframe tbody tr th:only-of-type {\n",
       "        vertical-align: middle;\n",
       "    }\n",
       "\n",
       "    .dataframe tbody tr th {\n",
       "        vertical-align: top;\n",
       "    }\n",
       "\n",
       "    .dataframe thead tr th {\n",
       "        text-align: left;\n",
       "    }\n",
       "</style>\n",
       "<table border=\"1\" class=\"dataframe\">\n",
       "  <thead>\n",
       "    <tr>\n",
       "      <th></th>\n",
       "      <th>user_id</th>\n",
       "      <th>call_month</th>\n",
       "      <th>count</th>\n",
       "      <th>sum</th>\n",
       "    </tr>\n",
       "    <tr>\n",
       "      <th></th>\n",
       "      <th></th>\n",
       "      <th></th>\n",
       "      <th>duration_int</th>\n",
       "      <th>duration_int</th>\n",
       "    </tr>\n",
       "  </thead>\n",
       "  <tbody>\n",
       "    <tr>\n",
       "      <th>0</th>\n",
       "      <td>1000</td>\n",
       "      <td>12</td>\n",
       "      <td>16</td>\n",
       "      <td>124</td>\n",
       "    </tr>\n",
       "    <tr>\n",
       "      <th>1</th>\n",
       "      <td>1001</td>\n",
       "      <td>8</td>\n",
       "      <td>22</td>\n",
       "      <td>182</td>\n",
       "    </tr>\n",
       "    <tr>\n",
       "      <th>2</th>\n",
       "      <td>1001</td>\n",
       "      <td>9</td>\n",
       "      <td>38</td>\n",
       "      <td>315</td>\n",
       "    </tr>\n",
       "    <tr>\n",
       "      <th>3</th>\n",
       "      <td>1001</td>\n",
       "      <td>10</td>\n",
       "      <td>47</td>\n",
       "      <td>393</td>\n",
       "    </tr>\n",
       "    <tr>\n",
       "      <th>4</th>\n",
       "      <td>1001</td>\n",
       "      <td>11</td>\n",
       "      <td>49</td>\n",
       "      <td>426</td>\n",
       "    </tr>\n",
       "  </tbody>\n",
       "</table>\n",
       "</div>"
      ],
      "text/plain": [
       "  user_id call_month        count          sum\n",
       "                     duration_int duration_int\n",
       "0    1000         12           16          124\n",
       "1    1001          8           22          182\n",
       "2    1001          9           38          315\n",
       "3    1001         10           47          393\n",
       "4    1001         11           49          426"
      ]
     },
     "execution_count": 71,
     "metadata": {},
     "output_type": "execute_result"
    }
   ],
   "source": [
    "calls_by_id_month = calls_data.pivot_table(values='duration_int', index=['user_id','call_month'], \n",
    "                                            aggfunc=['count','sum']).reset_index()\n",
    "calls_by_id_month.head()"
   ]
  },
  {
   "cell_type": "markdown",
   "id": "38b2d46a",
   "metadata": {},
   "source": [
    "Cambiamos el nombre de `call_month` a `month`."
   ]
  },
  {
   "cell_type": "code",
   "execution_count": 72,
   "id": "14e49f68",
   "metadata": {
    "scrolled": true
   },
   "outputs": [],
   "source": [
    "calls_by_id_month.columns = calls_by_id_month.columns.set_levels(\n",
    "                                                            ['count', 'sum', 'month', 'user_id']\n",
    "                                                            , level=0)"
   ]
  },
  {
   "cell_type": "code",
   "execution_count": 73,
   "id": "af14b6be",
   "metadata": {},
   "outputs": [
    {
     "data": {
      "text/html": [
       "<div>\n",
       "<style scoped>\n",
       "    .dataframe tbody tr th:only-of-type {\n",
       "        vertical-align: middle;\n",
       "    }\n",
       "\n",
       "    .dataframe tbody tr th {\n",
       "        vertical-align: top;\n",
       "    }\n",
       "\n",
       "    .dataframe thead tr th {\n",
       "        text-align: left;\n",
       "    }\n",
       "</style>\n",
       "<table border=\"1\" class=\"dataframe\">\n",
       "  <thead>\n",
       "    <tr>\n",
       "      <th></th>\n",
       "      <th>user_id</th>\n",
       "      <th>month</th>\n",
       "      <th>count</th>\n",
       "      <th>sum</th>\n",
       "    </tr>\n",
       "    <tr>\n",
       "      <th></th>\n",
       "      <th></th>\n",
       "      <th></th>\n",
       "      <th>duration_int</th>\n",
       "      <th>duration_int</th>\n",
       "    </tr>\n",
       "  </thead>\n",
       "  <tbody>\n",
       "    <tr>\n",
       "      <th>0</th>\n",
       "      <td>1000</td>\n",
       "      <td>12</td>\n",
       "      <td>16</td>\n",
       "      <td>124</td>\n",
       "    </tr>\n",
       "    <tr>\n",
       "      <th>1</th>\n",
       "      <td>1001</td>\n",
       "      <td>8</td>\n",
       "      <td>22</td>\n",
       "      <td>182</td>\n",
       "    </tr>\n",
       "    <tr>\n",
       "      <th>2</th>\n",
       "      <td>1001</td>\n",
       "      <td>9</td>\n",
       "      <td>38</td>\n",
       "      <td>315</td>\n",
       "    </tr>\n",
       "  </tbody>\n",
       "</table>\n",
       "</div>"
      ],
      "text/plain": [
       "  user_id month        count          sum\n",
       "                duration_int duration_int\n",
       "0    1000    12           16          124\n",
       "1    1001     8           22          182\n",
       "2    1001     9           38          315"
      ]
     },
     "execution_count": 73,
     "metadata": {},
     "output_type": "execute_result"
    }
   ],
   "source": [
    "calls_by_id_month.head(3)"
   ]
  },
  {
   "cell_type": "markdown",
   "id": "532aca2d",
   "metadata": {},
   "source": [
    "### 1.4.2. <a id='toc1_4_2_'></a>[Consumo de internet](#toc0_)"
   ]
  },
  {
   "cell_type": "markdown",
   "id": "dc74c8ad",
   "metadata": {},
   "source": [
    "A partir de la columna del mes de la sesión, vamos a agrupar por mes y por usuario."
   ]
  },
  {
   "cell_type": "code",
   "execution_count": 74,
   "id": "38b10b85",
   "metadata": {
    "scrolled": true
   },
   "outputs": [
    {
     "data": {
      "text/html": [
       "<div>\n",
       "<style scoped>\n",
       "    .dataframe tbody tr th:only-of-type {\n",
       "        vertical-align: middle;\n",
       "    }\n",
       "\n",
       "    .dataframe tbody tr th {\n",
       "        vertical-align: top;\n",
       "    }\n",
       "\n",
       "    .dataframe thead tr th {\n",
       "        text-align: left;\n",
       "    }\n",
       "</style>\n",
       "<table border=\"1\" class=\"dataframe\">\n",
       "  <thead>\n",
       "    <tr>\n",
       "      <th></th>\n",
       "      <th>user_id</th>\n",
       "      <th>session_month</th>\n",
       "      <th>sum</th>\n",
       "    </tr>\n",
       "    <tr>\n",
       "      <th></th>\n",
       "      <th></th>\n",
       "      <th></th>\n",
       "      <th>gb_used</th>\n",
       "    </tr>\n",
       "  </thead>\n",
       "  <tbody>\n",
       "    <tr>\n",
       "      <th>0</th>\n",
       "      <td>1000</td>\n",
       "      <td>12</td>\n",
       "      <td>1.856904</td>\n",
       "    </tr>\n",
       "    <tr>\n",
       "      <th>1</th>\n",
       "      <td>1001</td>\n",
       "      <td>8</td>\n",
       "      <td>6.756982</td>\n",
       "    </tr>\n",
       "    <tr>\n",
       "      <th>2</th>\n",
       "      <td>1001</td>\n",
       "      <td>9</td>\n",
       "      <td>13.002754</td>\n",
       "    </tr>\n",
       "    <tr>\n",
       "      <th>3</th>\n",
       "      <td>1001</td>\n",
       "      <td>10</td>\n",
       "      <td>21.807119</td>\n",
       "    </tr>\n",
       "    <tr>\n",
       "      <th>4</th>\n",
       "      <td>1001</td>\n",
       "      <td>11</td>\n",
       "      <td>18.070605</td>\n",
       "    </tr>\n",
       "  </tbody>\n",
       "</table>\n",
       "</div>"
      ],
      "text/plain": [
       "  user_id session_month        sum\n",
       "                           gb_used\n",
       "0    1000            12   1.856904\n",
       "1    1001             8   6.756982\n",
       "2    1001             9  13.002754\n",
       "3    1001            10  21.807119\n",
       "4    1001            11  18.070605"
      ]
     },
     "execution_count": 74,
     "metadata": {},
     "output_type": "execute_result"
    }
   ],
   "source": [
    "internet_by_id_month = internet_data.pivot_table(values='gb_used', index=['user_id','session_month'], \n",
    "                                            aggfunc=['sum']).reset_index()\n",
    "internet_by_id_month.head()"
   ]
  },
  {
   "cell_type": "markdown",
   "id": "42b36793",
   "metadata": {},
   "source": [
    "Ahora procedemos a redondear al entero mayor."
   ]
  },
  {
   "cell_type": "code",
   "execution_count": 75,
   "id": "fb2b5bf0",
   "metadata": {
    "scrolled": false
   },
   "outputs": [
    {
     "data": {
      "text/html": [
       "<div>\n",
       "<style scoped>\n",
       "    .dataframe tbody tr th:only-of-type {\n",
       "        vertical-align: middle;\n",
       "    }\n",
       "\n",
       "    .dataframe tbody tr th {\n",
       "        vertical-align: top;\n",
       "    }\n",
       "\n",
       "    .dataframe thead tr th {\n",
       "        text-align: left;\n",
       "    }\n",
       "</style>\n",
       "<table border=\"1\" class=\"dataframe\">\n",
       "  <thead>\n",
       "    <tr>\n",
       "      <th></th>\n",
       "      <th>user_id</th>\n",
       "      <th>session_month</th>\n",
       "      <th>sum</th>\n",
       "    </tr>\n",
       "    <tr>\n",
       "      <th></th>\n",
       "      <th></th>\n",
       "      <th></th>\n",
       "      <th>gb_used</th>\n",
       "    </tr>\n",
       "  </thead>\n",
       "  <tbody>\n",
       "    <tr>\n",
       "      <th>0</th>\n",
       "      <td>1000</td>\n",
       "      <td>12</td>\n",
       "      <td>2</td>\n",
       "    </tr>\n",
       "    <tr>\n",
       "      <th>1</th>\n",
       "      <td>1001</td>\n",
       "      <td>8</td>\n",
       "      <td>7</td>\n",
       "    </tr>\n",
       "    <tr>\n",
       "      <th>2</th>\n",
       "      <td>1001</td>\n",
       "      <td>9</td>\n",
       "      <td>14</td>\n",
       "    </tr>\n",
       "    <tr>\n",
       "      <th>3</th>\n",
       "      <td>1001</td>\n",
       "      <td>10</td>\n",
       "      <td>22</td>\n",
       "    </tr>\n",
       "    <tr>\n",
       "      <th>4</th>\n",
       "      <td>1001</td>\n",
       "      <td>11</td>\n",
       "      <td>19</td>\n",
       "    </tr>\n",
       "  </tbody>\n",
       "</table>\n",
       "</div>"
      ],
      "text/plain": [
       "  user_id session_month     sum\n",
       "                        gb_used\n",
       "0    1000            12       2\n",
       "1    1001             8       7\n",
       "2    1001             9      14\n",
       "3    1001            10      22\n",
       "4    1001            11      19"
      ]
     },
     "execution_count": 75,
     "metadata": {},
     "output_type": "execute_result"
    }
   ],
   "source": [
    "internet_by_id_month = np.ceil(internet_by_id_month).astype(int)\n",
    "internet_by_id_month.head()"
   ]
  },
  {
   "cell_type": "markdown",
   "id": "f4a0148e",
   "metadata": {},
   "source": [
    "Cambiamos el nombre de `session_month` a `month`."
   ]
  },
  {
   "cell_type": "code",
   "execution_count": 76,
   "id": "290d9978",
   "metadata": {
    "scrolled": true
   },
   "outputs": [],
   "source": [
    "internet_by_id_month.columns = internet_by_id_month.columns.set_levels(\n",
    "                                                            ['sum', 'month', 'user_id'], level=0)"
   ]
  },
  {
   "cell_type": "code",
   "execution_count": 77,
   "id": "f4436633",
   "metadata": {},
   "outputs": [
    {
     "data": {
      "text/html": [
       "<div>\n",
       "<style scoped>\n",
       "    .dataframe tbody tr th:only-of-type {\n",
       "        vertical-align: middle;\n",
       "    }\n",
       "\n",
       "    .dataframe tbody tr th {\n",
       "        vertical-align: top;\n",
       "    }\n",
       "\n",
       "    .dataframe thead tr th {\n",
       "        text-align: left;\n",
       "    }\n",
       "</style>\n",
       "<table border=\"1\" class=\"dataframe\">\n",
       "  <thead>\n",
       "    <tr>\n",
       "      <th></th>\n",
       "      <th>user_id</th>\n",
       "      <th>month</th>\n",
       "      <th>sum</th>\n",
       "    </tr>\n",
       "    <tr>\n",
       "      <th></th>\n",
       "      <th></th>\n",
       "      <th></th>\n",
       "      <th>gb_used</th>\n",
       "    </tr>\n",
       "  </thead>\n",
       "  <tbody>\n",
       "    <tr>\n",
       "      <th>0</th>\n",
       "      <td>1000</td>\n",
       "      <td>12</td>\n",
       "      <td>2</td>\n",
       "    </tr>\n",
       "    <tr>\n",
       "      <th>1</th>\n",
       "      <td>1001</td>\n",
       "      <td>8</td>\n",
       "      <td>7</td>\n",
       "    </tr>\n",
       "    <tr>\n",
       "      <th>2</th>\n",
       "      <td>1001</td>\n",
       "      <td>9</td>\n",
       "      <td>14</td>\n",
       "    </tr>\n",
       "  </tbody>\n",
       "</table>\n",
       "</div>"
      ],
      "text/plain": [
       "  user_id month     sum\n",
       "                gb_used\n",
       "0    1000    12       2\n",
       "1    1001     8       7\n",
       "2    1001     9      14"
      ]
     },
     "execution_count": 77,
     "metadata": {},
     "output_type": "execute_result"
    }
   ],
   "source": [
    "internet_by_id_month.head(3)"
   ]
  },
  {
   "cell_type": "markdown",
   "id": "9c93c2c6",
   "metadata": {},
   "source": [
    "### 1.4.3. <a id='toc1_4_3_'></a>[Consumo de mensajes](#toc0_)"
   ]
  },
  {
   "cell_type": "markdown",
   "id": "41e89664",
   "metadata": {},
   "source": [
    "Ahora se va a obtener la tabla con el conteo de mensajes enviados por usuario y mes."
   ]
  },
  {
   "cell_type": "code",
   "execution_count": 78,
   "id": "029d587a",
   "metadata": {
    "scrolled": true
   },
   "outputs": [
    {
     "data": {
      "text/html": [
       "<div>\n",
       "<style scoped>\n",
       "    .dataframe tbody tr th:only-of-type {\n",
       "        vertical-align: middle;\n",
       "    }\n",
       "\n",
       "    .dataframe tbody tr th {\n",
       "        vertical-align: top;\n",
       "    }\n",
       "\n",
       "    .dataframe thead tr th {\n",
       "        text-align: left;\n",
       "    }\n",
       "</style>\n",
       "<table border=\"1\" class=\"dataframe\">\n",
       "  <thead>\n",
       "    <tr>\n",
       "      <th></th>\n",
       "      <th>user_id</th>\n",
       "      <th>message_month</th>\n",
       "      <th>count</th>\n",
       "    </tr>\n",
       "    <tr>\n",
       "      <th></th>\n",
       "      <th></th>\n",
       "      <th></th>\n",
       "      <th>id</th>\n",
       "    </tr>\n",
       "  </thead>\n",
       "  <tbody>\n",
       "    <tr>\n",
       "      <th>0</th>\n",
       "      <td>1000</td>\n",
       "      <td>12</td>\n",
       "      <td>11</td>\n",
       "    </tr>\n",
       "    <tr>\n",
       "      <th>1</th>\n",
       "      <td>1001</td>\n",
       "      <td>8</td>\n",
       "      <td>30</td>\n",
       "    </tr>\n",
       "    <tr>\n",
       "      <th>2</th>\n",
       "      <td>1001</td>\n",
       "      <td>9</td>\n",
       "      <td>44</td>\n",
       "    </tr>\n",
       "    <tr>\n",
       "      <th>3</th>\n",
       "      <td>1001</td>\n",
       "      <td>10</td>\n",
       "      <td>53</td>\n",
       "    </tr>\n",
       "    <tr>\n",
       "      <th>4</th>\n",
       "      <td>1001</td>\n",
       "      <td>11</td>\n",
       "      <td>36</td>\n",
       "    </tr>\n",
       "  </tbody>\n",
       "</table>\n",
       "</div>"
      ],
      "text/plain": [
       "  user_id message_month count\n",
       "                           id\n",
       "0    1000            12    11\n",
       "1    1001             8    30\n",
       "2    1001             9    44\n",
       "3    1001            10    53\n",
       "4    1001            11    36"
      ]
     },
     "execution_count": 78,
     "metadata": {},
     "output_type": "execute_result"
    }
   ],
   "source": [
    "messages_by_id_month = messages_data.pivot_table(values='id', index=['user_id','message_month'], \n",
    "                                            aggfunc=['count']).reset_index()\n",
    "messages_by_id_month.head()"
   ]
  },
  {
   "cell_type": "markdown",
   "id": "337a4c7c",
   "metadata": {},
   "source": [
    "Cambiamos el nombre de `message_month` a `month`."
   ]
  },
  {
   "cell_type": "code",
   "execution_count": 79,
   "id": "32f06256",
   "metadata": {
    "scrolled": true
   },
   "outputs": [],
   "source": [
    "messages_by_id_month.columns = messages_by_id_month.columns.set_levels(\n",
    "                                                            ['count', 'month', 'user_id'], level=0)"
   ]
  },
  {
   "cell_type": "code",
   "execution_count": 80,
   "id": "85a114cc",
   "metadata": {},
   "outputs": [
    {
     "data": {
      "text/html": [
       "<div>\n",
       "<style scoped>\n",
       "    .dataframe tbody tr th:only-of-type {\n",
       "        vertical-align: middle;\n",
       "    }\n",
       "\n",
       "    .dataframe tbody tr th {\n",
       "        vertical-align: top;\n",
       "    }\n",
       "\n",
       "    .dataframe thead tr th {\n",
       "        text-align: left;\n",
       "    }\n",
       "</style>\n",
       "<table border=\"1\" class=\"dataframe\">\n",
       "  <thead>\n",
       "    <tr>\n",
       "      <th></th>\n",
       "      <th>user_id</th>\n",
       "      <th>month</th>\n",
       "      <th>count</th>\n",
       "    </tr>\n",
       "    <tr>\n",
       "      <th></th>\n",
       "      <th></th>\n",
       "      <th></th>\n",
       "      <th>id</th>\n",
       "    </tr>\n",
       "  </thead>\n",
       "  <tbody>\n",
       "    <tr>\n",
       "      <th>0</th>\n",
       "      <td>1000</td>\n",
       "      <td>12</td>\n",
       "      <td>11</td>\n",
       "    </tr>\n",
       "    <tr>\n",
       "      <th>1</th>\n",
       "      <td>1001</td>\n",
       "      <td>8</td>\n",
       "      <td>30</td>\n",
       "    </tr>\n",
       "    <tr>\n",
       "      <th>2</th>\n",
       "      <td>1001</td>\n",
       "      <td>9</td>\n",
       "      <td>44</td>\n",
       "    </tr>\n",
       "  </tbody>\n",
       "</table>\n",
       "</div>"
      ],
      "text/plain": [
       "  user_id month count\n",
       "                   id\n",
       "0    1000    12    11\n",
       "1    1001     8    30\n",
       "2    1001     9    44"
      ]
     },
     "execution_count": 80,
     "metadata": {},
     "output_type": "execute_result"
    }
   ],
   "source": [
    "messages_by_id_month.head(3)"
   ]
  },
  {
   "cell_type": "markdown",
   "id": "04848f67",
   "metadata": {},
   "source": [
    "### 1.4.4. <a id='toc1_4_4_'></a>[Consumo de todos los servicios](#toc0_)"
   ]
  },
  {
   "cell_type": "markdown",
   "id": "99728367",
   "metadata": {},
   "source": [
    "Ahora nos encargamos de unir las 3 tablas de consumo, para tener la información de los usuarios en una sola."
   ]
  },
  {
   "cell_type": "code",
   "execution_count": 81,
   "id": "b3b287d8",
   "metadata": {
    "scrolled": false
   },
   "outputs": [
    {
     "name": "stderr",
     "output_type": "stream",
     "text": [
      "C:\\Users\\marie\\AppData\\Local\\Temp\\ipykernel_44492\\3196875147.py:1: PerformanceWarning: dropping on a non-lexsorted multi-index without a level parameter may impact performance.\n",
      "  monthly = calls_by_id_month.merge(internet_by_id_month, on=['user_id','month'], how='outer')\n"
     ]
    },
    {
     "data": {
      "text/html": [
       "<div>\n",
       "<style scoped>\n",
       "    .dataframe tbody tr th:only-of-type {\n",
       "        vertical-align: middle;\n",
       "    }\n",
       "\n",
       "    .dataframe tbody tr th {\n",
       "        vertical-align: top;\n",
       "    }\n",
       "\n",
       "    .dataframe thead tr th {\n",
       "        text-align: left;\n",
       "    }\n",
       "</style>\n",
       "<table border=\"1\" class=\"dataframe\">\n",
       "  <thead>\n",
       "    <tr>\n",
       "      <th></th>\n",
       "      <th>user_id</th>\n",
       "      <th>month</th>\n",
       "      <th>count</th>\n",
       "      <th colspan=\"2\" halign=\"left\">sum</th>\n",
       "    </tr>\n",
       "    <tr>\n",
       "      <th></th>\n",
       "      <th></th>\n",
       "      <th></th>\n",
       "      <th>duration_int</th>\n",
       "      <th>duration_int</th>\n",
       "      <th>gb_used</th>\n",
       "    </tr>\n",
       "  </thead>\n",
       "  <tbody>\n",
       "    <tr>\n",
       "      <th>0</th>\n",
       "      <td>1000</td>\n",
       "      <td>12</td>\n",
       "      <td>16.0</td>\n",
       "      <td>124.0</td>\n",
       "      <td>2.0</td>\n",
       "    </tr>\n",
       "    <tr>\n",
       "      <th>1</th>\n",
       "      <td>1001</td>\n",
       "      <td>8</td>\n",
       "      <td>22.0</td>\n",
       "      <td>182.0</td>\n",
       "      <td>7.0</td>\n",
       "    </tr>\n",
       "    <tr>\n",
       "      <th>2</th>\n",
       "      <td>1001</td>\n",
       "      <td>9</td>\n",
       "      <td>38.0</td>\n",
       "      <td>315.0</td>\n",
       "      <td>14.0</td>\n",
       "    </tr>\n",
       "    <tr>\n",
       "      <th>3</th>\n",
       "      <td>1001</td>\n",
       "      <td>10</td>\n",
       "      <td>47.0</td>\n",
       "      <td>393.0</td>\n",
       "      <td>22.0</td>\n",
       "    </tr>\n",
       "    <tr>\n",
       "      <th>4</th>\n",
       "      <td>1001</td>\n",
       "      <td>11</td>\n",
       "      <td>49.0</td>\n",
       "      <td>426.0</td>\n",
       "      <td>19.0</td>\n",
       "    </tr>\n",
       "    <tr>\n",
       "      <th>...</th>\n",
       "      <td>...</td>\n",
       "      <td>...</td>\n",
       "      <td>...</td>\n",
       "      <td>...</td>\n",
       "      <td>...</td>\n",
       "    </tr>\n",
       "    <tr>\n",
       "      <th>2287</th>\n",
       "      <td>1349</td>\n",
       "      <td>10</td>\n",
       "      <td>NaN</td>\n",
       "      <td>NaN</td>\n",
       "      <td>13.0</td>\n",
       "    </tr>\n",
       "    <tr>\n",
       "      <th>2288</th>\n",
       "      <td>1349</td>\n",
       "      <td>11</td>\n",
       "      <td>NaN</td>\n",
       "      <td>NaN</td>\n",
       "      <td>17.0</td>\n",
       "    </tr>\n",
       "    <tr>\n",
       "      <th>2289</th>\n",
       "      <td>1349</td>\n",
       "      <td>12</td>\n",
       "      <td>NaN</td>\n",
       "      <td>NaN</td>\n",
       "      <td>13.0</td>\n",
       "    </tr>\n",
       "    <tr>\n",
       "      <th>2290</th>\n",
       "      <td>1361</td>\n",
       "      <td>5</td>\n",
       "      <td>NaN</td>\n",
       "      <td>NaN</td>\n",
       "      <td>2.0</td>\n",
       "    </tr>\n",
       "    <tr>\n",
       "      <th>2291</th>\n",
       "      <td>1407</td>\n",
       "      <td>11</td>\n",
       "      <td>NaN</td>\n",
       "      <td>NaN</td>\n",
       "      <td>1.0</td>\n",
       "    </tr>\n",
       "  </tbody>\n",
       "</table>\n",
       "<p>2292 rows × 5 columns</p>\n",
       "</div>"
      ],
      "text/plain": [
       "     user_id month        count          sum        \n",
       "                   duration_int duration_int gb_used\n",
       "0       1000    12         16.0        124.0     2.0\n",
       "1       1001     8         22.0        182.0     7.0\n",
       "2       1001     9         38.0        315.0    14.0\n",
       "3       1001    10         47.0        393.0    22.0\n",
       "4       1001    11         49.0        426.0    19.0\n",
       "...      ...   ...          ...          ...     ...\n",
       "2287    1349    10          NaN          NaN    13.0\n",
       "2288    1349    11          NaN          NaN    17.0\n",
       "2289    1349    12          NaN          NaN    13.0\n",
       "2290    1361     5          NaN          NaN     2.0\n",
       "2291    1407    11          NaN          NaN     1.0\n",
       "\n",
       "[2292 rows x 5 columns]"
      ]
     },
     "execution_count": 81,
     "metadata": {},
     "output_type": "execute_result"
    }
   ],
   "source": [
    "monthly = calls_by_id_month.merge(internet_by_id_month, on=['user_id','month'], how='outer')\n",
    "monthly"
   ]
  },
  {
   "cell_type": "code",
   "execution_count": 82,
   "id": "9465e412",
   "metadata": {
    "scrolled": true
   },
   "outputs": [
    {
     "name": "stderr",
     "output_type": "stream",
     "text": [
      "C:\\Users\\marie\\AppData\\Local\\Temp\\ipykernel_44492\\2063652900.py:1: PerformanceWarning: dropping on a non-lexsorted multi-index without a level parameter may impact performance.\n",
      "  monthly = monthly.merge(messages_by_id_month, on=['user_id','month'], how='outer')\n"
     ]
    },
    {
     "data": {
      "text/html": [
       "<div>\n",
       "<style scoped>\n",
       "    .dataframe tbody tr th:only-of-type {\n",
       "        vertical-align: middle;\n",
       "    }\n",
       "\n",
       "    .dataframe tbody tr th {\n",
       "        vertical-align: top;\n",
       "    }\n",
       "\n",
       "    .dataframe thead tr th {\n",
       "        text-align: left;\n",
       "    }\n",
       "</style>\n",
       "<table border=\"1\" class=\"dataframe\">\n",
       "  <thead>\n",
       "    <tr>\n",
       "      <th></th>\n",
       "      <th>user_id</th>\n",
       "      <th>month</th>\n",
       "      <th>count</th>\n",
       "      <th colspan=\"2\" halign=\"left\">sum</th>\n",
       "      <th>count</th>\n",
       "    </tr>\n",
       "    <tr>\n",
       "      <th></th>\n",
       "      <th></th>\n",
       "      <th></th>\n",
       "      <th>duration_int</th>\n",
       "      <th>duration_int</th>\n",
       "      <th>gb_used</th>\n",
       "      <th>id</th>\n",
       "    </tr>\n",
       "  </thead>\n",
       "  <tbody>\n",
       "    <tr>\n",
       "      <th>0</th>\n",
       "      <td>1000</td>\n",
       "      <td>12</td>\n",
       "      <td>16.0</td>\n",
       "      <td>124.0</td>\n",
       "      <td>2.0</td>\n",
       "      <td>11.0</td>\n",
       "    </tr>\n",
       "    <tr>\n",
       "      <th>1</th>\n",
       "      <td>1001</td>\n",
       "      <td>8</td>\n",
       "      <td>22.0</td>\n",
       "      <td>182.0</td>\n",
       "      <td>7.0</td>\n",
       "      <td>30.0</td>\n",
       "    </tr>\n",
       "    <tr>\n",
       "      <th>2</th>\n",
       "      <td>1001</td>\n",
       "      <td>9</td>\n",
       "      <td>38.0</td>\n",
       "      <td>315.0</td>\n",
       "      <td>14.0</td>\n",
       "      <td>44.0</td>\n",
       "    </tr>\n",
       "    <tr>\n",
       "      <th>3</th>\n",
       "      <td>1001</td>\n",
       "      <td>10</td>\n",
       "      <td>47.0</td>\n",
       "      <td>393.0</td>\n",
       "      <td>22.0</td>\n",
       "      <td>53.0</td>\n",
       "    </tr>\n",
       "    <tr>\n",
       "      <th>4</th>\n",
       "      <td>1001</td>\n",
       "      <td>11</td>\n",
       "      <td>49.0</td>\n",
       "      <td>426.0</td>\n",
       "      <td>19.0</td>\n",
       "      <td>36.0</td>\n",
       "    </tr>\n",
       "    <tr>\n",
       "      <th>...</th>\n",
       "      <td>...</td>\n",
       "      <td>...</td>\n",
       "      <td>...</td>\n",
       "      <td>...</td>\n",
       "      <td>...</td>\n",
       "      <td>...</td>\n",
       "    </tr>\n",
       "    <tr>\n",
       "      <th>2288</th>\n",
       "      <td>1349</td>\n",
       "      <td>11</td>\n",
       "      <td>NaN</td>\n",
       "      <td>NaN</td>\n",
       "      <td>17.0</td>\n",
       "      <td>72.0</td>\n",
       "    </tr>\n",
       "    <tr>\n",
       "      <th>2289</th>\n",
       "      <td>1349</td>\n",
       "      <td>12</td>\n",
       "      <td>NaN</td>\n",
       "      <td>NaN</td>\n",
       "      <td>13.0</td>\n",
       "      <td>61.0</td>\n",
       "    </tr>\n",
       "    <tr>\n",
       "      <th>2290</th>\n",
       "      <td>1361</td>\n",
       "      <td>5</td>\n",
       "      <td>NaN</td>\n",
       "      <td>NaN</td>\n",
       "      <td>2.0</td>\n",
       "      <td>2.0</td>\n",
       "    </tr>\n",
       "    <tr>\n",
       "      <th>2291</th>\n",
       "      <td>1407</td>\n",
       "      <td>11</td>\n",
       "      <td>NaN</td>\n",
       "      <td>NaN</td>\n",
       "      <td>1.0</td>\n",
       "      <td>1.0</td>\n",
       "    </tr>\n",
       "    <tr>\n",
       "      <th>2292</th>\n",
       "      <td>1482</td>\n",
       "      <td>10</td>\n",
       "      <td>NaN</td>\n",
       "      <td>NaN</td>\n",
       "      <td>NaN</td>\n",
       "      <td>2.0</td>\n",
       "    </tr>\n",
       "  </tbody>\n",
       "</table>\n",
       "<p>2293 rows × 6 columns</p>\n",
       "</div>"
      ],
      "text/plain": [
       "     user_id month        count          sum         count\n",
       "                   duration_int duration_int gb_used    id\n",
       "0       1000    12         16.0        124.0     2.0  11.0\n",
       "1       1001     8         22.0        182.0     7.0  30.0\n",
       "2       1001     9         38.0        315.0    14.0  44.0\n",
       "3       1001    10         47.0        393.0    22.0  53.0\n",
       "4       1001    11         49.0        426.0    19.0  36.0\n",
       "...      ...   ...          ...          ...     ...   ...\n",
       "2288    1349    11          NaN          NaN    17.0  72.0\n",
       "2289    1349    12          NaN          NaN    13.0  61.0\n",
       "2290    1361     5          NaN          NaN     2.0   2.0\n",
       "2291    1407    11          NaN          NaN     1.0   1.0\n",
       "2292    1482    10          NaN          NaN     NaN   2.0\n",
       "\n",
       "[2293 rows x 6 columns]"
      ]
     },
     "execution_count": 82,
     "metadata": {},
     "output_type": "execute_result"
    }
   ],
   "source": [
    "monthly = monthly.merge(messages_by_id_month, on=['user_id','month'], how='outer')\n",
    "monthly"
   ]
  },
  {
   "cell_type": "markdown",
   "id": "34fba06c",
   "metadata": {},
   "source": [
    "Ahora los valores ausente de esta tabla vamos a llenarlos con ceros. Estos valores ausentes equivalen a servicios que el usuario no usó."
   ]
  },
  {
   "cell_type": "code",
   "execution_count": 83,
   "id": "c78b823a",
   "metadata": {
    "scrolled": true
   },
   "outputs": [
    {
     "data": {
      "text/html": [
       "<div>\n",
       "<style scoped>\n",
       "    .dataframe tbody tr th:only-of-type {\n",
       "        vertical-align: middle;\n",
       "    }\n",
       "\n",
       "    .dataframe tbody tr th {\n",
       "        vertical-align: top;\n",
       "    }\n",
       "\n",
       "    .dataframe thead tr th {\n",
       "        text-align: left;\n",
       "    }\n",
       "</style>\n",
       "<table border=\"1\" class=\"dataframe\">\n",
       "  <thead>\n",
       "    <tr>\n",
       "      <th></th>\n",
       "      <th>user_id</th>\n",
       "      <th>month</th>\n",
       "      <th>count</th>\n",
       "      <th colspan=\"2\" halign=\"left\">sum</th>\n",
       "      <th>count</th>\n",
       "    </tr>\n",
       "    <tr>\n",
       "      <th></th>\n",
       "      <th></th>\n",
       "      <th></th>\n",
       "      <th>duration_int</th>\n",
       "      <th>duration_int</th>\n",
       "      <th>gb_used</th>\n",
       "      <th>id</th>\n",
       "    </tr>\n",
       "  </thead>\n",
       "  <tbody>\n",
       "    <tr>\n",
       "      <th>0</th>\n",
       "      <td>1000</td>\n",
       "      <td>12</td>\n",
       "      <td>16.0</td>\n",
       "      <td>124.0</td>\n",
       "      <td>2.0</td>\n",
       "      <td>11.0</td>\n",
       "    </tr>\n",
       "    <tr>\n",
       "      <th>1</th>\n",
       "      <td>1001</td>\n",
       "      <td>8</td>\n",
       "      <td>22.0</td>\n",
       "      <td>182.0</td>\n",
       "      <td>7.0</td>\n",
       "      <td>30.0</td>\n",
       "    </tr>\n",
       "    <tr>\n",
       "      <th>2</th>\n",
       "      <td>1001</td>\n",
       "      <td>9</td>\n",
       "      <td>38.0</td>\n",
       "      <td>315.0</td>\n",
       "      <td>14.0</td>\n",
       "      <td>44.0</td>\n",
       "    </tr>\n",
       "    <tr>\n",
       "      <th>3</th>\n",
       "      <td>1001</td>\n",
       "      <td>10</td>\n",
       "      <td>47.0</td>\n",
       "      <td>393.0</td>\n",
       "      <td>22.0</td>\n",
       "      <td>53.0</td>\n",
       "    </tr>\n",
       "    <tr>\n",
       "      <th>4</th>\n",
       "      <td>1001</td>\n",
       "      <td>11</td>\n",
       "      <td>49.0</td>\n",
       "      <td>426.0</td>\n",
       "      <td>19.0</td>\n",
       "      <td>36.0</td>\n",
       "    </tr>\n",
       "    <tr>\n",
       "      <th>...</th>\n",
       "      <td>...</td>\n",
       "      <td>...</td>\n",
       "      <td>...</td>\n",
       "      <td>...</td>\n",
       "      <td>...</td>\n",
       "      <td>...</td>\n",
       "    </tr>\n",
       "    <tr>\n",
       "      <th>2288</th>\n",
       "      <td>1349</td>\n",
       "      <td>11</td>\n",
       "      <td>0.0</td>\n",
       "      <td>0.0</td>\n",
       "      <td>17.0</td>\n",
       "      <td>72.0</td>\n",
       "    </tr>\n",
       "    <tr>\n",
       "      <th>2289</th>\n",
       "      <td>1349</td>\n",
       "      <td>12</td>\n",
       "      <td>0.0</td>\n",
       "      <td>0.0</td>\n",
       "      <td>13.0</td>\n",
       "      <td>61.0</td>\n",
       "    </tr>\n",
       "    <tr>\n",
       "      <th>2290</th>\n",
       "      <td>1361</td>\n",
       "      <td>5</td>\n",
       "      <td>0.0</td>\n",
       "      <td>0.0</td>\n",
       "      <td>2.0</td>\n",
       "      <td>2.0</td>\n",
       "    </tr>\n",
       "    <tr>\n",
       "      <th>2291</th>\n",
       "      <td>1407</td>\n",
       "      <td>11</td>\n",
       "      <td>0.0</td>\n",
       "      <td>0.0</td>\n",
       "      <td>1.0</td>\n",
       "      <td>1.0</td>\n",
       "    </tr>\n",
       "    <tr>\n",
       "      <th>2292</th>\n",
       "      <td>1482</td>\n",
       "      <td>10</td>\n",
       "      <td>0.0</td>\n",
       "      <td>0.0</td>\n",
       "      <td>0.0</td>\n",
       "      <td>2.0</td>\n",
       "    </tr>\n",
       "  </tbody>\n",
       "</table>\n",
       "<p>2293 rows × 6 columns</p>\n",
       "</div>"
      ],
      "text/plain": [
       "     user_id month        count          sum         count\n",
       "                   duration_int duration_int gb_used    id\n",
       "0       1000    12         16.0        124.0     2.0  11.0\n",
       "1       1001     8         22.0        182.0     7.0  30.0\n",
       "2       1001     9         38.0        315.0    14.0  44.0\n",
       "3       1001    10         47.0        393.0    22.0  53.0\n",
       "4       1001    11         49.0        426.0    19.0  36.0\n",
       "...      ...   ...          ...          ...     ...   ...\n",
       "2288    1349    11          0.0          0.0    17.0  72.0\n",
       "2289    1349    12          0.0          0.0    13.0  61.0\n",
       "2290    1361     5          0.0          0.0     2.0   2.0\n",
       "2291    1407    11          0.0          0.0     1.0   1.0\n",
       "2292    1482    10          0.0          0.0     0.0   2.0\n",
       "\n",
       "[2293 rows x 6 columns]"
      ]
     },
     "execution_count": 83,
     "metadata": {},
     "output_type": "execute_result"
    }
   ],
   "source": [
    "monthly=monthly.fillna(0)\n",
    "monthly"
   ]
  },
  {
   "cell_type": "markdown",
   "id": "0eb193a6",
   "metadata": {},
   "source": [
    "Con estos datos, vamos a unirla con la tabla de user_data."
   ]
  },
  {
   "cell_type": "code",
   "execution_count": 84,
   "id": "b7fd873c",
   "metadata": {
    "scrolled": true
   },
   "outputs": [
    {
     "name": "stderr",
     "output_type": "stream",
     "text": [
      "C:\\Users\\marie\\AppData\\Local\\Temp\\ipykernel_44492\\1763206419.py:1: FutureWarning: merging between different levels is deprecated and will be removed in a future version. (1 levels on the left, 2 on the right)\n",
      "  users_monthly = users_data.merge(monthly, on='user_id', how='left')\n",
      "C:\\Users\\marie\\AppData\\Local\\Temp\\ipykernel_44492\\1763206419.py:1: PerformanceWarning: dropping on a non-lexsorted multi-index without a level parameter may impact performance.\n",
      "  users_monthly = users_data.merge(monthly, on='user_id', how='left')\n"
     ]
    },
    {
     "data": {
      "text/html": [
       "<div>\n",
       "<style scoped>\n",
       "    .dataframe tbody tr th:only-of-type {\n",
       "        vertical-align: middle;\n",
       "    }\n",
       "\n",
       "    .dataframe tbody tr th {\n",
       "        vertical-align: top;\n",
       "    }\n",
       "\n",
       "    .dataframe thead th {\n",
       "        text-align: right;\n",
       "    }\n",
       "</style>\n",
       "<table border=\"1\" class=\"dataframe\">\n",
       "  <thead>\n",
       "    <tr style=\"text-align: right;\">\n",
       "      <th></th>\n",
       "      <th>user_id</th>\n",
       "      <th>first_name</th>\n",
       "      <th>last_name</th>\n",
       "      <th>age</th>\n",
       "      <th>city</th>\n",
       "      <th>reg_date</th>\n",
       "      <th>plan</th>\n",
       "      <th>churn_date</th>\n",
       "      <th>reg_month</th>\n",
       "      <th>churn_month</th>\n",
       "      <th>(month, )</th>\n",
       "      <th>(count, duration_int)</th>\n",
       "      <th>(sum, duration_int)</th>\n",
       "      <th>(sum, gb_used)</th>\n",
       "      <th>(count, id)</th>\n",
       "    </tr>\n",
       "  </thead>\n",
       "  <tbody>\n",
       "    <tr>\n",
       "      <th>0</th>\n",
       "      <td>1000</td>\n",
       "      <td>Anamaria</td>\n",
       "      <td>Bauer</td>\n",
       "      <td>45</td>\n",
       "      <td>Atlanta-Sandy Springs-Roswell, GA MSA</td>\n",
       "      <td>2018-12-24</td>\n",
       "      <td>ultimate</td>\n",
       "      <td>2019-01-01</td>\n",
       "      <td>12</td>\n",
       "      <td>0</td>\n",
       "      <td>12.0</td>\n",
       "      <td>16.0</td>\n",
       "      <td>124.0</td>\n",
       "      <td>2.0</td>\n",
       "      <td>11.0</td>\n",
       "    </tr>\n",
       "    <tr>\n",
       "      <th>1</th>\n",
       "      <td>1001</td>\n",
       "      <td>Mickey</td>\n",
       "      <td>Wilkerson</td>\n",
       "      <td>28</td>\n",
       "      <td>Seattle-Tacoma-Bellevue, WA MSA</td>\n",
       "      <td>2018-08-13</td>\n",
       "      <td>surf</td>\n",
       "      <td>2019-01-01</td>\n",
       "      <td>8</td>\n",
       "      <td>0</td>\n",
       "      <td>8.0</td>\n",
       "      <td>22.0</td>\n",
       "      <td>182.0</td>\n",
       "      <td>7.0</td>\n",
       "      <td>30.0</td>\n",
       "    </tr>\n",
       "    <tr>\n",
       "      <th>2</th>\n",
       "      <td>1001</td>\n",
       "      <td>Mickey</td>\n",
       "      <td>Wilkerson</td>\n",
       "      <td>28</td>\n",
       "      <td>Seattle-Tacoma-Bellevue, WA MSA</td>\n",
       "      <td>2018-08-13</td>\n",
       "      <td>surf</td>\n",
       "      <td>2019-01-01</td>\n",
       "      <td>8</td>\n",
       "      <td>0</td>\n",
       "      <td>9.0</td>\n",
       "      <td>38.0</td>\n",
       "      <td>315.0</td>\n",
       "      <td>14.0</td>\n",
       "      <td>44.0</td>\n",
       "    </tr>\n",
       "    <tr>\n",
       "      <th>3</th>\n",
       "      <td>1001</td>\n",
       "      <td>Mickey</td>\n",
       "      <td>Wilkerson</td>\n",
       "      <td>28</td>\n",
       "      <td>Seattle-Tacoma-Bellevue, WA MSA</td>\n",
       "      <td>2018-08-13</td>\n",
       "      <td>surf</td>\n",
       "      <td>2019-01-01</td>\n",
       "      <td>8</td>\n",
       "      <td>0</td>\n",
       "      <td>10.0</td>\n",
       "      <td>47.0</td>\n",
       "      <td>393.0</td>\n",
       "      <td>22.0</td>\n",
       "      <td>53.0</td>\n",
       "    </tr>\n",
       "    <tr>\n",
       "      <th>4</th>\n",
       "      <td>1001</td>\n",
       "      <td>Mickey</td>\n",
       "      <td>Wilkerson</td>\n",
       "      <td>28</td>\n",
       "      <td>Seattle-Tacoma-Bellevue, WA MSA</td>\n",
       "      <td>2018-08-13</td>\n",
       "      <td>surf</td>\n",
       "      <td>2019-01-01</td>\n",
       "      <td>8</td>\n",
       "      <td>0</td>\n",
       "      <td>11.0</td>\n",
       "      <td>49.0</td>\n",
       "      <td>426.0</td>\n",
       "      <td>19.0</td>\n",
       "      <td>36.0</td>\n",
       "    </tr>\n",
       "  </tbody>\n",
       "</table>\n",
       "</div>"
      ],
      "text/plain": [
       "   user_id first_name  last_name  age                                   city  \\\n",
       "0     1000   Anamaria      Bauer   45  Atlanta-Sandy Springs-Roswell, GA MSA   \n",
       "1     1001     Mickey  Wilkerson   28        Seattle-Tacoma-Bellevue, WA MSA   \n",
       "2     1001     Mickey  Wilkerson   28        Seattle-Tacoma-Bellevue, WA MSA   \n",
       "3     1001     Mickey  Wilkerson   28        Seattle-Tacoma-Bellevue, WA MSA   \n",
       "4     1001     Mickey  Wilkerson   28        Seattle-Tacoma-Bellevue, WA MSA   \n",
       "\n",
       "    reg_date      plan churn_date  reg_month  churn_month  (month, )  \\\n",
       "0 2018-12-24  ultimate 2019-01-01         12            0       12.0   \n",
       "1 2018-08-13      surf 2019-01-01          8            0        8.0   \n",
       "2 2018-08-13      surf 2019-01-01          8            0        9.0   \n",
       "3 2018-08-13      surf 2019-01-01          8            0       10.0   \n",
       "4 2018-08-13      surf 2019-01-01          8            0       11.0   \n",
       "\n",
       "   (count, duration_int)  (sum, duration_int)  (sum, gb_used)  (count, id)  \n",
       "0                   16.0                124.0             2.0         11.0  \n",
       "1                   22.0                182.0             7.0         30.0  \n",
       "2                   38.0                315.0            14.0         44.0  \n",
       "3                   47.0                393.0            22.0         53.0  \n",
       "4                   49.0                426.0            19.0         36.0  "
      ]
     },
     "execution_count": 84,
     "metadata": {},
     "output_type": "execute_result"
    }
   ],
   "source": [
    "users_monthly = users_data.merge(monthly, on='user_id', how='left')\n",
    "users_monthly.head()"
   ]
  },
  {
   "cell_type": "markdown",
   "id": "bbd4a902",
   "metadata": {},
   "source": [
    "Se van a cambiar los nombres de algunas columnas"
   ]
  },
  {
   "cell_type": "code",
   "execution_count": 85,
   "id": "475931dc",
   "metadata": {
    "scrolled": true
   },
   "outputs": [],
   "source": [
    "users_monthly = users_monthly.rename(columns = {\n",
    "                                                ('month', ''):'month',\n",
    "                                                ('count', 'duration_int'):'calls_count',\n",
    "                                                ('sum', 'duration_int'): 'calls_sum',\n",
    "                                                ('sum', 'gb_used'): 'internet_sum',\n",
    "                                                ('count', 'id'): 'messages_count'\n",
    "})"
   ]
  },
  {
   "cell_type": "code",
   "execution_count": 86,
   "id": "bb769c49",
   "metadata": {},
   "outputs": [
    {
     "data": {
      "text/html": [
       "<div>\n",
       "<style scoped>\n",
       "    .dataframe tbody tr th:only-of-type {\n",
       "        vertical-align: middle;\n",
       "    }\n",
       "\n",
       "    .dataframe tbody tr th {\n",
       "        vertical-align: top;\n",
       "    }\n",
       "\n",
       "    .dataframe thead th {\n",
       "        text-align: right;\n",
       "    }\n",
       "</style>\n",
       "<table border=\"1\" class=\"dataframe\">\n",
       "  <thead>\n",
       "    <tr style=\"text-align: right;\">\n",
       "      <th></th>\n",
       "      <th>user_id</th>\n",
       "      <th>first_name</th>\n",
       "      <th>last_name</th>\n",
       "      <th>age</th>\n",
       "      <th>city</th>\n",
       "      <th>reg_date</th>\n",
       "      <th>plan</th>\n",
       "      <th>churn_date</th>\n",
       "      <th>reg_month</th>\n",
       "      <th>churn_month</th>\n",
       "      <th>month</th>\n",
       "      <th>calls_count</th>\n",
       "      <th>calls_sum</th>\n",
       "      <th>internet_sum</th>\n",
       "      <th>messages_count</th>\n",
       "    </tr>\n",
       "  </thead>\n",
       "  <tbody>\n",
       "    <tr>\n",
       "      <th>0</th>\n",
       "      <td>1000</td>\n",
       "      <td>Anamaria</td>\n",
       "      <td>Bauer</td>\n",
       "      <td>45</td>\n",
       "      <td>Atlanta-Sandy Springs-Roswell, GA MSA</td>\n",
       "      <td>2018-12-24</td>\n",
       "      <td>ultimate</td>\n",
       "      <td>2019-01-01</td>\n",
       "      <td>12</td>\n",
       "      <td>0</td>\n",
       "      <td>12.0</td>\n",
       "      <td>16.0</td>\n",
       "      <td>124.0</td>\n",
       "      <td>2.0</td>\n",
       "      <td>11.0</td>\n",
       "    </tr>\n",
       "    <tr>\n",
       "      <th>1</th>\n",
       "      <td>1001</td>\n",
       "      <td>Mickey</td>\n",
       "      <td>Wilkerson</td>\n",
       "      <td>28</td>\n",
       "      <td>Seattle-Tacoma-Bellevue, WA MSA</td>\n",
       "      <td>2018-08-13</td>\n",
       "      <td>surf</td>\n",
       "      <td>2019-01-01</td>\n",
       "      <td>8</td>\n",
       "      <td>0</td>\n",
       "      <td>8.0</td>\n",
       "      <td>22.0</td>\n",
       "      <td>182.0</td>\n",
       "      <td>7.0</td>\n",
       "      <td>30.0</td>\n",
       "    </tr>\n",
       "    <tr>\n",
       "      <th>2</th>\n",
       "      <td>1001</td>\n",
       "      <td>Mickey</td>\n",
       "      <td>Wilkerson</td>\n",
       "      <td>28</td>\n",
       "      <td>Seattle-Tacoma-Bellevue, WA MSA</td>\n",
       "      <td>2018-08-13</td>\n",
       "      <td>surf</td>\n",
       "      <td>2019-01-01</td>\n",
       "      <td>8</td>\n",
       "      <td>0</td>\n",
       "      <td>9.0</td>\n",
       "      <td>38.0</td>\n",
       "      <td>315.0</td>\n",
       "      <td>14.0</td>\n",
       "      <td>44.0</td>\n",
       "    </tr>\n",
       "    <tr>\n",
       "      <th>3</th>\n",
       "      <td>1001</td>\n",
       "      <td>Mickey</td>\n",
       "      <td>Wilkerson</td>\n",
       "      <td>28</td>\n",
       "      <td>Seattle-Tacoma-Bellevue, WA MSA</td>\n",
       "      <td>2018-08-13</td>\n",
       "      <td>surf</td>\n",
       "      <td>2019-01-01</td>\n",
       "      <td>8</td>\n",
       "      <td>0</td>\n",
       "      <td>10.0</td>\n",
       "      <td>47.0</td>\n",
       "      <td>393.0</td>\n",
       "      <td>22.0</td>\n",
       "      <td>53.0</td>\n",
       "    </tr>\n",
       "    <tr>\n",
       "      <th>4</th>\n",
       "      <td>1001</td>\n",
       "      <td>Mickey</td>\n",
       "      <td>Wilkerson</td>\n",
       "      <td>28</td>\n",
       "      <td>Seattle-Tacoma-Bellevue, WA MSA</td>\n",
       "      <td>2018-08-13</td>\n",
       "      <td>surf</td>\n",
       "      <td>2019-01-01</td>\n",
       "      <td>8</td>\n",
       "      <td>0</td>\n",
       "      <td>11.0</td>\n",
       "      <td>49.0</td>\n",
       "      <td>426.0</td>\n",
       "      <td>19.0</td>\n",
       "      <td>36.0</td>\n",
       "    </tr>\n",
       "  </tbody>\n",
       "</table>\n",
       "</div>"
      ],
      "text/plain": [
       "   user_id first_name  last_name  age                                   city  \\\n",
       "0     1000   Anamaria      Bauer   45  Atlanta-Sandy Springs-Roswell, GA MSA   \n",
       "1     1001     Mickey  Wilkerson   28        Seattle-Tacoma-Bellevue, WA MSA   \n",
       "2     1001     Mickey  Wilkerson   28        Seattle-Tacoma-Bellevue, WA MSA   \n",
       "3     1001     Mickey  Wilkerson   28        Seattle-Tacoma-Bellevue, WA MSA   \n",
       "4     1001     Mickey  Wilkerson   28        Seattle-Tacoma-Bellevue, WA MSA   \n",
       "\n",
       "    reg_date      plan churn_date  reg_month  churn_month  month  calls_count  \\\n",
       "0 2018-12-24  ultimate 2019-01-01         12            0   12.0         16.0   \n",
       "1 2018-08-13      surf 2019-01-01          8            0    8.0         22.0   \n",
       "2 2018-08-13      surf 2019-01-01          8            0    9.0         38.0   \n",
       "3 2018-08-13      surf 2019-01-01          8            0   10.0         47.0   \n",
       "4 2018-08-13      surf 2019-01-01          8            0   11.0         49.0   \n",
       "\n",
       "   calls_sum  internet_sum  messages_count  \n",
       "0      124.0           2.0            11.0  \n",
       "1      182.0           7.0            30.0  \n",
       "2      315.0          14.0            44.0  \n",
       "3      393.0          22.0            53.0  \n",
       "4      426.0          19.0            36.0  "
      ]
     },
     "execution_count": 86,
     "metadata": {},
     "output_type": "execute_result"
    }
   ],
   "source": [
    "users_monthly.head()"
   ]
  },
  {
   "cell_type": "markdown",
   "id": "00291ffa",
   "metadata": {},
   "source": [
    "### 1.4.5. <a id='toc1_4_5_'></a>[Conclusiones intermedias](#toc0_)"
   ]
  },
  {
   "cell_type": "markdown",
   "id": "80d754b8",
   "metadata": {},
   "source": [
    "- Se crearon tablas de consumo por usuario por mes para:\n",
    "    - Cantidad de llamadas \n",
    "    - Duración de las llamadas\n",
    "    - Consumo de internet en Gb\n",
    "    - Cantidad de mensajes enviados\n",
    "- Se unieron estas tablas con la de users_data, ahora podemos calcular los ingresos por uso excedente.\n",
    "- Se cambió los nombres de algunas columnas de esta tabla."
   ]
  },
  {
   "cell_type": "markdown",
   "id": "c9502fc3",
   "metadata": {},
   "source": [
    "## 1.5. <a id='toc1_5_'></a>[Cálculo de ingresos mensuales por cada usuario](#toc0_)"
   ]
  },
  {
   "cell_type": "markdown",
   "id": "c8f4ec64",
   "metadata": {},
   "source": [
    "### 1.5.1. <a id='toc1_5_1_'></a>[Cálculo de ingreso mensual del excedente por cada usuario](#toc0_)"
   ]
  },
  {
   "cell_type": "markdown",
   "id": "5008e444",
   "metadata": {},
   "source": [
    "De la tabla de `users_monthly` se va a calcular los ingresos por cada servicio. Se guardará en 3 columnas los ingresos extras por llamadas, internet y mensajes."
   ]
  },
  {
   "cell_type": "code",
   "execution_count": 56,
   "id": "55154536",
   "metadata": {
    "scrolled": true
   },
   "outputs": [],
   "source": [
    "def calcular_ingreso_extra(row, servicio, limites, precios):\n",
    "    # Esta función toma el servicio que se le especifique (llamadas, internet o mensajes)\n",
    "    # y las columnas de límites y precios según corresponda\n",
    "    # Luego con esto calcula el precio a pagar por cada fila.\n",
    "    if row['plan'] == 'surf':\n",
    "        if row[servicio] > limites['surf']:\n",
    "            ingreso_extra = (row[servicio] - limites['surf'])*precios['surf']\n",
    "        else:\n",
    "            ingreso_extra =  0\n",
    "    else:\n",
    "        if row[servicio] > limites['ultimate']:\n",
    "            ingreso_extra = (row[servicio] - limites['ultimate'])*precios['ultimate']\n",
    "        else:\n",
    "            ingreso_extra =  0\n",
    "        \n",
    "    return ingreso_extra"
   ]
  },
  {
   "cell_type": "markdown",
   "id": "73eec147",
   "metadata": {},
   "source": [
    "Para los tres tipos de ingreso debería funcionar este algoritmo, para comprobar, vamos a determinar el ingreso extra para un fila, cuyo plan es surf y tiene excedente en llamadas."
   ]
  },
  {
   "cell_type": "code",
   "execution_count": 57,
   "id": "1ad86df1",
   "metadata": {
    "scrolled": true
   },
   "outputs": [
    {
     "data": {
      "text/plain": [
       "plan          surf\n",
       "calls_sum    617.0\n",
       "Name: 25, dtype: object"
      ]
     },
     "execution_count": 57,
     "metadata": {},
     "output_type": "execute_result"
    }
   ],
   "source": [
    "users_monthly.loc[25, ['plan','calls_sum']]"
   ]
  },
  {
   "cell_type": "code",
   "execution_count": 58,
   "id": "5f92c986",
   "metadata": {},
   "outputs": [
    {
     "data": {
      "text/plain": [
       "3.51"
      ]
     },
     "execution_count": 58,
     "metadata": {},
     "output_type": "execute_result"
    }
   ],
   "source": [
    "calcular_ingreso_extra(users_monthly.loc[25], 'calls_sum', plans_data['minutes_included'], plans_data['usd_per_minute'])"
   ]
  },
  {
   "cell_type": "markdown",
   "id": "60891c59",
   "metadata": {},
   "source": [
    "Ahora para un fila de alguien con plan ultimate sin excedente."
   ]
  },
  {
   "cell_type": "code",
   "execution_count": 59,
   "id": "f1882a49",
   "metadata": {},
   "outputs": [
    {
     "data": {
      "text/plain": [
       "plan         ultimate\n",
       "calls_sum       634.0\n",
       "Name: 28, dtype: object"
      ]
     },
     "execution_count": 59,
     "metadata": {},
     "output_type": "execute_result"
    }
   ],
   "source": [
    "users_monthly.loc[28, ['plan','calls_sum']]"
   ]
  },
  {
   "cell_type": "code",
   "execution_count": 60,
   "id": "dc82d09b",
   "metadata": {},
   "outputs": [
    {
     "data": {
      "text/plain": [
       "0"
      ]
     },
     "execution_count": 60,
     "metadata": {},
     "output_type": "execute_result"
    }
   ],
   "source": [
    "calcular_ingreso_extra(users_monthly.loc[28], 'calls_sum', plans_data['minutes_included'], plans_data['usd_per_minute'])"
   ]
  },
  {
   "cell_type": "markdown",
   "id": "b7c01c78",
   "metadata": {},
   "source": [
    "Los valores son correctos, procedemos a crear las columnas."
   ]
  },
  {
   "cell_type": "code",
   "execution_count": 61,
   "id": "8644f15e",
   "metadata": {},
   "outputs": [],
   "source": [
    "users_monthly['ingreso_calls']=users_monthly.apply(calcular_ingreso_extra, \n",
    "                    args=('calls_sum', plans_data['minutes_included'], plans_data['usd_per_minute']),\n",
    "                    axis=1)\n",
    "users_monthly['ingreso_internet']=users_monthly.apply(calcular_ingreso_extra, \n",
    "                    args=('internet_sum', plans_data['mb_per_month_included']/1024, plans_data['usd_per_gb']),\n",
    "                    axis=1)\n",
    "users_monthly['ingreso_messages']=users_monthly.apply(calcular_ingreso_extra, \n",
    "                    args=('messages_count', plans_data['messages_included'], plans_data['usd_per_message']),\n",
    "                    axis=1)"
   ]
  },
  {
   "cell_type": "code",
   "execution_count": 62,
   "id": "4cff10ef",
   "metadata": {},
   "outputs": [
    {
     "data": {
      "text/html": [
       "<div>\n",
       "<style scoped>\n",
       "    .dataframe tbody tr th:only-of-type {\n",
       "        vertical-align: middle;\n",
       "    }\n",
       "\n",
       "    .dataframe tbody tr th {\n",
       "        vertical-align: top;\n",
       "    }\n",
       "\n",
       "    .dataframe thead th {\n",
       "        text-align: right;\n",
       "    }\n",
       "</style>\n",
       "<table border=\"1\" class=\"dataframe\">\n",
       "  <thead>\n",
       "    <tr style=\"text-align: right;\">\n",
       "      <th></th>\n",
       "      <th>user_id</th>\n",
       "      <th>first_name</th>\n",
       "      <th>last_name</th>\n",
       "      <th>age</th>\n",
       "      <th>city</th>\n",
       "      <th>reg_date</th>\n",
       "      <th>plan</th>\n",
       "      <th>churn_date</th>\n",
       "      <th>reg_month</th>\n",
       "      <th>churn_month</th>\n",
       "      <th>month</th>\n",
       "      <th>calls_count</th>\n",
       "      <th>calls_sum</th>\n",
       "      <th>internet_sum</th>\n",
       "      <th>messages_count</th>\n",
       "      <th>ingreso_calls</th>\n",
       "      <th>ingreso_internet</th>\n",
       "      <th>ingreso_messages</th>\n",
       "    </tr>\n",
       "  </thead>\n",
       "  <tbody>\n",
       "    <tr>\n",
       "      <th>1113</th>\n",
       "      <td>1236</td>\n",
       "      <td>Odell</td>\n",
       "      <td>Juarez</td>\n",
       "      <td>74</td>\n",
       "      <td>Minneapolis-St. Paul-Bloomington, MN-WI MSA</td>\n",
       "      <td>2018-04-04</td>\n",
       "      <td>ultimate</td>\n",
       "      <td>2019-01-01</td>\n",
       "      <td>4</td>\n",
       "      <td>0</td>\n",
       "      <td>6.0</td>\n",
       "      <td>56.0</td>\n",
       "      <td>434.0</td>\n",
       "      <td>19.0</td>\n",
       "      <td>32.0</td>\n",
       "      <td>0.00</td>\n",
       "      <td>0.0</td>\n",
       "      <td>0.0</td>\n",
       "    </tr>\n",
       "    <tr>\n",
       "      <th>1100</th>\n",
       "      <td>1232</td>\n",
       "      <td>Elidia</td>\n",
       "      <td>Russell</td>\n",
       "      <td>64</td>\n",
       "      <td>Chicago-Naperville-Elgin, IL-IN-WI MSA</td>\n",
       "      <td>2018-04-07</td>\n",
       "      <td>surf</td>\n",
       "      <td>2019-01-01</td>\n",
       "      <td>4</td>\n",
       "      <td>0</td>\n",
       "      <td>8.0</td>\n",
       "      <td>68.0</td>\n",
       "      <td>635.0</td>\n",
       "      <td>16.0</td>\n",
       "      <td>0.0</td>\n",
       "      <td>4.05</td>\n",
       "      <td>10.0</td>\n",
       "      <td>0.0</td>\n",
       "    </tr>\n",
       "    <tr>\n",
       "      <th>1149</th>\n",
       "      <td>1245</td>\n",
       "      <td>Quinn</td>\n",
       "      <td>David</td>\n",
       "      <td>30</td>\n",
       "      <td>New York-Newark-Jersey City, NY-NJ-PA MSA</td>\n",
       "      <td>2018-06-19</td>\n",
       "      <td>surf</td>\n",
       "      <td>2019-01-01</td>\n",
       "      <td>6</td>\n",
       "      <td>0</td>\n",
       "      <td>8.0</td>\n",
       "      <td>31.0</td>\n",
       "      <td>258.0</td>\n",
       "      <td>10.0</td>\n",
       "      <td>7.0</td>\n",
       "      <td>0.00</td>\n",
       "      <td>0.0</td>\n",
       "      <td>0.0</td>\n",
       "    </tr>\n",
       "  </tbody>\n",
       "</table>\n",
       "</div>"
      ],
      "text/plain": [
       "      user_id first_name last_name  age  \\\n",
       "1113     1236      Odell    Juarez   74   \n",
       "1100     1232     Elidia   Russell   64   \n",
       "1149     1245      Quinn     David   30   \n",
       "\n",
       "                                             city   reg_date      plan  \\\n",
       "1113  Minneapolis-St. Paul-Bloomington, MN-WI MSA 2018-04-04  ultimate   \n",
       "1100       Chicago-Naperville-Elgin, IL-IN-WI MSA 2018-04-07      surf   \n",
       "1149    New York-Newark-Jersey City, NY-NJ-PA MSA 2018-06-19      surf   \n",
       "\n",
       "     churn_date  reg_month  churn_month  month  calls_count  calls_sum  \\\n",
       "1113 2019-01-01          4            0    6.0         56.0      434.0   \n",
       "1100 2019-01-01          4            0    8.0         68.0      635.0   \n",
       "1149 2019-01-01          6            0    8.0         31.0      258.0   \n",
       "\n",
       "      internet_sum  messages_count  ingreso_calls  ingreso_internet  \\\n",
       "1113          19.0            32.0           0.00               0.0   \n",
       "1100          16.0             0.0           4.05              10.0   \n",
       "1149          10.0             7.0           0.00               0.0   \n",
       "\n",
       "      ingreso_messages  \n",
       "1113               0.0  \n",
       "1100               0.0  \n",
       "1149               0.0  "
      ]
     },
     "execution_count": 62,
     "metadata": {},
     "output_type": "execute_result"
    }
   ],
   "source": [
    "users_monthly.sample(3)"
   ]
  },
  {
   "cell_type": "markdown",
   "id": "19112871",
   "metadata": {},
   "source": [
    "### 1.5.2. <a id='toc1_5_2_'></a>[Cálculo del ingreso total por cada usuario](#toc0_)"
   ]
  },
  {
   "cell_type": "markdown",
   "id": "978d39b1",
   "metadata": {},
   "source": [
    "Ahora para el cálculo del ingreso total, solo quedaría sumar los ingresos extras por cada servicio más el plan."
   ]
  },
  {
   "cell_type": "code",
   "execution_count": 63,
   "id": "87df5e7c",
   "metadata": {},
   "outputs": [],
   "source": [
    "def calcular_ingreso_total(row):\n",
    "    if row['plan'] == 'surf':\n",
    "        ingreso_total = row['ingreso_calls'] + row['ingreso_internet'] + row['ingreso_messages'] + 20\n",
    "    else:\n",
    "        ingreso_total = row['ingreso_calls'] + row['ingreso_internet'] + row['ingreso_messages'] + 70\n",
    "    return ingreso_total"
   ]
  },
  {
   "cell_type": "code",
   "execution_count": 64,
   "id": "c730118f",
   "metadata": {},
   "outputs": [],
   "source": [
    "users_monthly['ingreso_total']=users_monthly.apply(calcular_ingreso_total, axis=1)"
   ]
  },
  {
   "cell_type": "code",
   "execution_count": 67,
   "id": "219ce534",
   "metadata": {},
   "outputs": [
    {
     "data": {
      "text/html": [
       "<div>\n",
       "<style scoped>\n",
       "    .dataframe tbody tr th:only-of-type {\n",
       "        vertical-align: middle;\n",
       "    }\n",
       "\n",
       "    .dataframe tbody tr th {\n",
       "        vertical-align: top;\n",
       "    }\n",
       "\n",
       "    .dataframe thead th {\n",
       "        text-align: right;\n",
       "    }\n",
       "</style>\n",
       "<table border=\"1\" class=\"dataframe\">\n",
       "  <thead>\n",
       "    <tr style=\"text-align: right;\">\n",
       "      <th></th>\n",
       "      <th>user_id</th>\n",
       "      <th>first_name</th>\n",
       "      <th>last_name</th>\n",
       "      <th>age</th>\n",
       "      <th>city</th>\n",
       "      <th>reg_date</th>\n",
       "      <th>plan</th>\n",
       "      <th>churn_date</th>\n",
       "      <th>reg_month</th>\n",
       "      <th>churn_month</th>\n",
       "      <th>month</th>\n",
       "      <th>calls_count</th>\n",
       "      <th>calls_sum</th>\n",
       "      <th>internet_sum</th>\n",
       "      <th>messages_count</th>\n",
       "      <th>ingreso_calls</th>\n",
       "      <th>ingreso_internet</th>\n",
       "      <th>ingreso_messages</th>\n",
       "      <th>ingreso_total</th>\n",
       "    </tr>\n",
       "  </thead>\n",
       "  <tbody>\n",
       "    <tr>\n",
       "      <th>1403</th>\n",
       "      <td>1302</td>\n",
       "      <td>Leonila</td>\n",
       "      <td>Morris</td>\n",
       "      <td>62</td>\n",
       "      <td>Rochester, NY MSA</td>\n",
       "      <td>2018-01-21</td>\n",
       "      <td>surf</td>\n",
       "      <td>2019-01-01</td>\n",
       "      <td>1</td>\n",
       "      <td>0</td>\n",
       "      <td>11.0</td>\n",
       "      <td>54.0</td>\n",
       "      <td>480.0</td>\n",
       "      <td>23.0</td>\n",
       "      <td>68.0</td>\n",
       "      <td>0.00</td>\n",
       "      <td>80.0</td>\n",
       "      <td>0.54</td>\n",
       "      <td>100.54</td>\n",
       "    </tr>\n",
       "    <tr>\n",
       "      <th>1336</th>\n",
       "      <td>1284</td>\n",
       "      <td>Yuri</td>\n",
       "      <td>Odom</td>\n",
       "      <td>51</td>\n",
       "      <td>Dayton-Kettering, OH MSA</td>\n",
       "      <td>2018-09-07</td>\n",
       "      <td>surf</td>\n",
       "      <td>2019-01-01</td>\n",
       "      <td>9</td>\n",
       "      <td>0</td>\n",
       "      <td>12.0</td>\n",
       "      <td>100.0</td>\n",
       "      <td>965.0</td>\n",
       "      <td>21.0</td>\n",
       "      <td>0.0</td>\n",
       "      <td>13.95</td>\n",
       "      <td>60.0</td>\n",
       "      <td>0.00</td>\n",
       "      <td>93.95</td>\n",
       "    </tr>\n",
       "    <tr>\n",
       "      <th>1886</th>\n",
       "      <td>1403</td>\n",
       "      <td>Jae</td>\n",
       "      <td>Gardner</td>\n",
       "      <td>27</td>\n",
       "      <td>Washington-Arlington-Alexandria, DC-VA-MD-WV MSA</td>\n",
       "      <td>2018-02-06</td>\n",
       "      <td>ultimate</td>\n",
       "      <td>2019-01-01</td>\n",
       "      <td>2</td>\n",
       "      <td>0</td>\n",
       "      <td>6.0</td>\n",
       "      <td>34.0</td>\n",
       "      <td>260.0</td>\n",
       "      <td>20.0</td>\n",
       "      <td>0.0</td>\n",
       "      <td>0.00</td>\n",
       "      <td>0.0</td>\n",
       "      <td>0.00</td>\n",
       "      <td>70.00</td>\n",
       "    </tr>\n",
       "  </tbody>\n",
       "</table>\n",
       "</div>"
      ],
      "text/plain": [
       "      user_id first_name last_name  age  \\\n",
       "1403     1302    Leonila    Morris   62   \n",
       "1336     1284       Yuri      Odom   51   \n",
       "1886     1403        Jae   Gardner   27   \n",
       "\n",
       "                                                  city   reg_date      plan  \\\n",
       "1403                                 Rochester, NY MSA 2018-01-21      surf   \n",
       "1336                          Dayton-Kettering, OH MSA 2018-09-07      surf   \n",
       "1886  Washington-Arlington-Alexandria, DC-VA-MD-WV MSA 2018-02-06  ultimate   \n",
       "\n",
       "     churn_date  reg_month  churn_month  month  calls_count  calls_sum  \\\n",
       "1403 2019-01-01          1            0   11.0         54.0      480.0   \n",
       "1336 2019-01-01          9            0   12.0        100.0      965.0   \n",
       "1886 2019-01-01          2            0    6.0         34.0      260.0   \n",
       "\n",
       "      internet_sum  messages_count  ingreso_calls  ingreso_internet  \\\n",
       "1403          23.0            68.0           0.00              80.0   \n",
       "1336          21.0             0.0          13.95              60.0   \n",
       "1886          20.0             0.0           0.00               0.0   \n",
       "\n",
       "      ingreso_messages  ingreso_total  \n",
       "1403              0.54         100.54  \n",
       "1336              0.00          93.95  \n",
       "1886              0.00          70.00  "
      ]
     },
     "execution_count": 67,
     "metadata": {},
     "output_type": "execute_result"
    }
   ],
   "source": [
    "users_monthly.sample(3)"
   ]
  },
  {
   "cell_type": "markdown",
   "id": "c47a5a0d",
   "metadata": {},
   "source": [
    "### 1.5.3. <a id='toc1_5_3_'></a>[Conclusiones intermedias](#toc0_)"
   ]
  },
  {
   "cell_type": "markdown",
   "id": "73a1196d",
   "metadata": {},
   "source": [
    "- En base a las columnas de consumo se calculó el ingreso por excedente, dependiendo del plan.\n",
    "- Se obtuvo el total del ingreso, sumando el ingreso base con el ingreso por excedente de cada servicio."
   ]
  },
  {
   "cell_type": "markdown",
   "id": "99ccfcbb",
   "metadata": {},
   "source": [
    "## 1.6. <a id='toc1_6_'></a>[Análisis de datos](#toc0_)"
   ]
  },
  {
   "cell_type": "markdown",
   "id": "1954a588",
   "metadata": {},
   "source": [
    "Vamos a ver la relación entre la cantidad de usuarios que usan surf vs ultimate."
   ]
  },
  {
   "cell_type": "code",
   "execution_count": 66,
   "id": "fc2528ed",
   "metadata": {
    "scrolled": false
   },
   "outputs": [
    {
     "data": {
      "image/png": "[encoded data removed]",
      "text/plain": [
       "<Figure size 432x288 with 1 Axes>"
      ]
     },
     "metadata": {},
     "output_type": "display_data"
    }
   ],
   "source": [
    "users_data['plan'].value_counts().plot.pie()\n",
    "plt.title('Usuarios de surf vs ultimate')\n",
    "plt.show()"
   ]
  },
  {
   "cell_type": "markdown",
   "id": "aac08460",
   "metadata": {},
   "source": [
    "Aproximadamente un poco más de un tercio de los usuarios disponibles han contratado con el plan de ultimate. La mayoría de contratos los tienen con el plan surf.\n",
    "\n",
    "Ahora veamos la relación de usuarios que son del estado de New York - New Jersey, en comparación al resto"
   ]
  },
  {
   "cell_type": "code",
   "execution_count": 67,
   "id": "486c9817",
   "metadata": {
    "scrolled": false
   },
   "outputs": [
    {
     "data": {
      "image/png": "[encoded data removed]",
      "text/plain": [
       "<Figure size 432x288 with 1 Axes>"
      ]
     },
     "metadata": {},
     "output_type": "display_data"
    }
   ],
   "source": [
    "new_york_city = 'New York-Newark-Jersey City, NY-NJ-PA MSA'\n",
    "\n",
    "new_york_count = (users_data['city'].values == new_york_city).sum()\n",
    "no_new_york_count = (users_data['city'].values != new_york_city).sum()\n",
    "plt.pie([new_york_count, no_new_york_count], labels = ['New York - New Jersey', 'Otros'])\n",
    "plt.title('Usuarios de New York/New Jersey vs otros')\n",
    "plt.show()"
   ]
  },
  {
   "cell_type": "markdown",
   "id": "2cd76fd2",
   "metadata": {},
   "source": [
    "Aproximadamente una sexta parte de los usuarios son de New York - New Jersey. A pesar, este es el grupo con mayor cantidad de usuarios, las demás ciudades tiene menor cantidad."
   ]
  },
  {
   "cell_type": "code",
   "execution_count": 68,
   "id": "567d3809",
   "metadata": {},
   "outputs": [
    {
     "data": {
      "text/plain": [
       "New York-Newark-Jersey City, NY-NJ-PA MSA          80\n",
       "Los Angeles-Long Beach-Anaheim, CA MSA             29\n",
       "Dallas-Fort Worth-Arlington, TX MSA                21\n",
       "Chicago-Naperville-Elgin, IL-IN-WI MSA             19\n",
       "Philadelphia-Camden-Wilmington, PA-NJ-DE-MD MSA    17\n",
       "Name: city, dtype: int64"
      ]
     },
     "execution_count": 68,
     "metadata": {},
     "output_type": "execute_result"
    }
   ],
   "source": [
    "users_data['city'].value_counts().sort_values(ascending=False).head()"
   ]
  },
  {
   "cell_type": "markdown",
   "id": "87338710",
   "metadata": {},
   "source": [
    "### 1.6.1. <a id='toc1_6_1_'></a>[Consumo de llamadas entre usuarios de surf y ultimate](#toc0_)"
   ]
  },
  {
   "cell_type": "markdown",
   "id": "7d3b9e0d",
   "metadata": {},
   "source": [
    "Vamos a encontrar algunos datos estadísticos de las llamadas. Se va a realizar esta presentación de datos algunas veces, así que definiré una función que resuma el proceso."
   ]
  },
  {
   "cell_type": "code",
   "execution_count": 69,
   "id": "de3f02ca",
   "metadata": {},
   "outputs": [],
   "source": [
    "def show_basic_stats(lista_datos, nombres):\n",
    "    summary = {}\n",
    "    for datos, nombre in zip(lista_datos, nombres):\n",
    "        summary[nombre] = [np.mean(datos),\n",
    "                          np.var(datos),\n",
    "                          np.std(datos)]\n",
    "    print(pd.DataFrame(summary, index=['Media', 'Varianza', 'Desv. Estandar']))\n",
    "    "
   ]
  },
  {
   "cell_type": "code",
   "execution_count": 70,
   "id": "b73c3b4b",
   "metadata": {},
   "outputs": [],
   "source": [
    "calls_sum_surf = users_monthly.query('plan == \"surf\"')['calls_sum']\n",
    "calls_sum_ultimate = users_monthly.query('plan == \"ultimate\"')['calls_sum']"
   ]
  },
  {
   "cell_type": "code",
   "execution_count": 71,
   "id": "090cd812",
   "metadata": {
    "scrolled": true
   },
   "outputs": [
    {
     "name": "stdout",
     "output_type": "stream",
     "text": [
      "                        Surf      Ultimate\n",
      "Media             428.749523    430.450000\n",
      "Varianza        54933.334591  57764.125278\n",
      "Desv. Estandar    234.378614    240.341684\n"
     ]
    }
   ],
   "source": [
    "show_basic_stats([calls_sum_surf, calls_sum_ultimate], ['Surf', 'Ultimate'])"
   ]
  },
  {
   "cell_type": "markdown",
   "id": "a8673db7",
   "metadata": {},
   "source": [
    "Aparentemente, la duración de las llamadas tanto para surf y ultimate tienen un media y desviación estandar similar."
   ]
  },
  {
   "cell_type": "markdown",
   "id": "807971e8",
   "metadata": {},
   "source": [
    "Ahora compararemos visualmente el consumo entre los usuarios de ambos planes."
   ]
  },
  {
   "cell_type": "code",
   "execution_count": 72,
   "id": "ce62431b",
   "metadata": {
    "scrolled": false
   },
   "outputs": [
    {
     "data": {
      "image/png": "[encoded data removed]",
      "text/plain": [
       "<Figure size 432x288 with 1 Axes>"
      ]
     },
     "metadata": {
      "needs_background": "light"
     },
     "output_type": "display_data"
    }
   ],
   "source": [
    "plt.hist(calls_sum_surf, bins=30)\n",
    "plt.hist(calls_sum_ultimate, bins=30)\n",
    "plt.legend(['Surf', 'Ultimate'])\n",
    "plt.xlabel('Duración de llamadas [minutos]')\n",
    "plt.ylabel('Frecuencia')\n",
    "plt.title('Distribución de la duración de llamadas')\n",
    "plt.show()"
   ]
  },
  {
   "cell_type": "markdown",
   "id": "5c740eaf",
   "metadata": {},
   "source": [
    "Hay cierta similitud en la forma de la distribución, se esperaba dado las medias y desviaciones parecidas. La frequencia es mayor en surf ya que la mayoría de los planes son de surf. Por otro lado, hay algunos datos con valor de cero, esto equivaldría a decir la cantidad de meses que algunos usuarios no hicieron llamadas."
   ]
  },
  {
   "cell_type": "code",
   "execution_count": 73,
   "id": "0157ab89",
   "metadata": {
    "scrolled": false
   },
   "outputs": [
    {
     "name": "stdout",
     "output_type": "stream",
     "text": [
      "==Para planes de surf==\n",
      "Cantidad de meses donde no se realizaron llamadas: 29\n",
      "Esto equivale al 1.84% de los datos\n",
      "\n",
      "==Para planes de ultimate==\n",
      "Cantidad de meses donde no se realizaron llamadas: 8\n",
      "Esto equivale al 1.10% de los datos\n"
     ]
    }
   ],
   "source": [
    "zero_calls_surf = len(calls_sum_surf[calls_sum_surf==0])\n",
    "print(f'==Para planes de surf==')\n",
    "print(f'Cantidad de meses donde no se realizaron llamadas: {zero_calls_surf}')\n",
    "print(f'Esto equivale al {zero_calls_surf/len(calls_sum_surf):.2%} de los datos')\n",
    "print()\n",
    "zero_calls_ultimate = len(calls_sum_ultimate[calls_sum_ultimate==0])\n",
    "print(f'==Para planes de ultimate==')\n",
    "print(f'Cantidad de meses donde no se realizaron llamadas: {zero_calls_ultimate}')\n",
    "print(f'Esto equivale al {zero_calls_ultimate/len(calls_sum_ultimate):.2%} de los datos')"
   ]
  },
  {
   "cell_type": "markdown",
   "id": "ad753913",
   "metadata": {},
   "source": [
    "Son relativamente pocos los meses donde no se realizan llamadas, menos del 2% en ambos casos."
   ]
  },
  {
   "cell_type": "code",
   "execution_count": 74,
   "id": "e8ade4c1",
   "metadata": {
    "scrolled": false
   },
   "outputs": [
    {
     "data": {
      "image/png": "[encoded data removed]",
      "text/plain": [
       "<Figure size 432x288 with 1 Axes>"
      ]
     },
     "metadata": {
      "needs_background": "light"
     },
     "output_type": "display_data"
    }
   ],
   "source": [
    "all_arr = [calls_sum_surf,\n",
    "           calls_sum_ultimate]\n",
    "sns.boxplot(data=all_arr).set(xlabel='Plan',\n",
    "                              ylabel = 'Duración [minutos]',\n",
    "                              xticklabels= ['Surf', 'Ultimate']) \n",
    "plt.title('Distribución de duración de llamadas')\n",
    "plt.show()"
   ]
  },
  {
   "cell_type": "markdown",
   "id": "8e25c3fb",
   "metadata": {},
   "source": [
    "Si consideramos los rangos típicos en ambos planes, no se observa mayor diferencia entre los consumos de llamadas, ambos presentan una distribución similar. Cabe notar que esto afectaría en el ingreso que se obtiene por consumos de llamadas, ya que los usuarios de surf, tienen hasta 500 minutos en el plan. Menos de la mitad de los usuarios parece que están pagando por el excedente. En cambio en ultimate, con el límite de 3000 llamadas, ni uno sobrepasa su uso, por lo que el ingreso por exceso de duración de llamadas sería cero."
   ]
  },
  {
   "cell_type": "markdown",
   "id": "0a36c8e1",
   "metadata": {},
   "source": [
    "### 1.6.2. <a id='toc1_6_2_'></a>[Consumo de internet entre usuarios de surf y ultimate](#toc0_)"
   ]
  },
  {
   "cell_type": "markdown",
   "id": "bb5f971b",
   "metadata": {},
   "source": [
    "Vamos a encontrar algunos datos estadísticos del consumo de internet entre surf y ultimate."
   ]
  },
  {
   "cell_type": "code",
   "execution_count": 75,
   "id": "d4523ed2",
   "metadata": {},
   "outputs": [],
   "source": [
    "internet_sum_surf = users_monthly.query('plan == \"surf\"')['internet_sum']\n",
    "internet_sum_ultimate = users_monthly.query('plan == \"ultimate\"')['internet_sum']"
   ]
  },
  {
   "cell_type": "code",
   "execution_count": 76,
   "id": "19aaab49",
   "metadata": {
    "scrolled": false
   },
   "outputs": [
    {
     "name": "stdout",
     "output_type": "stream",
     "text": [
      "                     Surf   Ultimate\n",
      "Media           16.670693  17.306944\n",
      "Varianza        61.544449  58.748841\n",
      "Desv. Estandar   7.845027   7.664779\n"
     ]
    }
   ],
   "source": [
    "show_basic_stats([internet_sum_surf, internet_sum_ultimate], ['Surf', 'Ultimate'])"
   ]
  },
  {
   "cell_type": "markdown",
   "id": "ddfbe69d",
   "metadata": {},
   "source": [
    "El comportamiento de uso de internet da un media y desviación estandar similar en ambos planes."
   ]
  },
  {
   "cell_type": "markdown",
   "id": "8b8f42a0",
   "metadata": {},
   "source": [
    "Compararemos visualmente el consumo entre los usuarios de ambos planes."
   ]
  },
  {
   "cell_type": "code",
   "execution_count": 77,
   "id": "ba6a1713",
   "metadata": {
    "scrolled": false
   },
   "outputs": [
    {
     "data": {
      "image/png": "[encoded data removed]",
      "text/plain": [
       "<Figure size 432x288 with 1 Axes>"
      ]
     },
     "metadata": {
      "needs_background": "light"
     },
     "output_type": "display_data"
    }
   ],
   "source": [
    "plt.hist(internet_sum_surf, bins=30)\n",
    "plt.hist(internet_sum_ultimate, bins=30)\n",
    "plt.legend(['Surf', 'Ultimate'])\n",
    "plt.xlabel('Consumo de internet [Gb]')\n",
    "plt.ylabel('Frecuencia')\n",
    "plt.title('Distribución del consumo de internet mensual')\n",
    "plt.show()"
   ]
  },
  {
   "cell_type": "markdown",
   "id": "bdda50c1",
   "metadata": {},
   "source": [
    "Sus distribuciones se parece, varía en la frecuencia, siendo el plan de surf mayor por el mayor número de usuarios. Se van a revisar los ceros, la cantidad de meses donde no se usó este servicio."
   ]
  },
  {
   "cell_type": "code",
   "execution_count": 78,
   "id": "062a7e0e",
   "metadata": {
    "scrolled": false
   },
   "outputs": [
    {
     "name": "stdout",
     "output_type": "stream",
     "text": [
      "==Para planes de surf==\n",
      "Cantidad de meses donde no se usó internet: 15\n",
      "Esto equivale al 0.95% de los datos\n",
      "\n",
      "==Para planes de ultimate==\n",
      "Cantidad de meses donde no se usó internet: 1\n",
      "Esto equivale al 0.14% de los datos\n"
     ]
    }
   ],
   "source": [
    "zero_internet_surf = len(internet_sum_surf[internet_sum_surf==0])\n",
    "print(f'==Para planes de surf==')\n",
    "print(f'Cantidad de meses donde no se usó internet: {zero_internet_surf}')\n",
    "print(f'Esto equivale al {zero_internet_surf/len(internet_sum_surf):.2%} de los datos')\n",
    "print()\n",
    "zero_internet_ultimate = len(internet_sum_ultimate[internet_sum_ultimate==0])\n",
    "print(f'==Para planes de ultimate==')\n",
    "print(f'Cantidad de meses donde no se usó internet: {zero_internet_ultimate}')\n",
    "print(f'Esto equivale al {zero_internet_ultimate/len(internet_sum_ultimate):.2%} de los datos')"
   ]
  },
  {
   "cell_type": "markdown",
   "id": "dcc0957c",
   "metadata": {},
   "source": [
    "Son muy pocos los meses donde no se consumen datos, sobretodo con ultimate, donde en apenas un mes no tuvo consumo."
   ]
  },
  {
   "cell_type": "code",
   "execution_count": 79,
   "id": "e17a4cac",
   "metadata": {
    "scrolled": true
   },
   "outputs": [
    {
     "data": {
      "image/png": "[encoded data removed]",
      "text/plain": [
       "<Figure size 432x288 with 1 Axes>"
      ]
     },
     "metadata": {
      "needs_background": "light"
     },
     "output_type": "display_data"
    }
   ],
   "source": [
    "all_arr = [internet_sum_surf,\n",
    "           internet_sum_ultimate]\n",
    "sns.boxplot(data=all_arr).set(xlabel='Plan',\n",
    "                              ylabel = 'Consumo de datos [Gb]',\n",
    "                              xticklabels= ['Surf', 'Ultimate']) \n",
    "plt.title('Distribución del consumo de internet mensual')\n",
    "plt.show()"
   ]
  },
  {
   "cell_type": "markdown",
   "id": "4f2e9bb1",
   "metadata": {},
   "source": [
    "La distribución de datos de los consumos entre ambos planes se asemejan, el comportamiento del consumo entre ambos tipos de usuarios es similar. Habría que notar que si se considera que el límite de Gb de los usuarios de Surf es 15 Gb, más de la mitad está pagando un excedente. Para el caso de ultimate, aquí el límite de uso es de 30 Gb, aunque quizás no sean muchos, sí hay un porcentaje que está pagando por mes un excedente. "
   ]
  },
  {
   "cell_type": "markdown",
   "id": "26e03b0e",
   "metadata": {},
   "source": [
    "### 1.6.3. <a id='toc1_6_3_'></a>[Consumo de mensajes de texto entre usuarios de surf y ultimate](#toc0_)"
   ]
  },
  {
   "cell_type": "markdown",
   "id": "48530f31",
   "metadata": {},
   "source": [
    "Vamos a encontrar algunos datos estadísticos del consumo de mensajes entre surf y ultimate."
   ]
  },
  {
   "cell_type": "code",
   "execution_count": 80,
   "id": "e9bc5789",
   "metadata": {},
   "outputs": [],
   "source": [
    "messages_count_surf = users_monthly.query('plan == \"surf\"')['messages_count']\n",
    "messages_count_ultimate = users_monthly.query('plan == \"ultimate\"')['messages_count']"
   ]
  },
  {
   "cell_type": "code",
   "execution_count": 81,
   "id": "aa28aa1d",
   "metadata": {
    "scrolled": false
   },
   "outputs": [
    {
     "name": "stdout",
     "output_type": "stream",
     "text": [
      "                       Surf     Ultimate\n",
      "Media             31.159568    37.551389\n",
      "Varianza        1126.008232  1207.077915\n",
      "Desv. Estandar    33.556046    34.743027\n"
     ]
    }
   ],
   "source": [
    "show_basic_stats([messages_count_surf, messages_count_ultimate], ['Surf', 'Ultimate'])"
   ]
  },
  {
   "cell_type": "markdown",
   "id": "b6b27b75",
   "metadata": {},
   "source": [
    "El envío de mensajes tiene una desviación estandar similar, aunque la media en ultimate parece mayor. Quizás ellos hacen más consumo de mensajes por mes en comparación a usuarios de surf."
   ]
  },
  {
   "cell_type": "markdown",
   "id": "b0e80eac",
   "metadata": {},
   "source": [
    "Compararemos visualmente el consumo entre los usuarios de ambos planes."
   ]
  },
  {
   "cell_type": "code",
   "execution_count": 82,
   "id": "a7ef48cb",
   "metadata": {
    "scrolled": false
   },
   "outputs": [
    {
     "data": {
      "image/png": "[encoded data removed]",
      "text/plain": [
       "<Figure size 432x288 with 1 Axes>"
      ]
     },
     "metadata": {
      "needs_background": "light"
     },
     "output_type": "display_data"
    }
   ],
   "source": [
    "plt.hist(messages_count_surf, bins=30)\n",
    "plt.hist(messages_count_ultimate, bins=30)\n",
    "plt.legend(['Surf', 'Ultimate'])\n",
    "plt.xlabel('Mensajes enviados')\n",
    "plt.ylabel('Frecuencia')\n",
    "plt.title('Distribución de mensajes enviados por mes')\n",
    "plt.show()"
   ]
  },
  {
   "cell_type": "markdown",
   "id": "65ed9e96",
   "metadata": {},
   "source": [
    "De todos los servicios, este parece ser el que por más meses no se usa, vamos a confirmar."
   ]
  },
  {
   "cell_type": "code",
   "execution_count": 83,
   "id": "8b0d77ce",
   "metadata": {
    "scrolled": false
   },
   "outputs": [
    {
     "name": "stdout",
     "output_type": "stream",
     "text": [
      "==Para planes de surf==\n",
      "Cantidad de meses donde no se enviaron mensajes: 351\n",
      "Esto equivale al 22.23% de los datos\n",
      "\n",
      "==Para planes de ultimate==\n",
      "Cantidad de meses donde no se enviaron mensajes: 136\n",
      "Esto equivale al 18.78% de los datos\n"
     ]
    }
   ],
   "source": [
    "zero_messages_surf = len(messages_count_surf[messages_count_surf==0])\n",
    "print(f'==Para planes de surf==')\n",
    "print(f'Cantidad de meses donde no se enviaron mensajes: {zero_messages_surf}')\n",
    "print(f'Esto equivale al {zero_messages_surf/len(messages_count_surf):.2%} de los datos')\n",
    "print()\n",
    "zero_messages_ultimate = len(messages_count_ultimate[messages_count_ultimate==0])\n",
    "print(f'==Para planes de ultimate==')\n",
    "print(f'Cantidad de meses donde no se enviaron mensajes: {zero_messages_ultimate}')\n",
    "print(f'Esto equivale al {zero_messages_ultimate/len(messages_count_ultimate):.2%} de los datos')"
   ]
  },
  {
   "cell_type": "markdown",
   "id": "6f97289d",
   "metadata": {},
   "source": [
    "Alrededor del 20% de los meses no tuvo consumo de mensajes en ambos planes y no es extraño, se ha reducido el uso de sms por las apps de mensajería. "
   ]
  },
  {
   "cell_type": "code",
   "execution_count": 84,
   "id": "f246c585",
   "metadata": {
    "scrolled": false
   },
   "outputs": [
    {
     "data": {
      "image/png": "[encoded data removed]",
      "text/plain": [
       "<Figure size 432x288 with 1 Axes>"
      ]
     },
     "metadata": {
      "needs_background": "light"
     },
     "output_type": "display_data"
    }
   ],
   "source": [
    "all_arr = [messages_count_surf,\n",
    "           messages_count_ultimate]\n",
    "sns.boxplot(data=all_arr).set(xlabel='Plan',\n",
    "                              ylabel = 'Mensajes enviados',\n",
    "                              xticklabels= ['Surf', 'Ultimate']) \n",
    "plt.title('Distribución del envío de mensajes por mes')\n",
    "plt.show()"
   ]
  },
  {
   "cell_type": "markdown",
   "id": "3565d975",
   "metadata": {},
   "source": [
    "Aunque ambos estés sesgados a la derecha, el rango intercuartir de los datos de ultimate es mayor. El 50% de los datos de surf están distribuídos en un rango más pequeño que de ultimate. Dado que la media y la mediana es más alta en ultimate, el consumo de mensajes parece mayor en este plan comparado con surf, a pesar de los datos átipicos donde en unos meses tuvieron un consumo alto en surf.\n",
    "\n",
    "Casi el 75% de los meses de surf, se mantieron debajo del límite de 50 mensajes disponibles. Como en ultimate el límite es de 3000 mensajes, de este grupo nadie pagó por exceso de mensajes de texto, en cambio."
   ]
  },
  {
   "cell_type": "markdown",
   "id": "40b558cf",
   "metadata": {},
   "source": [
    "### 1.6.4. <a id='toc1_6_4_'></a>[Ingreso de usuarios de surf y ultimate](#toc0_)"
   ]
  },
  {
   "cell_type": "markdown",
   "id": "61a83949",
   "metadata": {},
   "source": [
    "Vamos a ver la distribución de los ingresos mensuales tanto para surf como para ultimate"
   ]
  },
  {
   "cell_type": "code",
   "execution_count": 85,
   "id": "47d1159e",
   "metadata": {
    "scrolled": false
   },
   "outputs": [
    {
     "data": {
      "image/png": "[encoded data removed]",
      "text/plain": [
       "<Figure size 432x288 with 1 Axes>"
      ]
     },
     "metadata": {
      "needs_background": "light"
     },
     "output_type": "display_data"
    }
   ],
   "source": [
    "ingreso_total_surf = users_monthly.query('plan == \"surf\"')['ingreso_total']\n",
    "ingreso_total_ultimate = users_monthly.query('plan == \"ultimate\"')['ingreso_total']\n",
    "plt.hist(ingreso_total_surf, bins=np.array(range(1,30))*20,\n",
    "         edgecolor='black', linewidth=1)\n",
    "plt.hist(ingreso_total_ultimate, bins=np.array(range(1,30))*20,\n",
    "         edgecolor='black', linewidth=1)\n",
    "\n",
    "plt.legend(['Surf', 'Ultimate'])\n",
    "plt.xlabel('Ingreso total [$]')\n",
    "plt.ylabel('Frecuencia')\n",
    "plt.title('Distribución de mensajes enviados por mes')\n",
    "plt.show()"
   ]
  },
  {
   "cell_type": "markdown",
   "id": "ea574369",
   "metadata": {},
   "source": [
    "La distribución de ingresos está bastante sesgada a la derecha. La gran mayoría de ingresos por meses por cada usuario representa el costo base del plan correspondiente. Esto es aun mucho más obvio con el plan de ultimate, donde la frecuencia de usuarios que pagaron más de $70 en un mes dado, es poco apreciable.\n",
    "\n",
    "Vamos a calcular cuántos meses pagaron el precio base de cada tarifa."
   ]
  },
  {
   "cell_type": "code",
   "execution_count": 86,
   "id": "97e4a0ec",
   "metadata": {
    "scrolled": true
   },
   "outputs": [
    {
     "data": {
      "text/plain": [
       "0.27675744141861935"
      ]
     },
     "execution_count": 86,
     "metadata": {},
     "output_type": "execute_result"
    }
   ],
   "source": [
    "# ratio de ingresos equivalentes al precio base de surf\n",
    "len(ingreso_total_surf[ingreso_total_surf==20])/len(ingreso_total_surf)"
   ]
  },
  {
   "cell_type": "code",
   "execution_count": 87,
   "id": "6000b524",
   "metadata": {
    "scrolled": true
   },
   "outputs": [
    {
     "data": {
      "text/plain": [
       "0.9433701657458563"
      ]
     },
     "execution_count": 87,
     "metadata": {},
     "output_type": "execute_result"
    }
   ],
   "source": [
    "# ratio de ingresos equivalentes al precio base de ultimate\n",
    "len(ingreso_total_ultimate[ingreso_total_ultimate==70])/len(ingreso_total_ultimate)"
   ]
  },
  {
   "cell_type": "markdown",
   "id": "f4958397",
   "metadata": {},
   "source": [
    "El 27.7% de los pagos fueron por el precio base de surf, por lo que 72.3% de los pagos mensuales tuvieron algún pago excedente. Por otro lado, para ultimate, menos del 6% de los ingresos fueron pagos mayores a \\$70, el precio base de ultimate. Al la gran mayoría, le basta y sobra el límite de paquetes.\n",
    "\n",
    "Vamos a mostrar las medias, varianzas y desviaciones de ambas poblaciones."
   ]
  },
  {
   "cell_type": "code",
   "execution_count": 88,
   "id": "04a9483d",
   "metadata": {},
   "outputs": [
    {
     "name": "stdout",
     "output_type": "stream",
     "text": [
      "                       Surf    Ultimate\n",
      "Media             60.551729   72.301105\n",
      "Varianza        3060.507379  128.981159\n",
      "Desv. Estandar    55.321853   11.356987\n"
     ]
    }
   ],
   "source": [
    "show_basic_stats([ingreso_total_surf, ingreso_total_ultimate], ['Surf', 'Ultimate'])"
   ]
  },
  {
   "cell_type": "markdown",
   "id": "24e9c2d2",
   "metadata": {},
   "source": [
    "La media en ultimate es más alta comparada a surf, y la desviación estandar es mayor en surf, esto último debido a mayor porcentaje de pagos variados por mes, a diferencia del ultimate donde la gran mayoría paga $70. De llegarse a probar que hay diferencia, entonces se podría decir que ultimate da mayor ingreso en promedio por mes por usuario."
   ]
  },
  {
   "cell_type": "markdown",
   "id": "bc7d02de",
   "metadata": {},
   "source": [
    "### 1.6.5. <a id='toc1_6_5_'></a>[Ingreso de usuarios del estado de New York/ New Jersey y los demás](#toc0_)"
   ]
  },
  {
   "cell_type": "code",
   "execution_count": 89,
   "id": "838e8399",
   "metadata": {
    "scrolled": false
   },
   "outputs": [
    {
     "data": {
      "image/png": "[encoded data removed]",
      "text/plain": [
       "<Figure size 432x288 with 1 Axes>"
      ]
     },
     "metadata": {
      "needs_background": "light"
     },
     "output_type": "display_data"
    }
   ],
   "source": [
    "ingreso_total_new_york = users_monthly.query('city == @new_york_city')['ingreso_total']\n",
    "ingreso_total_no_york = users_monthly.query('city != @new_york_city')['ingreso_total']\n",
    "\n",
    "plt.hist(ingreso_total_no_york, bins=np.array(range(1,40))*15,\n",
    "         edgecolor='black', linewidth=1)\n",
    "plt.hist(ingreso_total_new_york, bins=np.array(range(1,40))*15,\n",
    "         edgecolor='black', linewidth=1)\n",
    "plt.legend([ 'Otros estados', 'New York'])\n",
    "plt.xlabel('Ingreso total [$]')\n",
    "plt.ylabel('Frecuencia')\n",
    "plt.title('Distribución de mensajes enviados por mes')\n",
    "plt.show()"
   ]
  },
  {
   "cell_type": "code",
   "execution_count": 90,
   "id": "44d67fd0",
   "metadata": {
    "scrolled": false
   },
   "outputs": [
    {
     "data": {
      "image/png": "[encoded data removed]",
      "text/plain": [
       "<Figure size 432x288 with 1 Axes>"
      ]
     },
     "metadata": {
      "needs_background": "light"
     },
     "output_type": "display_data"
    }
   ],
   "source": [
    "all_arr = [ingreso_total_no_york,\n",
    "           ingreso_total_new_york]\n",
    "sns.boxplot(data=all_arr).set(xlabel='Estado',\n",
    "                              ylabel = 'Ingreso en dolares',\n",
    "                              xticklabels= [ 'Otros estados', 'New York']) \n",
    "plt.title('Distribución de ingreso mensual por usuario')\n",
    "plt.show()"
   ]
  },
  {
   "cell_type": "markdown",
   "id": "91dae2ab",
   "metadata": {},
   "source": [
    "Los datos de ingresos mensuales por usuario están sesgados a la derecha, con los datos de usuarios que no son de New York con un mayor sesgo, teniendo los datos de ingresos más altos en este grupo. El rango de valores típicos se asemeja, va de 20 hasta 150 dolares aproxidamente.\n",
    "\n",
    "La mediana de otros estados no se puede apreciar, vamos a calcularla."
   ]
  },
  {
   "cell_type": "code",
   "execution_count": 91,
   "id": "58aadcb5",
   "metadata": {
    "scrolled": true
   },
   "outputs": [
    {
     "data": {
      "text/plain": [
       "70.0"
      ]
     },
     "execution_count": 91,
     "metadata": {},
     "output_type": "execute_result"
    }
   ],
   "source": [
    "np.median(ingreso_total_no_york)"
   ]
  },
  {
   "cell_type": "markdown",
   "id": "9cf82203",
   "metadata": {},
   "source": [
    "La mediana ha sido \\\\$70, Q3 y la mediana tienen el mismo valor, tiene sentido con todos los pagos de \\\\$70 que hay en el histograma. La mediana de New York es entonces menor, tienen un mayor porcentaje de meses con menor ingreso que \\\\$70.\n",
    "\n",
    "Vamos a mostrar las medias, varianzas y desviaciones de ambas poblaciones."
   ]
  },
  {
   "cell_type": "code",
   "execution_count": 92,
   "id": "3c850940",
   "metadata": {},
   "outputs": [
    {
     "name": "stdout",
     "output_type": "stream",
     "text": [
      "                Otros estados     New York\n",
      "Media               65.089262    59.948016\n",
      "Varianza          2219.881380  1885.784365\n",
      "Desv. Estandar      47.115617    43.425619\n"
     ]
    }
   ],
   "source": [
    "show_basic_stats([ingreso_total_no_york, ingreso_total_new_york], ['Otros estados', 'New York'])"
   ]
  },
  {
   "cell_type": "markdown",
   "id": "79a1523c",
   "metadata": {},
   "source": [
    "Parece que la media y desviación estandar es menor para New York, comparada a otros estados. Vamos a comprobar si la diferencia es lo suficiente para comprobar o no la hipótesis."
   ]
  },
  {
   "cell_type": "markdown",
   "id": "740e9cd4",
   "metadata": {},
   "source": [
    "### 1.6.6. <a id='toc1_6_6_'></a>[Conclusiones intermedias](#toc0_)"
   ]
  },
  {
   "cell_type": "markdown",
   "id": "9bf55fec",
   "metadata": {},
   "source": [
    "- Hay mayor cantidad de usuarios con plan de surf que con ultimate, 2/3 aproximadamente son de surf.\n",
    "- El ratio de usuarios del estado de New York representa 1/6 de los datos aproxidamente.\n",
    "- La distribución de consumos tanto para llamadas e internet no varia mucho comparando entre los consumos de usuarios de surf vs ultimate.\n",
    "- El consumo de mensajes parece ser mayor en ultimate que surf.\n",
    "- La medias de los ingresos de surf vs ultimate son distintas, pero se comprobará con la prueba de hipótesis si en verdad difieren.\n",
    "- La medias de los ingresos de usuarios de New York vs Otros estados es distinta pero no parece por mucho, igual se comprobará con prueba de hipótesis.\n"
   ]
  },
  {
   "cell_type": "markdown",
   "id": "67db902d",
   "metadata": {},
   "source": [
    "## 1.7. <a id='toc1_7_'></a>[Prueba las hipótesis](#toc0_)"
   ]
  },
  {
   "cell_type": "markdown",
   "id": "331e01ac",
   "metadata": {},
   "source": [
    "Ahora vamos a probar las dos hipótesis:\n",
    "- El ingreso promedio de los usuarios de las tarifas Ultimate y Surf difiere.\n",
    "- El ingreso promedio de los usuarios en el área de estados Nueva York-Nueva Jersey es diferente al de los usuarios de otras regiones."
   ]
  },
  {
   "cell_type": "markdown",
   "id": "65a52d45",
   "metadata": {},
   "source": [
    "### 1.7.1. <a id='toc1_7_1_'></a>[Primera hipótesis](#toc0_)"
   ]
  },
  {
   "cell_type": "markdown",
   "id": "892d5ec1",
   "metadata": {},
   "source": [
    "Vamos a definir la hipótesis nula, $H_0$ y alternativa, $H_1$.\n",
    "\n",
    "**$H_0:$** El ingreso promedio de los usuarios de las tarifas Ultimate y Surf **no** difieren.\n",
    "\n",
    "**$H_1:$** El ingreso promedio de los usuarios de las tarifas Ultimate y Surf difieren.\n",
    "\n",
    "\n",
    "Vamos a definir nuestro nivel de significancia en un 5%, para tener cierta seguridad de los resultados, ahora vamos a comparar las dos poblaciones de surf y ultimate."
   ]
  },
  {
   "cell_type": "code",
   "execution_count": 93,
   "id": "1792f783",
   "metadata": {},
   "outputs": [
    {
     "name": "stdout",
     "output_type": "stream",
     "text": [
      "p-value:  1.218411585212325e-15\n",
      "Rechazamos la hipótesis nula\n"
     ]
    }
   ],
   "source": [
    "alpha = 0.05 # el nivel de significancia estadística crítica\n",
    "# si el valor p es menor que alfa, rechazamos la hipótesis\n",
    "\n",
    "results = st.ttest_ind(ingreso_total_surf, ingreso_total_ultimate, equal_var=False)\n",
    "\n",
    "print('p-value: ', results.pvalue)\n",
    "\n",
    "if results.pvalue < alpha:\n",
    "    print(\"Rechazamos la hipótesis nula\")\n",
    "else:\n",
    "    print(\"No rechazamos la hipótesis nula\") "
   ]
  },
  {
   "cell_type": "markdown",
   "id": "0a773189",
   "metadata": {},
   "source": [
    "Al rechazar la hipótesis nula, podemos decir con un alto nivel de confianza que las medias de ingresos mensuales de usuarios de surf y ultimate sí son diferentes. El p-value fue muy bajo, es poco probable encontrar esta diferencia o mayor de las medias entre las dos poblaciones. Se puede decir que los ingresos por mes por usuario son mayores con el plan de *Ultimate*."
   ]
  },
  {
   "cell_type": "markdown",
   "id": "b88f43bf",
   "metadata": {},
   "source": [
    "### 1.7.2. <a id='toc1_7_2_'></a>[Segunda hipótesis](#toc0_)"
   ]
  },
  {
   "cell_type": "markdown",
   "id": "0f6c1367",
   "metadata": {},
   "source": [
    "Vamos a definir la hipótesis nula, $H_0$ y alternativa, $H_1$.\n",
    "\n",
    "**$H_0:$** El ingreso promedio de los usuarios en el área de estados Nueva York-Nueva Jersey **no** es diferente al de los usuarios de otras regiones.\n",
    "\n",
    "**$H_1:$** El ingreso promedio de los usuarios en el área de estados Nueva York-Nueva Jersey es diferente al de los usuarios de otras regiones.\n",
    "\n",
    "Ahora vamos a comparar las dos poblaciones de New York y los otros estados. Asumimos el mismo nivel de significancia de la primera hipótesis."
   ]
  },
  {
   "cell_type": "code",
   "execution_count": 94,
   "id": "b7bfeef1",
   "metadata": {},
   "outputs": [
    {
     "name": "stdout",
     "output_type": "stream",
     "text": [
      "p-value:  0.038703226612928854\n",
      "Rechazamos la hipótesis nula\n"
     ]
    }
   ],
   "source": [
    "alpha = 0.05 # el nivel de significancia estadística crítica\n",
    "# si el valor p es menor que alfa, rechazamos la hipótesis\n",
    "\n",
    "results = st.ttest_ind(ingreso_total_new_york, ingreso_total_no_york, equal_var=False)\n",
    "\n",
    "print('p-value: ', results.pvalue)\n",
    "\n",
    "if results.pvalue < alpha:\n",
    "    print(\"Rechazamos la hipótesis nula\")\n",
    "else:\n",
    "    print(\"No rechazamos la hipótesis nula\") "
   ]
  },
  {
   "cell_type": "markdown",
   "id": "42d1d577",
   "metadata": {},
   "source": [
    "Asumiendo el 5% de nivel de significancia, rechazamos la hipótesis nula. Solo hay un 3.9% de probabilidad de elegir muestras con esta o mayor diferencia de medias. Podemos concluir que las medias de ingresos de la poblacion de usuarios de New York compara a los demás estados, son distintas."
   ]
  },
  {
   "cell_type": "markdown",
   "id": "1dd2fe04",
   "metadata": {},
   "source": [
    "### 1.7.3. <a id='toc1_7_3_'></a>[Conclusiones intermedias](#toc0_)"
   ]
  },
  {
   "cell_type": "markdown",
   "id": "a93526a2",
   "metadata": {},
   "source": [
    "- Se realizó la prueba de hipótesis para las dos hipótesis planteadas.\n",
    "- Se rechazó la hipótesis que afirma igualdad entre las medias de ingresos de surf y ultimate. Ultimate tiene mayor ingreso por usuario por mes.\n",
    "- También se rechazó la segunda hipótesis, por lo que las medias de las poblaciones de New York vs el resto, sí son distintas."
   ]
  },
  {
   "cell_type": "markdown",
   "id": "67f76f05",
   "metadata": {},
   "source": [
    "## 1.8. <a id='toc1_8_'></a>[Conclusiones generales](#toc0_)"
   ]
  },
  {
   "cell_type": "markdown",
   "id": "5b3d1fe3",
   "metadata": {},
   "source": [
    "- Se reemplazaron los datos ausentes de `churn_date` en `users_data` por una fecha del 2019.\n",
    "- Se cambiaron los tipos de datos de fechas a datetime.\n",
    "- Para la tabla de plans_data, se estableción el nombre del plan como el índice.\n",
    "- Se crearon tablas dinámicas con los consumos por mes de cada usuario para cada servicio.\n",
    "- Estas tablas de consumo se unieron con `users_data`, para luego calcular los ingresos según el plan.\n",
    "- Se obtuvo el ingreso mensual del excedente por cada servicio para cada usuario por mes, a partir del uso sobre el límite de los paquetes de llamadas, internet y mensajes de texto, considerando los límites de cada tarifa.\n",
    "- Se calculó el ingreso total por cada usuario por mes, al sumar el ingreso base con el ingreso por excedente de cada servicio.\n",
    "- El comportamiento de consumo de llamadas e internet se asemejan entre ambos planes, pero para mensajes envíados, parece que tienden a enviar más los usuarios con ultimate.\n",
    "- Se comparó la población de ingresos promedios de usuarios de surf y usuarios de ultimate si son iguales.\n",
    "    - Se rechazó la hipótesis nula, se puede decir que son diferentes con un alto nivel de confianza. Además, Ultimate parece ser el plan con mayor ingreso por mes por usuario.\n",
    "- Se comparó la población de ingresos promedios de usuarios la región de New York con respecto a otras regiones para comprobar si son iguales.\n",
    "    - Se rechazó la hipótesis nula, con un 5% de confianza, se puede decir que son diferentes las medias de los ingresos entre estas dos poblaciones.\n"
   ]
  }
 ],
 "metadata": {
  "kernelspec": {
   "display_name": "Python 3 (ipykernel)",
   "language": "python",
   "name": "python3"
  },
  "language_info": {
   "codemirror_mode": {
    "name": "ipython",
    "version": 3
   },
   "file_extension": ".py",
   "mimetype": "text/x-python",
   "name": "python",
   "nbconvert_exporter": "python",
   "pygments_lexer": "ipython3",
   "version": "3.9.16"
  },
  "toc": {
   "base_numbering": 1,
   "nav_menu": {},
   "number_sections": true,
   "sideBar": true,
   "skip_h1_title": false,
   "title_cell": "Tabla de Contenidos",
   "title_sidebar": "Contenidos",
   "toc_cell": true,
   "toc_position": {
    "height": "calc(100% - 180px)",
    "left": "10px",
    "top": "150px",
    "width": "379px"
   },
   "toc_section_display": true,
   "toc_window_display": false
  }
 },
 "nbformat": 4,
 "nbformat_minor": 5
}
