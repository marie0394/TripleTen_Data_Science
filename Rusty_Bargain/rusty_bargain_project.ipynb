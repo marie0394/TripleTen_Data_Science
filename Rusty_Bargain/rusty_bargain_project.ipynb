{
 "cells": [
  {
   "cell_type": "markdown",
   "id": "96c2cdc7",
   "metadata": {},
   "source": [
    "# ¡Hola!  \n",
    "\n",
    "Mi nombre es Carlos Ortiz, soy code reviewer de Practicum y voy a revisar el proyecto que acabas de desarrollar.\n",
    "\n",
    "Cuando vea un error la primera vez, lo señalaré. Deberás encontrarlo y arreglarlo. La intención es que te prepares para un espacio real de trabajo. En un trabajo, el líder de tu equipo hará lo mismo. Si no puedes solucionar el error, te daré más información en la próxima ocasión. \n",
    "\n",
    "Encontrarás mis comentarios más abajo - **por favor, no los muevas, no los modifiques ni los borres**.\n",
    "\n",
    "¿Cómo lo voy a hacer? Voy a leer detenidamente cada una de las implementaciones que has llevado a cabo para cumplir con lo solicitado. Verás los comentarios de esta forma:\n",
    "\n",
    "<div class=\"alert alert-block alert-success\">\n",
    "<b>Comentario del revisor</b> <a class=\"tocSkip\"></a>\n",
    "    \n",
    "Si todo está perfecto.\n",
    "</div>\n",
    "\n",
    "\n",
    "<div class=\"alert alert-block alert-warning\">\n",
    "<b>Comentario del revisor</b> <a class=\"tocSkip\"></a>\n",
    "    \n",
    "Si tu código está bien pero se puede mejorar o hay algún detalle que le hace falta.\n",
    "</div>\n",
    "\n",
    "\n",
    "<div class=\"alert alert-block alert-danger\">\n",
    "    \n",
    "<b>Comentario del revisor</b> <a class=\"tocSkip\"></a>\n",
    "    \n",
    "    \n",
    "Si de pronto hace falta algo o existe algún problema con tu código o conclusiones.\n",
    "</div>\n",
    "\n",
    "\n",
    "Puedes responderme de esta forma: \n",
    "\n",
    "\n",
    "<div class=\"alert alert-block alert-info\">\n",
    "<b>Respuesta del estudiante</b> <a class=\"tocSkip\"></a>\n",
    "    \n",
    "Hola, muchas gracias por tus comentarios y la revisión Carlos.\n",
    "</div>\n",
    "\n",
    "¡Empecemos!\n"
   ]
  },
  {
   "cell_type": "markdown",
   "id": "2d4c7aed",
   "metadata": {},
   "source": [
    "# Descripción del proyecto"
   ]
  },
  {
   "cell_type": "markdown",
   "id": "9c908268",
   "metadata": {},
   "source": [
    "El servicio de venta de autos usados Rusty Bargain está desarrollando una aplicación para atraer nuevos clientes. Gracias a esa app, puedes averiguar rápidamente el valor de mercado de tu coche. Tienes acceso al historial: especificaciones técnicas, versiones de equipamiento y precios. Tienes que crear un modelo que determine el valor de mercado.\n",
    "A Rusty Bargain le interesa:\n",
    "- la calidad de la predicción;\n",
    "- la velocidad de la predicción;\n",
    "- el tiempo requerido para el entrenamiento"
   ]
  },
  {
   "cell_type": "markdown",
   "id": "69725a95",
   "metadata": {},
   "source": [
    "## Preparación de datos"
   ]
  },
  {
   "cell_type": "code",
   "execution_count": 51,
   "id": "10b24bd7",
   "metadata": {},
   "outputs": [],
   "source": [
    "# Importamos librerías necesarias\n",
    "import pandas as pd\n",
    "import numpy as np\n",
    "import seaborn as sns\n",
    "import matplotlib.pyplot as plt\n",
    "import missingno as msno\n",
    "from sklearn.impute import SimpleImputer\n",
    "from sklearn.model_selection import train_test_split\n",
    "from sklearn.linear_model import LinearRegression\n",
    "from sklearn.metrics import mean_squared_error\n",
    "from sklearn.ensemble import RandomForestRegressor\n",
    "from sklearn.preprocessing import OrdinalEncoder\n",
    "from sklearn.model_selection import GridSearchCV\n",
    "import lightgbm as lgb\n",
    "from catboost import CatBoostRegressor\n",
    "import xgboost as xgb"
   ]
  },
  {
   "cell_type": "markdown",
   "id": "77a6f941",
   "metadata": {},
   "source": [
    "Comenzamos leyendo el archivo de los datos disponibles"
   ]
  },
  {
   "cell_type": "code",
   "execution_count": 52,
   "id": "b4639462",
   "metadata": {},
   "outputs": [],
   "source": [
    "try:\n",
    "    car_data = pd.read_csv('datasets/car_data.csv')\n",
    "except:\n",
    "    car_data = pd.read_csv('/datasets/car_data.csv')"
   ]
  },
  {
   "cell_type": "markdown",
   "id": "78171b3b",
   "metadata": {},
   "source": [
    "Vamos a revisar unas cuantos columnas para explorar los datos "
   ]
  },
  {
   "cell_type": "code",
   "execution_count": 53,
   "id": "36c0bfb6",
   "metadata": {
    "scrolled": true
   },
   "outputs": [
    {
     "data": {
      "text/html": [
       "<div>\n",
       "<style scoped>\n",
       "    .dataframe tbody tr th:only-of-type {\n",
       "        vertical-align: middle;\n",
       "    }\n",
       "\n",
       "    .dataframe tbody tr th {\n",
       "        vertical-align: top;\n",
       "    }\n",
       "\n",
       "    .dataframe thead th {\n",
       "        text-align: right;\n",
       "    }\n",
       "</style>\n",
       "<table border=\"1\" class=\"dataframe\">\n",
       "  <thead>\n",
       "    <tr style=\"text-align: right;\">\n",
       "      <th></th>\n",
       "      <th>DateCrawled</th>\n",
       "      <th>Price</th>\n",
       "      <th>VehicleType</th>\n",
       "      <th>RegistrationYear</th>\n",
       "      <th>Gearbox</th>\n",
       "      <th>Power</th>\n",
       "      <th>Model</th>\n",
       "      <th>Mileage</th>\n",
       "      <th>RegistrationMonth</th>\n",
       "      <th>FuelType</th>\n",
       "      <th>Brand</th>\n",
       "      <th>NotRepaired</th>\n",
       "      <th>DateCreated</th>\n",
       "      <th>NumberOfPictures</th>\n",
       "      <th>PostalCode</th>\n",
       "      <th>LastSeen</th>\n",
       "    </tr>\n",
       "  </thead>\n",
       "  <tbody>\n",
       "    <tr>\n",
       "      <th>0</th>\n",
       "      <td>24/03/2016 11:52</td>\n",
       "      <td>480</td>\n",
       "      <td>NaN</td>\n",
       "      <td>1993</td>\n",
       "      <td>manual</td>\n",
       "      <td>0</td>\n",
       "      <td>golf</td>\n",
       "      <td>150000</td>\n",
       "      <td>0</td>\n",
       "      <td>petrol</td>\n",
       "      <td>volkswagen</td>\n",
       "      <td>NaN</td>\n",
       "      <td>24/03/2016 00:00</td>\n",
       "      <td>0</td>\n",
       "      <td>70435</td>\n",
       "      <td>07/04/2016 03:16</td>\n",
       "    </tr>\n",
       "    <tr>\n",
       "      <th>1</th>\n",
       "      <td>24/03/2016 10:58</td>\n",
       "      <td>18300</td>\n",
       "      <td>coupe</td>\n",
       "      <td>2011</td>\n",
       "      <td>manual</td>\n",
       "      <td>190</td>\n",
       "      <td>NaN</td>\n",
       "      <td>125000</td>\n",
       "      <td>5</td>\n",
       "      <td>gasoline</td>\n",
       "      <td>audi</td>\n",
       "      <td>yes</td>\n",
       "      <td>24/03/2016 00:00</td>\n",
       "      <td>0</td>\n",
       "      <td>66954</td>\n",
       "      <td>07/04/2016 01:46</td>\n",
       "    </tr>\n",
       "    <tr>\n",
       "      <th>2</th>\n",
       "      <td>14/03/2016 12:52</td>\n",
       "      <td>9800</td>\n",
       "      <td>suv</td>\n",
       "      <td>2004</td>\n",
       "      <td>auto</td>\n",
       "      <td>163</td>\n",
       "      <td>grand</td>\n",
       "      <td>125000</td>\n",
       "      <td>8</td>\n",
       "      <td>gasoline</td>\n",
       "      <td>jeep</td>\n",
       "      <td>NaN</td>\n",
       "      <td>14/03/2016 00:00</td>\n",
       "      <td>0</td>\n",
       "      <td>90480</td>\n",
       "      <td>05/04/2016 12:47</td>\n",
       "    </tr>\n",
       "    <tr>\n",
       "      <th>3</th>\n",
       "      <td>17/03/2016 16:54</td>\n",
       "      <td>1500</td>\n",
       "      <td>small</td>\n",
       "      <td>2001</td>\n",
       "      <td>manual</td>\n",
       "      <td>75</td>\n",
       "      <td>golf</td>\n",
       "      <td>150000</td>\n",
       "      <td>6</td>\n",
       "      <td>petrol</td>\n",
       "      <td>volkswagen</td>\n",
       "      <td>no</td>\n",
       "      <td>17/03/2016 00:00</td>\n",
       "      <td>0</td>\n",
       "      <td>91074</td>\n",
       "      <td>17/03/2016 17:40</td>\n",
       "    </tr>\n",
       "    <tr>\n",
       "      <th>4</th>\n",
       "      <td>31/03/2016 17:25</td>\n",
       "      <td>3600</td>\n",
       "      <td>small</td>\n",
       "      <td>2008</td>\n",
       "      <td>manual</td>\n",
       "      <td>69</td>\n",
       "      <td>fabia</td>\n",
       "      <td>90000</td>\n",
       "      <td>7</td>\n",
       "      <td>gasoline</td>\n",
       "      <td>skoda</td>\n",
       "      <td>no</td>\n",
       "      <td>31/03/2016 00:00</td>\n",
       "      <td>0</td>\n",
       "      <td>60437</td>\n",
       "      <td>06/04/2016 10:17</td>\n",
       "    </tr>\n",
       "  </tbody>\n",
       "</table>\n",
       "</div>"
      ],
      "text/plain": [
       "        DateCrawled  Price VehicleType  RegistrationYear Gearbox  Power  \\\n",
       "0  24/03/2016 11:52    480         NaN              1993  manual      0   \n",
       "1  24/03/2016 10:58  18300       coupe              2011  manual    190   \n",
       "2  14/03/2016 12:52   9800         suv              2004    auto    163   \n",
       "3  17/03/2016 16:54   1500       small              2001  manual     75   \n",
       "4  31/03/2016 17:25   3600       small              2008  manual     69   \n",
       "\n",
       "   Model  Mileage  RegistrationMonth  FuelType       Brand NotRepaired  \\\n",
       "0   golf   150000                  0    petrol  volkswagen         NaN   \n",
       "1    NaN   125000                  5  gasoline        audi         yes   \n",
       "2  grand   125000                  8  gasoline        jeep         NaN   \n",
       "3   golf   150000                  6    petrol  volkswagen          no   \n",
       "4  fabia    90000                  7  gasoline       skoda          no   \n",
       "\n",
       "        DateCreated  NumberOfPictures  PostalCode          LastSeen  \n",
       "0  24/03/2016 00:00                 0       70435  07/04/2016 03:16  \n",
       "1  24/03/2016 00:00                 0       66954  07/04/2016 01:46  \n",
       "2  14/03/2016 00:00                 0       90480  05/04/2016 12:47  \n",
       "3  17/03/2016 00:00                 0       91074  17/03/2016 17:40  \n",
       "4  31/03/2016 00:00                 0       60437  06/04/2016 10:17  "
      ]
     },
     "execution_count": 53,
     "metadata": {},
     "output_type": "execute_result"
    }
   ],
   "source": [
    "car_data.head()"
   ]
  },
  {
   "cell_type": "markdown",
   "id": "2b8b47d1",
   "metadata": {},
   "source": [
    "Hay algunos datos no disponibles, se va mostrar un resumen para ver donde faltan valores."
   ]
  },
  {
   "cell_type": "code",
   "execution_count": 54,
   "id": "09979d14",
   "metadata": {
    "scrolled": false
   },
   "outputs": [
    {
     "name": "stdout",
     "output_type": "stream",
     "text": [
      "<class 'pandas.core.frame.DataFrame'>\n",
      "RangeIndex: 354369 entries, 0 to 354368\n",
      "Data columns (total 16 columns):\n",
      " #   Column             Non-Null Count   Dtype \n",
      "---  ------             --------------   ----- \n",
      " 0   DateCrawled        354369 non-null  object\n",
      " 1   Price              354369 non-null  int64 \n",
      " 2   VehicleType        316879 non-null  object\n",
      " 3   RegistrationYear   354369 non-null  int64 \n",
      " 4   Gearbox            334536 non-null  object\n",
      " 5   Power              354369 non-null  int64 \n",
      " 6   Model              334664 non-null  object\n",
      " 7   Mileage            354369 non-null  int64 \n",
      " 8   RegistrationMonth  354369 non-null  int64 \n",
      " 9   FuelType           321474 non-null  object\n",
      " 10  Brand              354369 non-null  object\n",
      " 11  NotRepaired        283215 non-null  object\n",
      " 12  DateCreated        354369 non-null  object\n",
      " 13  NumberOfPictures   354369 non-null  int64 \n",
      " 14  PostalCode         354369 non-null  int64 \n",
      " 15  LastSeen           354369 non-null  object\n",
      "dtypes: int64(7), object(9)\n",
      "memory usage: 43.3+ MB\n"
     ]
    }
   ],
   "source": [
    "car_data.info()"
   ]
  },
  {
   "cell_type": "markdown",
   "id": "74632073",
   "metadata": {},
   "source": [
    "Hay 5 características con datas faltantes, eventualmente habrá que rellenarlas. Vamos a revisar una descripción general de los datos númericos disponibles."
   ]
  },
  {
   "cell_type": "code",
   "execution_count": 55,
   "id": "a2c0d9e6",
   "metadata": {
    "scrolled": true
   },
   "outputs": [
    {
     "data": {
      "text/html": [
       "<div>\n",
       "<style scoped>\n",
       "    .dataframe tbody tr th:only-of-type {\n",
       "        vertical-align: middle;\n",
       "    }\n",
       "\n",
       "    .dataframe tbody tr th {\n",
       "        vertical-align: top;\n",
       "    }\n",
       "\n",
       "    .dataframe thead th {\n",
       "        text-align: right;\n",
       "    }\n",
       "</style>\n",
       "<table border=\"1\" class=\"dataframe\">\n",
       "  <thead>\n",
       "    <tr style=\"text-align: right;\">\n",
       "      <th></th>\n",
       "      <th>Price</th>\n",
       "      <th>RegistrationYear</th>\n",
       "      <th>Power</th>\n",
       "      <th>Mileage</th>\n",
       "      <th>RegistrationMonth</th>\n",
       "      <th>NumberOfPictures</th>\n",
       "      <th>PostalCode</th>\n",
       "    </tr>\n",
       "  </thead>\n",
       "  <tbody>\n",
       "    <tr>\n",
       "      <th>count</th>\n",
       "      <td>354369.000000</td>\n",
       "      <td>354369.000000</td>\n",
       "      <td>354369.000000</td>\n",
       "      <td>354369.000000</td>\n",
       "      <td>354369.000000</td>\n",
       "      <td>354369.0</td>\n",
       "      <td>354369.000000</td>\n",
       "    </tr>\n",
       "    <tr>\n",
       "      <th>mean</th>\n",
       "      <td>4416.656776</td>\n",
       "      <td>2004.234448</td>\n",
       "      <td>110.094337</td>\n",
       "      <td>128211.172535</td>\n",
       "      <td>5.714645</td>\n",
       "      <td>0.0</td>\n",
       "      <td>50508.689087</td>\n",
       "    </tr>\n",
       "    <tr>\n",
       "      <th>std</th>\n",
       "      <td>4514.158514</td>\n",
       "      <td>90.227958</td>\n",
       "      <td>189.850405</td>\n",
       "      <td>37905.341530</td>\n",
       "      <td>3.726421</td>\n",
       "      <td>0.0</td>\n",
       "      <td>25783.096248</td>\n",
       "    </tr>\n",
       "    <tr>\n",
       "      <th>min</th>\n",
       "      <td>0.000000</td>\n",
       "      <td>1000.000000</td>\n",
       "      <td>0.000000</td>\n",
       "      <td>5000.000000</td>\n",
       "      <td>0.000000</td>\n",
       "      <td>0.0</td>\n",
       "      <td>1067.000000</td>\n",
       "    </tr>\n",
       "    <tr>\n",
       "      <th>25%</th>\n",
       "      <td>1050.000000</td>\n",
       "      <td>1999.000000</td>\n",
       "      <td>69.000000</td>\n",
       "      <td>125000.000000</td>\n",
       "      <td>3.000000</td>\n",
       "      <td>0.0</td>\n",
       "      <td>30165.000000</td>\n",
       "    </tr>\n",
       "    <tr>\n",
       "      <th>50%</th>\n",
       "      <td>2700.000000</td>\n",
       "      <td>2003.000000</td>\n",
       "      <td>105.000000</td>\n",
       "      <td>150000.000000</td>\n",
       "      <td>6.000000</td>\n",
       "      <td>0.0</td>\n",
       "      <td>49413.000000</td>\n",
       "    </tr>\n",
       "    <tr>\n",
       "      <th>75%</th>\n",
       "      <td>6400.000000</td>\n",
       "      <td>2008.000000</td>\n",
       "      <td>143.000000</td>\n",
       "      <td>150000.000000</td>\n",
       "      <td>9.000000</td>\n",
       "      <td>0.0</td>\n",
       "      <td>71083.000000</td>\n",
       "    </tr>\n",
       "    <tr>\n",
       "      <th>max</th>\n",
       "      <td>20000.000000</td>\n",
       "      <td>9999.000000</td>\n",
       "      <td>20000.000000</td>\n",
       "      <td>150000.000000</td>\n",
       "      <td>12.000000</td>\n",
       "      <td>0.0</td>\n",
       "      <td>99998.000000</td>\n",
       "    </tr>\n",
       "  </tbody>\n",
       "</table>\n",
       "</div>"
      ],
      "text/plain": [
       "               Price  RegistrationYear          Power        Mileage  \\\n",
       "count  354369.000000     354369.000000  354369.000000  354369.000000   \n",
       "mean     4416.656776       2004.234448     110.094337  128211.172535   \n",
       "std      4514.158514         90.227958     189.850405   37905.341530   \n",
       "min         0.000000       1000.000000       0.000000    5000.000000   \n",
       "25%      1050.000000       1999.000000      69.000000  125000.000000   \n",
       "50%      2700.000000       2003.000000     105.000000  150000.000000   \n",
       "75%      6400.000000       2008.000000     143.000000  150000.000000   \n",
       "max     20000.000000       9999.000000   20000.000000  150000.000000   \n",
       "\n",
       "       RegistrationMonth  NumberOfPictures     PostalCode  \n",
       "count      354369.000000          354369.0  354369.000000  \n",
       "mean            5.714645               0.0   50508.689087  \n",
       "std             3.726421               0.0   25783.096248  \n",
       "min             0.000000               0.0    1067.000000  \n",
       "25%             3.000000               0.0   30165.000000  \n",
       "50%             6.000000               0.0   49413.000000  \n",
       "75%             9.000000               0.0   71083.000000  \n",
       "max            12.000000               0.0   99998.000000  "
      ]
     },
     "execution_count": 55,
     "metadata": {},
     "output_type": "execute_result"
    }
   ],
   "source": [
    "car_data.describe()"
   ]
  },
  {
   "cell_type": "markdown",
   "id": "4bdade00",
   "metadata": {},
   "source": [
    "Hay datos que no tienen mucho sentido:\n",
    "- En registration_year, el año mínimo es 1000 y el máximo es 9999. \n",
    "- En Price, hay un precio mínimo de cero\n",
    "- En Power, hay un valor mínimo de cero y también un máximo de 20000, muy por encima de la mayoría de datos.\n",
    "- En RegistrationMonth hay valores de cero. Se debería considerar que los valores correctos van de 1 al 12. \n",
    "- En NumberOfPictures todos los valores son cero, se debería eliminar la columna, ya que no aporta información.\n",
    "\n",
    "Pudieron haber errores cuando se realizó el crawling de los datos. Se van a revisar estos valores extremos y también reemplazarlos."
   ]
  },
  {
   "cell_type": "markdown",
   "id": "a0dac112",
   "metadata": {},
   "source": [
    "### Preprocesamiento de datos"
   ]
  },
  {
   "cell_type": "markdown",
   "id": "de6a62e4",
   "metadata": {},
   "source": [
    "#### Cambiar los nombres de column a camel_case"
   ]
  },
  {
   "cell_type": "markdown",
   "id": "e728bccf",
   "metadata": {},
   "source": [
    "Se van a cambiar los reemplazar el nombre de las columnas por su equivalente en camel_case."
   ]
  },
  {
   "cell_type": "code",
   "execution_count": 56,
   "id": "85b6d640",
   "metadata": {},
   "outputs": [
    {
     "data": {
      "text/plain": [
       "Index(['DateCrawled', 'Price', 'VehicleType', 'RegistrationYear', 'Gearbox',\n",
       "       'Power', 'Model', 'Mileage', 'RegistrationMonth', 'FuelType', 'Brand',\n",
       "       'NotRepaired', 'DateCreated', 'NumberOfPictures', 'PostalCode',\n",
       "       'LastSeen'],\n",
       "      dtype='object')"
      ]
     },
     "execution_count": 56,
     "metadata": {},
     "output_type": "execute_result"
    }
   ],
   "source": [
    "#Antes del cambio\n",
    "car_data.columns"
   ]
  },
  {
   "cell_type": "code",
   "execution_count": 57,
   "id": "5f767cea",
   "metadata": {},
   "outputs": [],
   "source": [
    "car_data.columns = car_data.columns.str.replace('(?<=[a-z])(?=[A-Z])', '_', regex=True).str.lower()"
   ]
  },
  {
   "cell_type": "code",
   "execution_count": 58,
   "id": "a1267636",
   "metadata": {
    "scrolled": true
   },
   "outputs": [
    {
     "data": {
      "text/plain": [
       "Index(['date_crawled', 'price', 'vehicle_type', 'registration_year', 'gearbox',\n",
       "       'power', 'model', 'mileage', 'registration_month', 'fuel_type', 'brand',\n",
       "       'not_repaired', 'date_created', 'number_of_pictures', 'postal_code',\n",
       "       'last_seen'],\n",
       "      dtype='object')"
      ]
     },
     "execution_count": 58,
     "metadata": {},
     "output_type": "execute_result"
    }
   ],
   "source": [
    "#Después del cambio\n",
    "car_data.columns "
   ]
  },
  {
   "cell_type": "markdown",
   "id": "905998eb",
   "metadata": {},
   "source": [
    "#### Características no relevantes al precio"
   ]
  },
  {
   "cell_type": "markdown",
   "id": "4aebda16",
   "metadata": {},
   "source": [
    "Ciertas características podrían no tener relación al peso, por lo que harían más ruido que ayudarnos en la creación del modelo. `RegistrationMonth`, `DateCrawled`, `DateCreated`, `LastSeen` y `PostalCode` serán eliminadas."
   ]
  },
  {
   "cell_type": "code",
   "execution_count": 59,
   "id": "28d4a4b6",
   "metadata": {},
   "outputs": [],
   "source": [
    "poco_relevantes = ['registration_month', 'date_crawled', 'date_created', 'last_seen', 'postal_code']\n",
    "car_data = car_data.drop(poco_relevantes, axis=1)"
   ]
  },
  {
   "cell_type": "code",
   "execution_count": 60,
   "id": "d8789507",
   "metadata": {
    "scrolled": true
   },
   "outputs": [
    {
     "data": {
      "text/html": [
       "<div>\n",
       "<style scoped>\n",
       "    .dataframe tbody tr th:only-of-type {\n",
       "        vertical-align: middle;\n",
       "    }\n",
       "\n",
       "    .dataframe tbody tr th {\n",
       "        vertical-align: top;\n",
       "    }\n",
       "\n",
       "    .dataframe thead th {\n",
       "        text-align: right;\n",
       "    }\n",
       "</style>\n",
       "<table border=\"1\" class=\"dataframe\">\n",
       "  <thead>\n",
       "    <tr style=\"text-align: right;\">\n",
       "      <th></th>\n",
       "      <th>price</th>\n",
       "      <th>vehicle_type</th>\n",
       "      <th>registration_year</th>\n",
       "      <th>gearbox</th>\n",
       "      <th>power</th>\n",
       "      <th>model</th>\n",
       "      <th>mileage</th>\n",
       "      <th>fuel_type</th>\n",
       "      <th>brand</th>\n",
       "      <th>not_repaired</th>\n",
       "      <th>number_of_pictures</th>\n",
       "    </tr>\n",
       "  </thead>\n",
       "  <tbody>\n",
       "    <tr>\n",
       "      <th>0</th>\n",
       "      <td>480</td>\n",
       "      <td>NaN</td>\n",
       "      <td>1993</td>\n",
       "      <td>manual</td>\n",
       "      <td>0</td>\n",
       "      <td>golf</td>\n",
       "      <td>150000</td>\n",
       "      <td>petrol</td>\n",
       "      <td>volkswagen</td>\n",
       "      <td>NaN</td>\n",
       "      <td>0</td>\n",
       "    </tr>\n",
       "    <tr>\n",
       "      <th>1</th>\n",
       "      <td>18300</td>\n",
       "      <td>coupe</td>\n",
       "      <td>2011</td>\n",
       "      <td>manual</td>\n",
       "      <td>190</td>\n",
       "      <td>NaN</td>\n",
       "      <td>125000</td>\n",
       "      <td>gasoline</td>\n",
       "      <td>audi</td>\n",
       "      <td>yes</td>\n",
       "      <td>0</td>\n",
       "    </tr>\n",
       "    <tr>\n",
       "      <th>2</th>\n",
       "      <td>9800</td>\n",
       "      <td>suv</td>\n",
       "      <td>2004</td>\n",
       "      <td>auto</td>\n",
       "      <td>163</td>\n",
       "      <td>grand</td>\n",
       "      <td>125000</td>\n",
       "      <td>gasoline</td>\n",
       "      <td>jeep</td>\n",
       "      <td>NaN</td>\n",
       "      <td>0</td>\n",
       "    </tr>\n",
       "  </tbody>\n",
       "</table>\n",
       "</div>"
      ],
      "text/plain": [
       "   price vehicle_type  registration_year gearbox  power  model  mileage  \\\n",
       "0    480          NaN               1993  manual      0   golf   150000   \n",
       "1  18300        coupe               2011  manual    190    NaN   125000   \n",
       "2   9800          suv               2004    auto    163  grand   125000   \n",
       "\n",
       "  fuel_type       brand not_repaired  number_of_pictures  \n",
       "0    petrol  volkswagen          NaN                   0  \n",
       "1  gasoline        audi          yes                   0  \n",
       "2  gasoline        jeep          NaN                   0  "
      ]
     },
     "execution_count": 60,
     "metadata": {},
     "output_type": "execute_result"
    }
   ],
   "source": [
    "car_data.head(3)"
   ]
  },
  {
   "cell_type": "markdown",
   "id": "80cf9335",
   "metadata": {},
   "source": [
    "#### Datos inusuales"
   ]
  },
  {
   "cell_type": "markdown",
   "id": "a6651b39",
   "metadata": {},
   "source": [
    "##### number_of_pictures"
   ]
  },
  {
   "cell_type": "markdown",
   "id": "b18e8baf",
   "metadata": {},
   "source": [
    "Solo hay un solo valor en NumberOfPictures . Probablemente un error en la recolección y nos aporta nada al entrenamiento, por lo que será eliminada esta característica."
   ]
  },
  {
   "cell_type": "code",
   "execution_count": 61,
   "id": "b739aa90",
   "metadata": {},
   "outputs": [],
   "source": [
    "car_data = car_data.drop(['number_of_pictures'], axis=1)"
   ]
  },
  {
   "cell_type": "markdown",
   "id": "fca41ca1",
   "metadata": {},
   "source": [
    "##### registration_year"
   ]
  },
  {
   "cell_type": "markdown",
   "id": "37324ed8",
   "metadata": {},
   "source": [
    "Vamos a revisar los datos sin sentido o extremos que hay en la data recolectada. El carro moderno fue inventado alrededor de los años 1886. Cualquier carro antes de esta fecha o después del 2023 no debería existir. Vamos a determinar cuantos datos de registration_year tienen estos rangos."
   ]
  },
  {
   "cell_type": "code",
   "execution_count": 62,
   "id": "a9e7688d",
   "metadata": {
    "scrolled": true
   },
   "outputs": [
    {
     "data": {
      "text/html": [
       "<div>\n",
       "<style scoped>\n",
       "    .dataframe tbody tr th:only-of-type {\n",
       "        vertical-align: middle;\n",
       "    }\n",
       "\n",
       "    .dataframe tbody tr th {\n",
       "        vertical-align: top;\n",
       "    }\n",
       "\n",
       "    .dataframe thead th {\n",
       "        text-align: right;\n",
       "    }\n",
       "</style>\n",
       "<table border=\"1\" class=\"dataframe\">\n",
       "  <thead>\n",
       "    <tr style=\"text-align: right;\">\n",
       "      <th></th>\n",
       "      <th>price</th>\n",
       "      <th>vehicle_type</th>\n",
       "      <th>registration_year</th>\n",
       "      <th>gearbox</th>\n",
       "      <th>power</th>\n",
       "      <th>model</th>\n",
       "      <th>mileage</th>\n",
       "      <th>fuel_type</th>\n",
       "      <th>brand</th>\n",
       "      <th>not_repaired</th>\n",
       "    </tr>\n",
       "  </thead>\n",
       "  <tbody>\n",
       "    <tr>\n",
       "      <th>622</th>\n",
       "      <td>0</td>\n",
       "      <td>NaN</td>\n",
       "      <td>1111</td>\n",
       "      <td>NaN</td>\n",
       "      <td>0</td>\n",
       "      <td>NaN</td>\n",
       "      <td>5000</td>\n",
       "      <td>NaN</td>\n",
       "      <td>opel</td>\n",
       "      <td>NaN</td>\n",
       "    </tr>\n",
       "    <tr>\n",
       "      <th>12946</th>\n",
       "      <td>49</td>\n",
       "      <td>NaN</td>\n",
       "      <td>5000</td>\n",
       "      <td>NaN</td>\n",
       "      <td>0</td>\n",
       "      <td>golf</td>\n",
       "      <td>5000</td>\n",
       "      <td>NaN</td>\n",
       "      <td>volkswagen</td>\n",
       "      <td>NaN</td>\n",
       "    </tr>\n",
       "    <tr>\n",
       "      <th>15147</th>\n",
       "      <td>0</td>\n",
       "      <td>NaN</td>\n",
       "      <td>9999</td>\n",
       "      <td>NaN</td>\n",
       "      <td>0</td>\n",
       "      <td>NaN</td>\n",
       "      <td>10000</td>\n",
       "      <td>NaN</td>\n",
       "      <td>sonstige_autos</td>\n",
       "      <td>NaN</td>\n",
       "    </tr>\n",
       "    <tr>\n",
       "      <th>15870</th>\n",
       "      <td>1700</td>\n",
       "      <td>NaN</td>\n",
       "      <td>3200</td>\n",
       "      <td>NaN</td>\n",
       "      <td>0</td>\n",
       "      <td>NaN</td>\n",
       "      <td>5000</td>\n",
       "      <td>NaN</td>\n",
       "      <td>sonstige_autos</td>\n",
       "      <td>NaN</td>\n",
       "    </tr>\n",
       "    <tr>\n",
       "      <th>16062</th>\n",
       "      <td>190</td>\n",
       "      <td>NaN</td>\n",
       "      <td>1000</td>\n",
       "      <td>NaN</td>\n",
       "      <td>0</td>\n",
       "      <td>mondeo</td>\n",
       "      <td>5000</td>\n",
       "      <td>NaN</td>\n",
       "      <td>ford</td>\n",
       "      <td>NaN</td>\n",
       "    </tr>\n",
       "  </tbody>\n",
       "</table>\n",
       "</div>"
      ],
      "text/plain": [
       "       price vehicle_type  registration_year gearbox  power   model  mileage  \\\n",
       "622        0          NaN               1111     NaN      0     NaN     5000   \n",
       "12946     49          NaN               5000     NaN      0    golf     5000   \n",
       "15147      0          NaN               9999     NaN      0     NaN    10000   \n",
       "15870   1700          NaN               3200     NaN      0     NaN     5000   \n",
       "16062    190          NaN               1000     NaN      0  mondeo     5000   \n",
       "\n",
       "      fuel_type           brand not_repaired  \n",
       "622         NaN            opel          NaN  \n",
       "12946       NaN      volkswagen          NaN  \n",
       "15147       NaN  sonstige_autos          NaN  \n",
       "15870       NaN  sonstige_autos          NaN  \n",
       "16062       NaN            ford          NaN  "
      ]
     },
     "execution_count": 62,
     "metadata": {},
     "output_type": "execute_result"
    }
   ],
   "source": [
    "registration_year_incoherent_data = car_data.query(\"registration_year < 1886 or registration_year > 2023\")\n",
    "registration_year_incoherent_data.head()"
   ]
  },
  {
   "cell_type": "markdown",
   "id": "b353f024",
   "metadata": {},
   "source": [
    "Parece que para estos datos con valores extraños de `registration_year` también hay valores ausentes de otras columnas. Vamos a revisar la tendencia de estos valores perdidos de forma visual."
   ]
  },
  {
   "cell_type": "code",
   "execution_count": 63,
   "id": "7cc08bfc",
   "metadata": {
    "scrolled": true
   },
   "outputs": [
    {
     "data": {
      "text/plain": [
       "<AxesSubplot:>"
      ]
     },
     "execution_count": 63,
     "metadata": {},
     "output_type": "execute_result"
    },
    {
     "data": {
      "image/png": "[encoded data removed]",
      "text/plain": [
       "<Figure size 1800x720 with 2 Axes>"
      ]
     },
     "metadata": {
      "needs_background": "light"
     },
     "output_type": "display_data"
    }
   ],
   "source": [
    "msno.matrix(registration_year_incoherent_data)"
   ]
  },
  {
   "cell_type": "markdown",
   "id": "dfabc6f5",
   "metadata": {},
   "source": [
    "En efecto, coinciden varias observaciones con datos ausentes para múltiples características. Dado que rellenar los datos dependerá de valores en otras columnas y hay considerables datos faltantes en varias, no sería adecuado tratar de rellenar estos años. Vamos a eliminar estas observaciones."
   ]
  },
  {
   "cell_type": "markdown",
   "id": "43cf005b",
   "metadata": {},
   "source": [
    "Originalmente, car_data tiene esta cantidad de observaciones."
   ]
  },
  {
   "cell_type": "code",
   "execution_count": 64,
   "id": "7b02708b",
   "metadata": {
    "scrolled": false
   },
   "outputs": [
    {
     "data": {
      "text/plain": [
       "354369"
      ]
     },
     "execution_count": 64,
     "metadata": {},
     "output_type": "execute_result"
    }
   ],
   "source": [
    "original_len = len(car_data)\n",
    "original_len"
   ]
  },
  {
   "cell_type": "code",
   "execution_count": 65,
   "id": "209b6da1",
   "metadata": {},
   "outputs": [
    {
     "name": "stdout",
     "output_type": "stream",
     "text": [
      "La cantidad de datos a borrar serían: 171\n",
      "Esto equivale al 0.05% de los datos\n"
     ]
    }
   ],
   "source": [
    "print(f'La cantidad de datos a borrar serían: {len(registration_year_incoherent_data)}')\n",
    "print(f'Esto equivale al {len(registration_year_incoherent_data)/original_len:.2%} de los datos')"
   ]
  },
  {
   "cell_type": "code",
   "execution_count": 66,
   "id": "bab6674b",
   "metadata": {
    "scrolled": true
   },
   "outputs": [
    {
     "data": {
      "text/plain": [
       "354198"
      ]
     },
     "execution_count": 66,
     "metadata": {},
     "output_type": "execute_result"
    }
   ],
   "source": [
    "car_data = car_data.query(\"registration_year >= 1886 and registration_year <= 2023\")\n",
    "len(car_data)"
   ]
  },
  {
   "cell_type": "markdown",
   "id": "bf398373",
   "metadata": {},
   "source": [
    "##### Price"
   ]
  },
  {
   "cell_type": "markdown",
   "id": "75cfa230",
   "metadata": {},
   "source": [
    "Hay valores de ceros en Price, que no debería realmente aparecer. Como esta es la variable objetivo, no se tratarán de reemplazar estos datos, solo se eliminarán sus observaciones que tengan Price igual a cero."
   ]
  },
  {
   "cell_type": "code",
   "execution_count": 67,
   "id": "7616e5f4",
   "metadata": {},
   "outputs": [
    {
     "name": "stdout",
     "output_type": "stream",
     "text": [
      "La cantidad de datos a borrar serían: 10740\n",
      "Esto equivale al 3.03% de los datos\n"
     ]
    }
   ],
   "source": [
    "priceZero = car_data.query('price == 0')\n",
    "print(f'La cantidad de datos a borrar serían: {len(priceZero)}')\n",
    "print(f'Esto equivale al {len(priceZero)/len(car_data):.2%} de los datos')"
   ]
  },
  {
   "cell_type": "markdown",
   "id": "c4275af6",
   "metadata": {},
   "source": [
    "Es poco más del 3%, no es mayor perdida, continuamos eliminando estas filas."
   ]
  },
  {
   "cell_type": "code",
   "execution_count": 68,
   "id": "91ebd2a9",
   "metadata": {
    "scrolled": true
   },
   "outputs": [
    {
     "data": {
      "text/plain": [
       "343458"
      ]
     },
     "execution_count": 68,
     "metadata": {},
     "output_type": "execute_result"
    }
   ],
   "source": [
    "car_data = car_data.query(\"price > 0\")\n",
    "len(car_data)"
   ]
  },
  {
   "cell_type": "markdown",
   "id": "9c520af6",
   "metadata": {},
   "source": [
    "##### Power"
   ]
  },
  {
   "cell_type": "markdown",
   "id": "a198707a",
   "metadata": {},
   "source": [
    "Revisaremos la distribución de Power para ver su rango típico claramente. Los valores llegan hasta 20000, pero su percentil 75 es 143. Vamos a mostrar la distribución para los datos menores a 500."
   ]
  },
  {
   "cell_type": "code",
   "execution_count": 70,
   "id": "171c2324",
   "metadata": {
    "scrolled": true
   },
   "outputs": [
    {
     "data": {
      "image/png": "[encoded data removed]",
      "text/plain": [
       "<Figure size 576x144 with 1 Axes>"
      ]
     },
     "metadata": {
      "needs_background": "light"
     },
     "output_type": "display_data"
    }
   ],
   "source": [
    "fig = plt.figure(figsize=(8, 2))\n",
    "car_data.query('power < 500')['power'].plot(kind='box', vert=False)\n",
    "plt.show()"
   ]
  },
  {
   "cell_type": "markdown",
   "id": "f6027819",
   "metadata": {},
   "source": [
    "De acuerdo a esta fuente [link](https://www.jdpower.com/cars/shopping-guides/what-is-the-average-horsepower-of-a-car), los valores de potencia se encuentran alrededor de 200 HP, dependiendo del tamaño del vehículo, puede variar entre 100 a 300 HP. La relación entre CV, que es la unidad de los datos y HP, es `1 CV = 0.986 HP`. La relación es casi 1 a 1, así que podemos comparar los datos de la tabla con los de la fuente. Aunque es raro, sí pueden haber carros de hasta 1200 HP. Entonces los valores por encima de este número no son realistas. \n",
    "\n",
    "Tampoco tiene mucho sentido que hayan valores de Power de cero, por lo que vamos a averiguar qué porcentaje representan."
   ]
  },
  {
   "cell_type": "code",
   "execution_count": 72,
   "id": "1508847a",
   "metadata": {},
   "outputs": [
    {
     "name": "stdout",
     "output_type": "stream",
     "text": [
      "La cantidad de datos a borrar serían: 36496\n",
      "Esto equivale al 10.63% de los datos\n"
     ]
    }
   ],
   "source": [
    "extremePower = car_data.query('power > 1200 or power == 0')\n",
    "print(f'La cantidad de datos a borrar serían: {len(extremePower)}')\n",
    "print(f'Esto equivale al {len(extremePower)/len(car_data):.2%} de los datos')"
   ]
  },
  {
   "cell_type": "markdown",
   "id": "502affdc",
   "metadata": {},
   "source": [
    "Representan el 10.63% de nuestros datos hasta ahora. Es una décima parte de nuestros datos, pero nos quedaríamos aun con más de 300,000 datos, por lo que optaremos en eliminarlos para mejora la calidad de predicción."
   ]
  },
  {
   "cell_type": "code",
   "execution_count": 74,
   "id": "39f8e605",
   "metadata": {},
   "outputs": [
    {
     "data": {
      "text/plain": [
       "306962"
      ]
     },
     "execution_count": 74,
     "metadata": {},
     "output_type": "execute_result"
    }
   ],
   "source": [
    "car_data = car_data.query(\"power <= 1200 and power > 0\")\n",
    "len(car_data)"
   ]
  },
  {
   "cell_type": "markdown",
   "id": "32a9da2d",
   "metadata": {},
   "source": [
    "#### Rellenando ausentes"
   ]
  },
  {
   "cell_type": "markdown",
   "id": "5398c768",
   "metadata": {},
   "source": [
    "Vamos a visualizar la distribución de valores ausentes para los datos que nos quedan."
   ]
  },
  {
   "cell_type": "code",
   "execution_count": 75,
   "id": "50942c19",
   "metadata": {
    "scrolled": true
   },
   "outputs": [
    {
     "data": {
      "text/plain": [
       "<AxesSubplot:>"
      ]
     },
     "execution_count": 75,
     "metadata": {},
     "output_type": "execute_result"
    },
    {
     "data": {
      "image/png": "[encoded data removed]",
      "text/plain": [
       "<Figure size 1800x720 with 2 Axes>"
      ]
     },
     "metadata": {
      "needs_background": "light"
     },
     "output_type": "display_data"
    }
   ],
   "source": [
    "msno.matrix(car_data)"
   ]
  },
  {
   "cell_type": "markdown",
   "id": "5f3cd3b5",
   "metadata": {},
   "source": [
    "No hay un patrón obvio para ayudarnos a llenar datos con respecto a otra columna. Usaremos una de las librerías de sklearn para realizar el relleno de datos."
   ]
  },
  {
   "cell_type": "code",
   "execution_count": 76,
   "id": "da3f38bb",
   "metadata": {
    "scrolled": false
   },
   "outputs": [],
   "source": [
    "features = car_data.drop('price', axis=1)\n",
    "target = car_data['price'].reset_index(drop=True)\n",
    "imp_moda = SimpleImputer(missing_values=np.nan, strategy='most_frequent')\n",
    "imp_moda.fit(features)\n",
    "filled_features_np = imp_moda.transform(features)\n",
    "filled_features = pd.DataFrame(filled_features_np, columns = features.columns)"
   ]
  },
  {
   "cell_type": "code",
   "execution_count": 77,
   "id": "430c9c85",
   "metadata": {
    "scrolled": true
   },
   "outputs": [
    {
     "name": "stdout",
     "output_type": "stream",
     "text": [
      "<class 'pandas.core.frame.DataFrame'>\n",
      "RangeIndex: 306962 entries, 0 to 306961\n",
      "Data columns (total 10 columns):\n",
      " #   Column             Non-Null Count   Dtype \n",
      "---  ------             --------------   ----- \n",
      " 0   vehicle_type       306962 non-null  object\n",
      " 1   registration_year  306962 non-null  object\n",
      " 2   gearbox            306962 non-null  object\n",
      " 3   power              306962 non-null  object\n",
      " 4   model              306962 non-null  object\n",
      " 5   mileage            306962 non-null  object\n",
      " 6   fuel_type          306962 non-null  object\n",
      " 7   brand              306962 non-null  object\n",
      " 8   not_repaired       306962 non-null  object\n",
      " 9   price              306962 non-null  int64 \n",
      "dtypes: int64(1), object(9)\n",
      "memory usage: 23.4+ MB\n"
     ]
    }
   ],
   "source": [
    "# Volvemos a crear car_data, con los datos de los features y target\n",
    "car_data = filled_features\n",
    "car_data['price'] = target                    \n",
    "car_data.info()"
   ]
  },
  {
   "cell_type": "markdown",
   "id": "c4435cbf",
   "metadata": {},
   "source": [
    "Arreglaremos el tipo de variable de las columnas"
   ]
  },
  {
   "cell_type": "code",
   "execution_count": 78,
   "id": "b7e9ae4f",
   "metadata": {
    "scrolled": false
   },
   "outputs": [
    {
     "name": "stdout",
     "output_type": "stream",
     "text": [
      "<class 'pandas.core.frame.DataFrame'>\n",
      "RangeIndex: 306962 entries, 0 to 306961\n",
      "Data columns (total 10 columns):\n",
      " #   Column             Non-Null Count   Dtype \n",
      "---  ------             --------------   ----- \n",
      " 0   vehicle_type       306962 non-null  object\n",
      " 1   registration_year  306962 non-null  int64 \n",
      " 2   gearbox            306962 non-null  object\n",
      " 3   power              306962 non-null  int64 \n",
      " 4   model              306962 non-null  object\n",
      " 5   mileage            306962 non-null  int64 \n",
      " 6   fuel_type          306962 non-null  object\n",
      " 7   brand              306962 non-null  object\n",
      " 8   not_repaired       306962 non-null  object\n",
      " 9   price              306962 non-null  int64 \n",
      "dtypes: int64(4), object(6)\n",
      "memory usage: 23.4+ MB\n"
     ]
    }
   ],
   "source": [
    "car_data = car_data.convert_dtypes(convert_integer=False, convert_string=False)\n",
    "car_data.info()"
   ]
  },
  {
   "cell_type": "markdown",
   "id": "f15c6474",
   "metadata": {},
   "source": [
    "Los datos ausentes se llenaron usando el valor más frecuente de cada característica."
   ]
  },
  {
   "cell_type": "markdown",
   "id": "f9501479",
   "metadata": {},
   "source": [
    "#### Reducir categorias en Model"
   ]
  },
  {
   "cell_type": "code",
   "execution_count": 80,
   "id": "1afd5c5f",
   "metadata": {},
   "outputs": [
    {
     "data": {
      "text/plain": [
       "249"
      ]
     },
     "execution_count": 80,
     "metadata": {},
     "output_type": "execute_result"
    }
   ],
   "source": [
    "len(car_data.model.unique())"
   ]
  },
  {
   "cell_type": "markdown",
   "id": "b5677ace",
   "metadata": {},
   "source": [
    "Model tiene 249 categorías únicas. Para lidiar con esto, vamos a reducir los modelos según la frecuencia de estos. Los que tengan frecuencia menor a 50, serán eliminados."
   ]
  },
  {
   "cell_type": "code",
   "execution_count": 81,
   "id": "1f4dbfd8",
   "metadata": {
    "scrolled": true
   },
   "outputs": [
    {
     "data": {
      "text/plain": [
       "golf                  38462\n",
       "other                 20815\n",
       "3er                   17782\n",
       "polo                  11146\n",
       "corsa                 10559\n",
       "                      ...  \n",
       "i3                        5\n",
       "samara                    5\n",
       "rangerover                3\n",
       "serie_3                   3\n",
       "range_rover_evoque        2\n",
       "Name: model, Length: 249, dtype: int64"
      ]
     },
     "execution_count": 81,
     "metadata": {},
     "output_type": "execute_result"
    }
   ],
   "source": [
    "car_data.model.value_counts()"
   ]
  },
  {
   "cell_type": "code",
   "execution_count": 83,
   "id": "e8df7879",
   "metadata": {},
   "outputs": [],
   "source": [
    "modelos_a_quitar = car_data.model.value_counts().loc[lambda x : x < 50].index"
   ]
  },
  {
   "cell_type": "code",
   "execution_count": 84,
   "id": "a39b148a",
   "metadata": {},
   "outputs": [
    {
     "name": "stdout",
     "output_type": "stream",
     "text": [
      "La cantidad de datos a borrar serían: 550\n",
      "Esto equivale al 0.18% de los datos\n"
     ]
    }
   ],
   "source": [
    "print(f'La cantidad de datos a borrar serían: {len(car_data.query(\"model in @modelos_a_quitar\"))}')\n",
    "print(f'Esto equivale al {len(car_data.query(\"model in @modelos_a_quitar\"))/len(car_data):.2%} de los datos')"
   ]
  },
  {
   "cell_type": "code",
   "execution_count": 85,
   "id": "0e4abaf2",
   "metadata": {
    "scrolled": true
   },
   "outputs": [],
   "source": [
    "car_data = car_data.query('model not in @modelos_a_quitar')"
   ]
  },
  {
   "cell_type": "code",
   "execution_count": 86,
   "id": "6af11443",
   "metadata": {},
   "outputs": [
    {
     "data": {
      "text/html": [
       "<div>\n",
       "<style scoped>\n",
       "    .dataframe tbody tr th:only-of-type {\n",
       "        vertical-align: middle;\n",
       "    }\n",
       "\n",
       "    .dataframe tbody tr th {\n",
       "        vertical-align: top;\n",
       "    }\n",
       "\n",
       "    .dataframe thead th {\n",
       "        text-align: right;\n",
       "    }\n",
       "</style>\n",
       "<table border=\"1\" class=\"dataframe\">\n",
       "  <thead>\n",
       "    <tr style=\"text-align: right;\">\n",
       "      <th></th>\n",
       "      <th>vehicle_type</th>\n",
       "      <th>registration_year</th>\n",
       "      <th>gearbox</th>\n",
       "      <th>power</th>\n",
       "      <th>model</th>\n",
       "      <th>mileage</th>\n",
       "      <th>fuel_type</th>\n",
       "      <th>brand</th>\n",
       "      <th>not_repaired</th>\n",
       "      <th>price</th>\n",
       "    </tr>\n",
       "  </thead>\n",
       "  <tbody>\n",
       "    <tr>\n",
       "      <th>0</th>\n",
       "      <td>coupe</td>\n",
       "      <td>2011</td>\n",
       "      <td>manual</td>\n",
       "      <td>190</td>\n",
       "      <td>golf</td>\n",
       "      <td>125000</td>\n",
       "      <td>gasoline</td>\n",
       "      <td>audi</td>\n",
       "      <td>yes</td>\n",
       "      <td>18300</td>\n",
       "    </tr>\n",
       "    <tr>\n",
       "      <th>1</th>\n",
       "      <td>suv</td>\n",
       "      <td>2004</td>\n",
       "      <td>auto</td>\n",
       "      <td>163</td>\n",
       "      <td>grand</td>\n",
       "      <td>125000</td>\n",
       "      <td>gasoline</td>\n",
       "      <td>jeep</td>\n",
       "      <td>no</td>\n",
       "      <td>9800</td>\n",
       "    </tr>\n",
       "    <tr>\n",
       "      <th>2</th>\n",
       "      <td>small</td>\n",
       "      <td>2001</td>\n",
       "      <td>manual</td>\n",
       "      <td>75</td>\n",
       "      <td>golf</td>\n",
       "      <td>150000</td>\n",
       "      <td>petrol</td>\n",
       "      <td>volkswagen</td>\n",
       "      <td>no</td>\n",
       "      <td>1500</td>\n",
       "    </tr>\n",
       "    <tr>\n",
       "      <th>3</th>\n",
       "      <td>small</td>\n",
       "      <td>2008</td>\n",
       "      <td>manual</td>\n",
       "      <td>69</td>\n",
       "      <td>fabia</td>\n",
       "      <td>90000</td>\n",
       "      <td>gasoline</td>\n",
       "      <td>skoda</td>\n",
       "      <td>no</td>\n",
       "      <td>3600</td>\n",
       "    </tr>\n",
       "    <tr>\n",
       "      <th>4</th>\n",
       "      <td>sedan</td>\n",
       "      <td>1995</td>\n",
       "      <td>manual</td>\n",
       "      <td>102</td>\n",
       "      <td>3er</td>\n",
       "      <td>150000</td>\n",
       "      <td>petrol</td>\n",
       "      <td>bmw</td>\n",
       "      <td>yes</td>\n",
       "      <td>650</td>\n",
       "    </tr>\n",
       "    <tr>\n",
       "      <th>...</th>\n",
       "      <td>...</td>\n",
       "      <td>...</td>\n",
       "      <td>...</td>\n",
       "      <td>...</td>\n",
       "      <td>...</td>\n",
       "      <td>...</td>\n",
       "      <td>...</td>\n",
       "      <td>...</td>\n",
       "      <td>...</td>\n",
       "      <td>...</td>\n",
       "    </tr>\n",
       "    <tr>\n",
       "      <th>306407</th>\n",
       "      <td>sedan</td>\n",
       "      <td>2016</td>\n",
       "      <td>auto</td>\n",
       "      <td>150</td>\n",
       "      <td>159</td>\n",
       "      <td>150000</td>\n",
       "      <td>petrol</td>\n",
       "      <td>alfa_romeo</td>\n",
       "      <td>no</td>\n",
       "      <td>5250</td>\n",
       "    </tr>\n",
       "    <tr>\n",
       "      <th>306408</th>\n",
       "      <td>sedan</td>\n",
       "      <td>2004</td>\n",
       "      <td>manual</td>\n",
       "      <td>225</td>\n",
       "      <td>leon</td>\n",
       "      <td>150000</td>\n",
       "      <td>petrol</td>\n",
       "      <td>seat</td>\n",
       "      <td>yes</td>\n",
       "      <td>3200</td>\n",
       "    </tr>\n",
       "    <tr>\n",
       "      <th>306409</th>\n",
       "      <td>convertible</td>\n",
       "      <td>2000</td>\n",
       "      <td>auto</td>\n",
       "      <td>101</td>\n",
       "      <td>fortwo</td>\n",
       "      <td>125000</td>\n",
       "      <td>petrol</td>\n",
       "      <td>smart</td>\n",
       "      <td>no</td>\n",
       "      <td>1199</td>\n",
       "    </tr>\n",
       "    <tr>\n",
       "      <th>306410</th>\n",
       "      <td>bus</td>\n",
       "      <td>1996</td>\n",
       "      <td>manual</td>\n",
       "      <td>102</td>\n",
       "      <td>transporter</td>\n",
       "      <td>150000</td>\n",
       "      <td>gasoline</td>\n",
       "      <td>volkswagen</td>\n",
       "      <td>no</td>\n",
       "      <td>9200</td>\n",
       "    </tr>\n",
       "    <tr>\n",
       "      <th>306411</th>\n",
       "      <td>wagon</td>\n",
       "      <td>2002</td>\n",
       "      <td>manual</td>\n",
       "      <td>100</td>\n",
       "      <td>golf</td>\n",
       "      <td>150000</td>\n",
       "      <td>gasoline</td>\n",
       "      <td>volkswagen</td>\n",
       "      <td>no</td>\n",
       "      <td>3400</td>\n",
       "    </tr>\n",
       "  </tbody>\n",
       "</table>\n",
       "<p>306412 rows × 10 columns</p>\n",
       "</div>"
      ],
      "text/plain": [
       "       vehicle_type  registration_year gearbox  power        model  mileage  \\\n",
       "0             coupe               2011  manual    190         golf   125000   \n",
       "1               suv               2004    auto    163        grand   125000   \n",
       "2             small               2001  manual     75         golf   150000   \n",
       "3             small               2008  manual     69        fabia    90000   \n",
       "4             sedan               1995  manual    102          3er   150000   \n",
       "...             ...                ...     ...    ...          ...      ...   \n",
       "306407        sedan               2016    auto    150          159   150000   \n",
       "306408        sedan               2004  manual    225         leon   150000   \n",
       "306409  convertible               2000    auto    101       fortwo   125000   \n",
       "306410          bus               1996  manual    102  transporter   150000   \n",
       "306411        wagon               2002  manual    100         golf   150000   \n",
       "\n",
       "       fuel_type       brand not_repaired  price  \n",
       "0       gasoline        audi          yes  18300  \n",
       "1       gasoline        jeep           no   9800  \n",
       "2         petrol  volkswagen           no   1500  \n",
       "3       gasoline       skoda           no   3600  \n",
       "4         petrol         bmw          yes    650  \n",
       "...          ...         ...          ...    ...  \n",
       "306407    petrol  alfa_romeo           no   5250  \n",
       "306408    petrol        seat          yes   3200  \n",
       "306409    petrol       smart           no   1199  \n",
       "306410  gasoline  volkswagen           no   9200  \n",
       "306411  gasoline  volkswagen           no   3400  \n",
       "\n",
       "[306412 rows x 10 columns]"
      ]
     },
     "execution_count": 86,
     "metadata": {},
     "output_type": "execute_result"
    }
   ],
   "source": [
    "# Reseteamos el index\n",
    "car_data= car_data.reset_index(drop=True)\n",
    "car_data"
   ]
  },
  {
   "cell_type": "markdown",
   "id": "e22515bd",
   "metadata": {},
   "source": [
    "<div class=\"alert alert-block alert-info\">\n",
    "<b>Respuesta del estudiante</b> <a class=\"tocSkip\"></a>\n",
    "    \n",
    "Hola, Carlos, gracias por la revisión. No me queda claro el primer punto. ¿Cómo aplicaría en este caso?. Las variables con valores ausentes que quedaron fueron todas variables categóricas, por lo que apliqué solo el uso de la moda. \n",
    "</div>"
   ]
  },
  {
   "cell_type": "markdown",
   "id": "19652fe4",
   "metadata": {},
   "source": [
    "### Conclusiones"
   ]
  },
  {
   "cell_type": "markdown",
   "id": "eb159048",
   "metadata": {},
   "source": [
    "Se realizó la exploración de datos, donde se determinó que habían ciertos inconvenientes en ellos. Primero se eliminaros características que no deberían influenciar con el precio, como las fechas de registro y el código postal.\n",
    "\n",
    "Hubieron datos inusuales, como en `registration_year` y `power` donde habían valores sin sentido, ya sea un año que no ocurre aun o un valor de potencia no existente. Estas observaciones fueron eliminados. En Price, se eliminaron aquellas observaciones con precio igual a cero. `number_of_pictures` fue una caracteristica eliminada, ya que solo había un dato único en toda la tabla.\n",
    "\n",
    "Luego, se rellenaron los datos ausente, considerando la moda para llenarlos, ya que los ausentes eran de variables categóricas. Finalmente, se redugeron las categorías en `model`. Aquellos modelos con frecuencia menor a 50, fueron eliminados. Esto aligera la cantidad de cateogorías y evita que se entrene con pocos valores de dichas categorías."
   ]
  },
  {
   "cell_type": "markdown",
   "id": "d5f4b3d8",
   "metadata": {},
   "source": [
    "## Entrenamiento del modelo "
   ]
  },
  {
   "cell_type": "markdown",
   "id": "54855362",
   "metadata": {},
   "source": [
    "### Regresión lineal"
   ]
  },
  {
   "cell_type": "markdown",
   "id": "87e543bc",
   "metadata": {},
   "source": [
    "Iniciaremos creando un modelo usando regresión lineal. Separaremos los datos en conjunto de entrenamiento y validación. Ya que trabajamos con datos categóricos, vamos a codificar estas columnas para poder realizar la regresión lineal."
   ]
  },
  {
   "cell_type": "code",
   "execution_count": 91,
   "id": "b9dcd32a",
   "metadata": {
    "code_folding": []
   },
   "outputs": [],
   "source": [
    "# Obtenemos los datos codificados aplicando el One-Hot Encoding \n",
    "data_ohe = pd.get_dummies(car_data)\n",
    "\n",
    "# Separamos los datos en target y features para luego crear los conjuntos de train y valid\n",
    "target_ohe = data_ohe['price']\n",
    "features_ohe = data_ohe.drop('price', axis=1)\n",
    "X_train_ohe, X_valid_ohe, y_train_ohe, y_valid_ohe = train_test_split(\n",
    "    features_ohe, target_ohe, test_size=0.25, random_state=12345\n",
    ")"
   ]
  },
  {
   "cell_type": "code",
   "execution_count": 88,
   "id": "cf10af26",
   "metadata": {
    "scrolled": true
   },
   "outputs": [],
   "source": [
    "# Definiendo el modelo de regresión\n",
    "model_lr = LinearRegression()\n",
    "\n",
    "# Entrenando modelo\n",
    "model_lr.fit(X_train_ohe, y_train_ohe)\n",
    "\n",
    "#Obteniendo la predicción\n",
    "predicted_valid = model_lr.predict(X_valid_ohe)"
   ]
  },
  {
   "cell_type": "code",
   "execution_count": 92,
   "id": "1250b7aa",
   "metadata": {
    "scrolled": true
   },
   "outputs": [
    {
     "data": {
      "text/plain": [
       "2718.358358118654"
      ]
     },
     "execution_count": 92,
     "metadata": {},
     "output_type": "execute_result"
    }
   ],
   "source": [
    "result = mean_squared_error(y_valid_ohe, predicted_valid, squared=False)\n",
    "result"
   ]
  },
  {
   "cell_type": "markdown",
   "id": "ee9a71f1",
   "metadata": {},
   "source": [
    "Considerando que la media da 4700 aproximadamente, es un valor alto de error. Este modelo no sería muy bueno para predecir, pero nos sirve como prueba de cordura para los demás modelos. Si los otros modelos se crearon correctamente, deberían dar un error menor a este."
   ]
  },
  {
   "cell_type": "markdown",
   "id": "3143c45b",
   "metadata": {},
   "source": [
    "### Bosque aleatorio"
   ]
  },
  {
   "cell_type": "markdown",
   "id": "81eda03b",
   "metadata": {},
   "source": [
    "Aplicaremos Ordinal Encoder para tratar los valores categóricos. Así se podrá usar nuestros datos para entrar un modelo de bosque aleatorio para regresión."
   ]
  },
  {
   "cell_type": "code",
   "execution_count": 93,
   "id": "715fcf53",
   "metadata": {},
   "outputs": [],
   "source": [
    "# Definimos las variables categóricas del modelo\n",
    "cat_variables = ['vehicle_type', 'gearbox', 'model', 'fuel_type', 'brand', 'not_repaired']\n",
    "\n",
    "enc = OrdinalEncoder()\n",
    "\n",
    "# Realizamos la transformación de los valores categóricos en numéricos\n",
    "encoded_cat = enc.fit_transform(car_data[cat_variables]) "
   ]
  },
  {
   "cell_type": "code",
   "execution_count": 94,
   "id": "dc4e29a0",
   "metadata": {},
   "outputs": [],
   "source": [
    "# Guardamos la tabla con los datos codificados\n",
    "car_data_oe = car_data.copy()\n",
    "car_data_oe[cat_variables] = pd.DataFrame(data=encoded_cat, columns=cat_variables)"
   ]
  },
  {
   "cell_type": "code",
   "execution_count": 95,
   "id": "fb1495c5",
   "metadata": {
    "scrolled": true
   },
   "outputs": [
    {
     "name": "stdout",
     "output_type": "stream",
     "text": [
      "<class 'pandas.core.frame.DataFrame'>\n",
      "RangeIndex: 306412 entries, 0 to 306411\n",
      "Data columns (total 10 columns):\n",
      " #   Column             Non-Null Count   Dtype  \n",
      "---  ------             --------------   -----  \n",
      " 0   vehicle_type       306412 non-null  float64\n",
      " 1   registration_year  306412 non-null  int64  \n",
      " 2   gearbox            306412 non-null  float64\n",
      " 3   power              306412 non-null  int64  \n",
      " 4   model              306412 non-null  float64\n",
      " 5   mileage            306412 non-null  int64  \n",
      " 6   fuel_type          306412 non-null  float64\n",
      " 7   brand              306412 non-null  float64\n",
      " 8   not_repaired       306412 non-null  float64\n",
      " 9   price              306412 non-null  int64  \n",
      "dtypes: float64(6), int64(4)\n",
      "memory usage: 23.4 MB\n"
     ]
    }
   ],
   "source": [
    "# Verificamos que todos los datos son de tipo númerico\n",
    "car_data_oe.info()"
   ]
  },
  {
   "cell_type": "code",
   "execution_count": 96,
   "id": "f473a0a6",
   "metadata": {},
   "outputs": [],
   "source": [
    "# Separamos los datos en target y features para luego crear los conjuntos de train y valid\n",
    "target_oe = car_data_oe['price']\n",
    "features_oe = car_data_oe.drop('price', axis=1)\n",
    "X_train_oe, X_valid_oe, y_train_oe, y_valid_oe = train_test_split(\n",
    "    features_oe, target_oe, test_size=0.25, random_state=12345\n",
    ")"
   ]
  },
  {
   "cell_type": "code",
   "execution_count": 97,
   "id": "340b9fe1",
   "metadata": {},
   "outputs": [],
   "source": [
    "seed = 333"
   ]
  },
  {
   "cell_type": "code",
   "execution_count": 98,
   "id": "a64552e2",
   "metadata": {},
   "outputs": [],
   "source": [
    "model_rfr_grid = RandomForestRegressor(random_state=seed)\n",
    "params={\"max_depth\": range (12, 22), \"n_estimators\":range(100, 181, 10)}\n",
    "gs_rfr = GridSearchCV(\n",
    "    model_rfr_grid,\n",
    "    param_grid=params,\n",
    "    scoring='neg_root_mean_squared_error',\n",
    "    n_jobs=8\n",
    ")"
   ]
  },
  {
   "cell_type": "code",
   "execution_count": 129,
   "id": "3ca3cb72",
   "metadata": {},
   "outputs": [
    {
     "name": "stdout",
     "output_type": "stream",
     "text": [
      "Wall time: 1h 17min 37s\n"
     ]
    }
   ],
   "source": [
    "%%time\n",
    "grid_result_rfr = gs_rfr.fit(X_train_oe, y_train_oe)"
   ]
  },
  {
   "cell_type": "code",
   "execution_count": 132,
   "id": "e0433eb4",
   "metadata": {
    "scrolled": false
   },
   "outputs": [
    {
     "name": "stdout",
     "output_type": "stream",
     "text": [
      "Mejores parámetros encontrados:  {'max_depth': 19, 'n_estimators': 170}\n",
      "RECM:  1617.0937656940391\n"
     ]
    }
   ],
   "source": [
    "print(\"Mejores parámetros encontrados: \", grid_result_rfr.best_params_)\n",
    "print(\"RECM: \", -grid_result_rfr.best_score_)"
   ]
  },
  {
   "cell_type": "markdown",
   "id": "199d45b4",
   "metadata": {},
   "source": [
    "La búsqueda con grid search tomó más de una hora y media en resolver todas las combinaciones propuestas para los parámetros de max_depth y n_estimators. Vamos a graficar como varia el tiempo de entrenamiento vs la métrica por cada combinación.Se marcará el punto que representa la mejor combinación encontrada."
   ]
  },
  {
   "cell_type": "code",
   "execution_count": 136,
   "id": "7d5d53d2",
   "metadata": {
    "scrolled": true
   },
   "outputs": [],
   "source": [
    "table_results_rfr = pd.DataFrame(data=grid_result_rfr.cv_results_)"
   ]
  },
  {
   "cell_type": "code",
   "execution_count": 359,
   "id": "df33d617",
   "metadata": {
    "scrolled": true
   },
   "outputs": [
    {
     "name": "stdout",
     "output_type": "stream",
     "text": [
      "El mejor RECM: 1617.094\n",
      "El entrenamiento tomó 103.073 segundos\n"
     ]
    }
   ],
   "source": [
    "best_result_from_table = table_results_rfr.query(\n",
    "    'param_n_estimators == 170 and param_max_depth == 19')\n",
    "train_time = round(float(best_result_from_table['mean_fit_time']), 3)\n",
    "best_score = round(float(-grid_result_rfr.best_score_), 3)\n",
    "print(f'El mejor RECM: {best_score}')\n",
    "print(f'El entrenamiento tomó {train_time} segundos')"
   ]
  },
  {
   "cell_type": "code",
   "execution_count": 210,
   "id": "b8b1ffed",
   "metadata": {
    "scrolled": false
   },
   "outputs": [
    {
     "data": {
      "text/plain": [
       "[]"
      ]
     },
     "execution_count": 210,
     "metadata": {},
     "output_type": "execute_result"
    },
    {
     "data": {
      "image/png": "[encoded data removed]",
      "text/plain": [
       "<Figure size 981.75x432 with 1 Axes>"
      ]
     },
     "metadata": {
      "needs_background": "light"
     },
     "output_type": "display_data"
    }
   ],
   "source": [
    "sns.relplot(data=table_results_rfr, x='mean_fit_time', y='mean_test_score',\n",
    "            hue='param_n_estimators', style=\"param_max_depth\",\n",
    "            height = 6, aspect = 2, s=70)\n",
    "plt.scatter(x=train_time , y=best_score, s=90, facecolors='none', edgecolors='r')\n",
    "plt.text(train_time*1.01, best_score*1.01, \"Mejor\\nmétrica\", horizontalalignment='left', size='medium', color='r', weight='semibold')\n",
    "plt.plot()"
   ]
  },
  {
   "cell_type": "markdown",
   "id": "59ab8b24",
   "metadata": {},
   "source": [
    "Pareciera que los valores llegan a un tope en la métrica alrededor de 1620. Vamos a mostrar solo los datos donde max_depth sea mayor o igual a 15."
   ]
  },
  {
   "cell_type": "code",
   "execution_count": 214,
   "id": "4462f037",
   "metadata": {
    "scrolled": true
   },
   "outputs": [
    {
     "data": {
      "image/png": "[encoded data removed]",
      "text/plain": [
       "<Figure size 829.75x360 with 1 Axes>"
      ]
     },
     "metadata": {
      "needs_background": "light"
     },
     "output_type": "display_data"
    }
   ],
   "source": [
    "g = sns.FacetGrid(table_results_rfr.query('param_max_depth>15'), hue=\"param_n_estimators\", height = 5, aspect = 2, )\n",
    "g.map(plt.scatter, \"mean_fit_time\", \"mean_test_score\")\n",
    "g.map(plt.plot, \"mean_fit_time\", \"mean_test_score\")\n",
    "g.add_legend()\n",
    "plt.grid()\n",
    "plt.show()"
   ]
  },
  {
   "cell_type": "markdown",
   "id": "21830245",
   "metadata": {},
   "source": [
    "Los valores del score mejoran al aumentar el max_depth, pero parece que llegan a un punto donde se estabiliza y no mejora el error cuadrático medio aunque se siga aumentando el max_depth. A partir de este punto, aumentar el n_estimators sigue mejorando la métrica, sin embargo, el aumento de n_estimators afecta el tiempo de entrenamiento."
   ]
  },
  {
   "cell_type": "code",
   "execution_count": 213,
   "id": "ef545749",
   "metadata": {
    "scrolled": true
   },
   "outputs": [
    {
     "data": {
      "image/png": "[encoded data removed]",
      "text/plain": [
       "<Figure size 820.875x360 with 1 Axes>"
      ]
     },
     "metadata": {
      "needs_background": "light"
     },
     "output_type": "display_data"
    }
   ],
   "source": [
    "g = sns.FacetGrid(table_results_rfr.query('param_max_depth>15'), hue=\"param_max_depth\", height = 5, aspect = 2, )\n",
    "g.map(plt.scatter, \"mean_fit_time\", \"mean_test_score\")\n",
    "g.map(plt.plot, \"mean_fit_time\", \"mean_test_score\")\n",
    "g.add_legend()\n",
    "plt.text(train_time_by_time*0.95, best_score_by_time, \"Por\\ntiempo\", horizontalalignment='left', size='medium', color='r', weight='semibold')\n",
    "plt.text(train_time, best_score*0.9998, \"Mejor\\nmétrica\", horizontalalignment='left', size='medium', color='r', weight='semibold')\n",
    "plt.grid()\n",
    "plt.show()"
   ]
  },
  {
   "cell_type": "markdown",
   "id": "159fc315",
   "metadata": {},
   "source": [
    "Misma gráfica, solo se consideró unir los puntos del mismo max_depth. Consideremos la linea de max_depth = 16. Con n=100, el score es 1612 y para n=190, el score es 1608, aproximadamente. El tiempo de entrenamiento casi se duplica entre estos dos modelos. Este patrón es similar para los demás max_depth. 4 euros de error quizás no justifique duplicar los tiempos de entrenamiento.\n",
    "\n",
    "Entre las profundidades máximas de 18 a 20, no hay mayor variación de sus scores. El max_depth de 18 ofrece la mejor métrica por el menor tiempo. Se usará un modelo cuyos parámetros sean max_depth=18 y n_estimators=100 y también se guardará el modelo que dió la mejor métrica. Luego se comparán en base al resultado con el conjunto de validación."
   ]
  },
  {
   "cell_type": "code",
   "execution_count": 356,
   "id": "34904530",
   "metadata": {
    "scrolled": false
   },
   "outputs": [
    {
     "name": "stdout",
     "output_type": "stream",
     "text": [
      "El mejor RECM considerando el tiempo: 1620.319\n",
      "El entrenamiento tomó 59.201 segundos en promedio\n"
     ]
    }
   ],
   "source": [
    "# obteniendo el tiempo y score del entrenamiento para max_depth=18 y n_estimators=100\n",
    "best_result_by_time = table_results_rfr.query(\n",
    "    'param_n_estimators == 100 and param_max_depth == 18')\n",
    "train_time_by_time_rfr = round(float(best_result_by_time['mean_fit_time']),3)\n",
    "best_score_by_time_rfr = -round(float(best_result_by_time['mean_test_score']),3)\n",
    "print(f'El mejor RECM considerando el tiempo: {best_score_by_time_rfr}')\n",
    "print(f'El entrenamiento tomó {train_time_by_time_rfr} segundos en promedio')"
   ]
  },
  {
   "cell_type": "markdown",
   "id": "3951c9b4",
   "metadata": {},
   "source": [
    "Tenemos los tiempos de entrenamiento y el RECM para estos dos modelos, vamos a determinar el tiempo de predicción."
   ]
  },
  {
   "cell_type": "markdown",
   "id": "867f097f",
   "metadata": {},
   "source": [
    "#### Predicción"
   ]
  },
  {
   "cell_type": "markdown",
   "id": "2de219a0",
   "metadata": {},
   "source": [
    "Considerando el mejor score, tenemos ya el modelo entrenado, solo queda aplicar el predict a los datos de validación. Primero, se calculará cuánto demora en promedio hacer la predicción."
   ]
  },
  {
   "cell_type": "code",
   "execution_count": 337,
   "id": "5c3e0924",
   "metadata": {},
   "outputs": [
    {
     "name": "stdout",
     "output_type": "stream",
     "text": [
      "The slowest run took 80.46 times longer than the fastest. This could mean that an intermediate result is being cached.\n",
      "1min 14s ± 1min 41s per loop (mean ± std. dev. of 3 runs, 5 loops each)\n"
     ]
    },
    {
     "data": {
      "text/plain": [
       "74.6411129666667"
      ]
     },
     "execution_count": 337,
     "metadata": {},
     "output_type": "execute_result"
    }
   ],
   "source": [
    "predict_time_by_best_score_rfr = %timeit -n5 -r3 -o gs_rfr.predict(X_valid_oe)\n",
    "predict_time_by_best_score_rfr.average"
   ]
  },
  {
   "cell_type": "markdown",
   "id": "1f7def13",
   "metadata": {},
   "source": [
    "Conociendo el tiempo, continuamos obteniendo la predicción para calcular el error en el conjunto de validación."
   ]
  },
  {
   "cell_type": "code",
   "execution_count": 247,
   "id": "9c0bf239",
   "metadata": {
    "scrolled": false
   },
   "outputs": [
    {
     "data": {
      "text/plain": [
       "1600.6292720509025"
      ]
     },
     "execution_count": 247,
     "metadata": {},
     "output_type": "execute_result"
    }
   ],
   "source": [
    "pred_rf_best_score = gs_rfr.predict(X_valid_oe)\n",
    "metric_rfr_by_best_score = mean_squared_error(y_valid_oe, pred_rf_best_score, squared=False)\n",
    "metric_rfr_by_best_score"
   ]
  },
  {
   "cell_type": "markdown",
   "id": "1fb74e25",
   "metadata": {},
   "source": [
    "Comparado con el RECM del entrenamiento, se obtuvo un resultado similar en la validación, podría ser un modelo válido para comparar luego con los demás tipos de modelos.\n",
    "\n",
    "Ahora, se considerará el modelo que toma en cuenta un menor tiempo."
   ]
  },
  {
   "cell_type": "code",
   "execution_count": 248,
   "id": "e363af1e",
   "metadata": {
    "scrolled": false
   },
   "outputs": [
    {
     "data": {
      "text/plain": [
       "RandomForestRegressor(max_depth=18, random_state=333)"
      ]
     },
     "execution_count": 248,
     "metadata": {},
     "output_type": "execute_result"
    }
   ],
   "source": [
    "params_best_by_time = {'max_depth': 18, 'n_estimators': 100}\n",
    "# Guardando el modelo con max_depth=18 y n_estimators=100\n",
    "model_rf_best_by_time = RandomForestRegressor(random_state=seed, **params_best_by_time)\n",
    "model_rf_best_by_time.fit(X_train_oe, y_train_oe)"
   ]
  },
  {
   "cell_type": "code",
   "execution_count": 257,
   "id": "7eb18187",
   "metadata": {},
   "outputs": [
    {
     "name": "stdout",
     "output_type": "stream",
     "text": [
      "1.51 s ± 12.2 ms per loop (mean ± std. dev. of 3 runs, 5 loops each)\n"
     ]
    },
    {
     "data": {
      "text/plain": [
       "1.512792100000661"
      ]
     },
     "execution_count": 257,
     "metadata": {},
     "output_type": "execute_result"
    }
   ],
   "source": [
    "predict_time_by_best_time_rfr = %timeit -n5 -r3 -o model_rf_best_by_time.predict(X_valid_oe)\n",
    "predict_time_by_best_time_rfr.average"
   ]
  },
  {
   "cell_type": "code",
   "execution_count": 250,
   "id": "c20ed15e",
   "metadata": {},
   "outputs": [
    {
     "data": {
      "text/plain": [
       "1603.195679882163"
      ]
     },
     "execution_count": 250,
     "metadata": {},
     "output_type": "execute_result"
    }
   ],
   "source": [
    "pred_rf_best_time = model_rf_best_by_time.predict(X_valid_oe)\n",
    "metric_rfr_by_time = mean_squared_error(y_valid_oe, pred_rf_best_time, squared=False)\n",
    "metric_rfr_by_time"
   ]
  },
  {
   "cell_type": "markdown",
   "id": "54d28845",
   "metadata": {},
   "source": [
    "En el entrenamiento se obtuvo 1620 como RECM. Podría ser un modelo también válido. Tiene un error mayor por 3 euros pero no es significativo. Dado que este último modelo brinda casi mitad de tiempo de entrenamiento y predicción, se obtará por usar este último para comparar los resultados con los demás modelos acontinuación."
   ]
  },
  {
   "cell_type": "markdown",
   "id": "6431dd68",
   "metadata": {},
   "source": [
    "### LightGBM "
   ]
  },
  {
   "cell_type": "markdown",
   "id": "9f953b92",
   "metadata": {},
   "source": [
    "Ahora usaremos un modelo de gradient boosting. LightGBM maneja por su cuenta los valores categóricos por lo que no hay de usar los datos codificados. Solo hay que asegurar que las columnas que son categóricas, sean de tipo category para que los reconozca el algoritmo."
   ]
  },
  {
   "cell_type": "code",
   "execution_count": 108,
   "id": "db0f039f",
   "metadata": {},
   "outputs": [],
   "source": [
    "for c in cat_variables:\n",
    "    car_data[c] = car_data[c].astype('category')\n",
    "\n",
    "# Separamos los datos en target y features para luego crear los conjuntos de train y valid\n",
    "target = car_data['price']\n",
    "features = car_data.drop('price', axis=1)\n",
    "X_train, X_valid, y_train, y_valid = train_test_split(\n",
    "    features, target, test_size=0.25, random_state=12345\n",
    ")"
   ]
  },
  {
   "cell_type": "markdown",
   "id": "d590f8f5",
   "metadata": {},
   "source": [
    "Ahora aplicaremos un grid search para encontrar los parámetros que nos de la mejor raiz del error cuadrático medio."
   ]
  },
  {
   "cell_type": "code",
   "execution_count": 116,
   "id": "f420fe29",
   "metadata": {},
   "outputs": [],
   "source": [
    "model_lGBM = lgb.LGBMRegressor(random_state=seed)\n",
    "params_lGBM={\"learning_rate\": [0.001, 0.01, 0.1, 1],\n",
    "             \"max_depth\": range(5, 21),\n",
    "             \"n_estimators\": range(100,151,10)\n",
    "             } \n",
    "gs_lGBM = GridSearchCV(\n",
    "    model_lGBM,\n",
    "    param_grid=params_lGBM,\n",
    "    scoring='neg_root_mean_squared_error',\n",
    "    n_jobs=6\n",
    ")"
   ]
  },
  {
   "cell_type": "code",
   "execution_count": 117,
   "id": "aaf9a47c",
   "metadata": {},
   "outputs": [
    {
     "name": "stdout",
     "output_type": "stream",
     "text": [
      "Wall time: 1min 55s\n"
     ]
    }
   ],
   "source": [
    "%%time\n",
    "grid_result_lGBM = gs_lGBM.fit(X_train, y_train)"
   ]
  },
  {
   "cell_type": "code",
   "execution_count": 123,
   "id": "6fcce4df",
   "metadata": {
    "scrolled": false
   },
   "outputs": [
    {
     "name": "stdout",
     "output_type": "stream",
     "text": [
      "Mejores parámetros encontrados con LightGBM:  {'learning_rate': 0.1, 'max_depth': 15}\n",
      "RECM:  1659.431677942072\n"
     ]
    }
   ],
   "source": [
    "print(\"Mejores parámetros encontrados con LightGBM: \", grid_result_lGBM.best_params_)\n",
    "print(\"RECM: \", -grid_result_lGBM.best_score_)"
   ]
  },
  {
   "cell_type": "markdown",
   "id": "58e58a0b",
   "metadata": {},
   "source": [
    "Vamos a revisar como se ve la relación de la métrica y tiempo para cada combinación. Revisaremos solo una parte de la tabla, aquellos con learning rate mayor a 0.06"
   ]
  },
  {
   "cell_type": "code",
   "execution_count": 252,
   "id": "b88dae8b",
   "metadata": {
    "scrolled": true
   },
   "outputs": [],
   "source": [
    "tabla_resultados_lGBM = pd.DataFrame(data=grid_result_lGBM.cv_results_)"
   ]
  },
  {
   "cell_type": "code",
   "execution_count": 353,
   "id": "b27c8ed5",
   "metadata": {},
   "outputs": [
    {
     "name": "stdout",
     "output_type": "stream",
     "text": [
      "El mejor RECM: -1659.432\n",
      "El entrenamiento tomó 2.009 segundos\n"
     ]
    }
   ],
   "source": [
    "best_result_from_table = tabla_resultados_lGBM.query(\n",
    "    'param_learning_rate == 0.1 and param_max_depth == 15')\n",
    "train_time_lGBM= round(float(best_result_from_table['mean_fit_time']),3)\n",
    "train_score_lGBM = round(float(grid_result_lGBM.best_score_),3)\n",
    "print(f'El mejor RECM: {train_score_lGBM}')\n",
    "print(f'El entrenamiento tomó {train_time_lGBM} segundos')"
   ]
  },
  {
   "cell_type": "code",
   "execution_count": 254,
   "id": "0e36a469",
   "metadata": {
    "scrolled": true
   },
   "outputs": [
    {
     "data": {
      "text/plain": [
       "[]"
      ]
     },
     "execution_count": 254,
     "metadata": {},
     "output_type": "execute_result"
    },
    {
     "data": {
      "image/png": "[encoded data removed]",
      "text/plain": [
       "<Figure size 983.625x432 with 1 Axes>"
      ]
     },
     "metadata": {
      "needs_background": "light"
     },
     "output_type": "display_data"
    }
   ],
   "source": [
    "sns.relplot(data=tabla_resultados_lGBM, x='mean_fit_time', y='mean_test_score',\n",
    "            hue='param_max_depth', style=\"param_learning_rate\",\n",
    "            height = 6, aspect = 2, s=80)\n",
    "plt.scatter(x=train_time , y=best_score, s=120, facecolors='none', edgecolors='r', linewidth=2)\n",
    "plt.text(train_time*1.01, best_score*1, \"Mejor \\n métrica\", horizontalalignment='left', size='medium', color='r', weight='semibold')\n",
    "plt.plot()"
   ]
  },
  {
   "cell_type": "markdown",
   "id": "3e785f27",
   "metadata": {},
   "source": [
    "Los valores parecen llegar a un máximo de score alrededor de 1660. Aunque se podría considerar otro punto que tenga similar métrica por menor tiempo, el tiempo que se ganaría sería de menos de un segundo. No se considerará otro segundo modelo. Se analizarán los resultados solo con el modelo que dió la mejor puntuación."
   ]
  },
  {
   "cell_type": "markdown",
   "id": "6464a44f",
   "metadata": {},
   "source": [
    "#### Predicción"
   ]
  },
  {
   "cell_type": "code",
   "execution_count": 327,
   "id": "9a901241",
   "metadata": {},
   "outputs": [
    {
     "name": "stdout",
     "output_type": "stream",
     "text": [
      "97.4 ms ± 3.52 ms per loop (mean ± std. dev. of 3 runs, 5 loops each)\n"
     ]
    },
    {
     "data": {
      "text/plain": [
       "0.09743395333255951"
      ]
     },
     "execution_count": 327,
     "metadata": {},
     "output_type": "execute_result"
    }
   ],
   "source": [
    "predict_time_lGBM = %timeit -n5 -r3 -o gs_lGBM.predict(X_valid)\n",
    "predict_time_lGBM.average"
   ]
  },
  {
   "cell_type": "code",
   "execution_count": 323,
   "id": "8482484b",
   "metadata": {
    "scrolled": false
   },
   "outputs": [
    {
     "data": {
      "text/plain": [
       "1643.9921642996517"
      ]
     },
     "execution_count": 323,
     "metadata": {},
     "output_type": "execute_result"
    }
   ],
   "source": [
    "pred_lGBM_best_score = gs_lGBM.predict(X_valid)\n",
    "metric_lGBM = mean_squared_error(y_valid, pred_lGBM_best_score, squared=False)\n",
    "metric_lGBM"
   ]
  },
  {
   "cell_type": "markdown",
   "id": "d1b6b1bc",
   "metadata": {},
   "source": [
    "Al validar el modelo, se obtuvo un RECM de 1644 euros. Comparado con la métrica obtenida en el entrenamiento, 1659, hay poca diferencia. Tomaremos este modelo para comparar con los demás."
   ]
  },
  {
   "cell_type": "markdown",
   "id": "6f645c8e",
   "metadata": {},
   "source": [
    "### CatBoost"
   ]
  },
  {
   "cell_type": "markdown",
   "id": "e2ae4398",
   "metadata": {},
   "source": [
    "Similar a LightGBM, no es necesario codificar los datos. Vamos a buscar la combinación de parámetros que nos de el mejor RECM. "
   ]
  },
  {
   "cell_type": "code",
   "execution_count": 284,
   "id": "cb8e757d",
   "metadata": {},
   "outputs": [],
   "source": [
    "model_cB_grid = CatBoostRegressor(loss_function=\"RMSE\", random_seed=seed, iterations=100, cat_features=cat_variables, logging_level='Silent') \n",
    "params_cB={\"learning_rate\": [0.001, 0.01, 0.1, 1],\n",
    "             \"max_depth\": range(5, 16)\n",
    "        } \n",
    "gs_cB = GridSearchCV(\n",
    "    model_cB_grid,\n",
    "    param_grid=params_cB,\n",
    "    scoring='neg_root_mean_squared_error',\n",
    "    n_jobs=6\n",
    ")"
   ]
  },
  {
   "cell_type": "code",
   "execution_count": 285,
   "id": "46e76247",
   "metadata": {},
   "outputs": [
    {
     "name": "stdout",
     "output_type": "stream",
     "text": [
      "Wall time: 21min 47s\n"
     ]
    }
   ],
   "source": [
    "%%time\n",
    "grid_result_cB = gs_cB.fit(X_train, y_train)"
   ]
  },
  {
   "cell_type": "code",
   "execution_count": 286,
   "id": "fcc6a387",
   "metadata": {
    "scrolled": false
   },
   "outputs": [
    {
     "name": "stdout",
     "output_type": "stream",
     "text": [
      "Mejores parámetros encontrados para CatBoost:  {'learning_rate': 0.1, 'max_depth': 15}\n",
      "RECM:  1639.9340260368695\n"
     ]
    }
   ],
   "source": [
    "print(\"Mejores parámetros encontrados para CatBoost: \", grid_result_cB.best_params_)\n",
    "print(\"RECM: \", -grid_result_cB.best_score_)"
   ]
  },
  {
   "cell_type": "code",
   "execution_count": 300,
   "id": "4aab94b9",
   "metadata": {},
   "outputs": [],
   "source": [
    "table_results_cB = pd.DataFrame(data=grid_result_cB.cv_results_)"
   ]
  },
  {
   "cell_type": "code",
   "execution_count": 360,
   "id": "03b333cf",
   "metadata": {},
   "outputs": [
    {
     "name": "stdout",
     "output_type": "stream",
     "text": [
      "El mejor RECM: -1639.934\n",
      "El entrenamiento tomó 111.273 segundos en promedio\n"
     ]
    }
   ],
   "source": [
    "best_result_from_table = table_results_cB.query(\n",
    "    'param_learning_rate == 0.1 and param_max_depth == 15')\n",
    "train_time_cB= round(float(best_result_from_table['mean_fit_time']), 3)\n",
    "train_score_cB = round(float(grid_result_cB.best_score_), 3)\n",
    "print(f'El mejor RECM: {train_score_cB}')\n",
    "print(f'El entrenamiento tomó {train_time_cB} segundos en promedio')"
   ]
  },
  {
   "cell_type": "code",
   "execution_count": 302,
   "id": "c6b7edf8",
   "metadata": {},
   "outputs": [
    {
     "data": {
      "text/plain": [
       "[]"
      ]
     },
     "execution_count": 302,
     "metadata": {},
     "output_type": "execute_result"
    },
    {
     "data": {
      "image/png": "[encoded data removed]",
      "text/plain": [
       "<Figure size 983.625x432 with 1 Axes>"
      ]
     },
     "metadata": {
      "needs_background": "light"
     },
     "output_type": "display_data"
    }
   ],
   "source": [
    "sns.relplot(data=table_results_cB, x='mean_fit_time', y='mean_test_score',\n",
    "            hue='param_max_depth', style=\"param_learning_rate\",\n",
    "            height = 6, aspect = 2, s=80)\n",
    "plt.scatter(x=train_time_cB , y=train_score_cB, s=120, facecolors='none', edgecolors='r', linewidth=2)\n",
    "plt.text(train_time_cB*1.01, train_score_cB*1, \"Mejor \\n métrica\", horizontalalignment='left', size='medium', color='r', weight='semibold')\n",
    "plt.plot()"
   ]
  },
  {
   "cell_type": "markdown",
   "id": "94f2d606",
   "metadata": {},
   "source": [
    "Los mejores resultado se obtuvieron con una tasa de aprendizaje de 0.1. Ocurre algo similar a lo que ocurría con el modelo de bosque aleatorio, donde la mejor metríca quizás no sea la mejor opción. Vamos a revisar la gráfica de mean_test_score vs mean_fit_time de nuevo, pero solo considerando los resultados de learning rate igual a 0.1."
   ]
  },
  {
   "cell_type": "code",
   "execution_count": 303,
   "id": "2fd4d350",
   "metadata": {},
   "outputs": [
    {
     "data": {
      "text/plain": [
       "[]"
      ]
     },
     "execution_count": 303,
     "metadata": {},
     "output_type": "execute_result"
    },
    {
     "data": {
      "image/png": "[encoded data removed]",
      "text/plain": [
       "<Figure size 983.625x432 with 1 Axes>"
      ]
     },
     "metadata": {
      "needs_background": "light"
     },
     "output_type": "display_data"
    }
   ],
   "source": [
    "sns.relplot(data=table_results_cB.query('param_learning_rate == 0.1'), x='mean_fit_time', y='mean_test_score',\n",
    "            hue='param_max_depth', style=\"param_learning_rate\",\n",
    "            height = 6, aspect = 2, s=80)\n",
    "plt.plot()"
   ]
  },
  {
   "cell_type": "markdown",
   "id": "5af53ef5",
   "metadata": {},
   "source": [
    "Para un max_depth de 14 se obtiene la mejor puntuación pero con un max_depth de 12 se obtendría algo similar, por más de la mitad del tiempo. Vamos a obtener los valores relaciones a este punto."
   ]
  },
  {
   "cell_type": "code",
   "execution_count": 304,
   "id": "eb5340b2",
   "metadata": {
    "scrolled": false
   },
   "outputs": [
    {
     "name": "stdout",
     "output_type": "stream",
     "text": [
      "El mejor RECM considerando el tiempo: -1673\n",
      "El entrenamiento tomó 31 segundos en promedio\n"
     ]
    }
   ],
   "source": [
    "# obteniendo el tiempo y score del entrenamiento para max_depth=18 y n_estimators=100\n",
    "best_result_by_time_cB = table_results_cB.query(\n",
    "    'param_learning_rate == 0.1 and param_max_depth == 12')\n",
    "train_time_by_time_cB = int(best_result_by_time_cB['mean_fit_time'])\n",
    "best_score_by_time_cB = int(best_result_by_time_cB['mean_test_score'])\n",
    "print(f'El mejor RECM considerando el tiempo: {best_score_by_time_cB}')\n",
    "print(f'El entrenamiento tomó {train_time_by_time_cB} segundos en promedio')"
   ]
  },
  {
   "cell_type": "markdown",
   "id": "e993b3f4",
   "metadata": {},
   "source": [
    "#### Predicción"
   ]
  },
  {
   "cell_type": "markdown",
   "id": "685832f4",
   "metadata": {},
   "source": [
    "Obtenemos el tiempo que demora la predicción y el RECM para el modelo con la mejor métrica."
   ]
  },
  {
   "cell_type": "code",
   "execution_count": 320,
   "id": "c7075ecc",
   "metadata": {},
   "outputs": [
    {
     "name": "stdout",
     "output_type": "stream",
     "text": [
      "54.3 ms ± 1.6 ms per loop (mean ± std. dev. of 3 runs, 5 loops each)\n"
     ]
    },
    {
     "data": {
      "text/plain": [
       "0.05428609999944456"
      ]
     },
     "execution_count": 320,
     "metadata": {},
     "output_type": "execute_result"
    }
   ],
   "source": [
    "predict_time_by_best_score_cB = %timeit -n5 -r3 -o gs_cB.predict(X_valid)\n",
    "predict_time_by_best_score_cB.average"
   ]
  },
  {
   "cell_type": "code",
   "execution_count": 315,
   "id": "fb7b06ec",
   "metadata": {},
   "outputs": [
    {
     "data": {
      "text/plain": [
       "1639.074743000049"
      ]
     },
     "execution_count": 315,
     "metadata": {},
     "output_type": "execute_result"
    }
   ],
   "source": [
    "pred_cB_best_score = gs_cB.predict(X_valid)\n",
    "metric_cB_by_best_score = mean_squared_error(y_valid, pred_cB_best_score, squared=False)\n",
    "metric_cB_by_best_score"
   ]
  },
  {
   "cell_type": "markdown",
   "id": "53d4bde1",
   "metadata": {},
   "source": [
    "Prácticamente son iguales los valores de errores entre el conjunto de entrenamiento y de validación. Verificamos ahora con el modelo que considera un mejor tiempo de entrenamiento."
   ]
  },
  {
   "cell_type": "code",
   "execution_count": null,
   "id": "17d5a3e4",
   "metadata": {
    "code_folding": []
   },
   "outputs": [],
   "source": [
    "# Guardando el modelo con max_depth=18 y n_estimators=100\n",
    "model_rf_best_by_time = RandomForestRegressor(random_state=seed, **params_best_by_time)\n",
    "model_rf_best_by_time.fit(X_train_oe, y_train_oe)"
   ]
  },
  {
   "cell_type": "code",
   "execution_count": 308,
   "id": "458a423a",
   "metadata": {
    "scrolled": true
   },
   "outputs": [
    {
     "data": {
      "text/plain": [
       "<catboost.core.CatBoostRegressor at 0x2b610bbd580>"
      ]
     },
     "execution_count": 308,
     "metadata": {},
     "output_type": "execute_result"
    }
   ],
   "source": [
    "params_best_by_time = {'learning_rate': 0.1, 'max_depth': 12}\n",
    "model_cB_grid_by_time = CatBoostRegressor(loss_function=\"RMSE\", random_seed=seed, iterations=100, cat_features=cat_variables, logging_level='Silent', **params_best_by_time) \n",
    "model_cB_grid_by_time.fit(X_train, y_train)"
   ]
  },
  {
   "cell_type": "code",
   "execution_count": 321,
   "id": "738c8388",
   "metadata": {
    "scrolled": true
   },
   "outputs": [
    {
     "name": "stdout",
     "output_type": "stream",
     "text": [
      "50.9 ms ± 1.02 ms per loop (mean ± std. dev. of 3 runs, 5 loops each)\n"
     ]
    },
    {
     "data": {
      "text/plain": [
       "0.05086402000063875"
      ]
     },
     "execution_count": 321,
     "metadata": {},
     "output_type": "execute_result"
    }
   ],
   "source": [
    "predict_time_by_best_time_cB = %timeit -n5 -r3 -o model_cB_grid_by_time.predict(X_valid)\n",
    "predict_time_by_best_time_cB.average"
   ]
  },
  {
   "cell_type": "code",
   "execution_count": 318,
   "id": "51ef91dc",
   "metadata": {},
   "outputs": [
    {
     "data": {
      "text/plain": [
       "1667.5965956936295"
      ]
     },
     "execution_count": 318,
     "metadata": {},
     "output_type": "execute_result"
    }
   ],
   "source": [
    "pred_cB_best_time = model_cB_grid_by_time.predict(X_valid)\n",
    "metric_cB_by_best_time = mean_squared_error(y_valid, pred_cB_best_time, squared=False)\n",
    "metric_cB_by_best_time"
   ]
  },
  {
   "cell_type": "markdown",
   "id": "e17bc1dd",
   "metadata": {},
   "source": [
    "Los RECM son similares entre los datos de entrenamiento y validación, el ajuste parece adecuado. Comparándolo con el modelo que considera la mejor métrica, tiene mayor error este modelo, con una diferencia de precio de poco menos de 30 euros.\n",
    "\n",
    "Los tiempos de entrenamiento son distintos, le toma 111 segundos en promedio entrenar el primer modelo pero este último tomó 31 segundos. Los tiempos de predicción son bajos en ambos y muy similares. Dado que el modelo es para que la app pueda valorar un coche que quiera vender un usuario, el entrenamiento no se daría tan frecuente como lo sería las predicciones. Debería pesar más el tiempo de predicción. Se tomará el modelo que nos dió menor error de RECM, es decir, el modelo de los parámetros encontrados por el GridSearchCV."
   ]
  },
  {
   "cell_type": "markdown",
   "id": "4695a5a4",
   "metadata": {},
   "source": [
    "<div class=\"alert alert-block alert-success\">\n",
    "<b>Comentario del revisor</b> <a class=\"tocSkip\"></a>\n",
    "    \n",
    "Muy buen trabajo en esta sección.\n",
    "</div>"
   ]
  },
  {
   "cell_type": "markdown",
   "id": "2308c65c",
   "metadata": {},
   "source": [
    "## Análisis del modelo"
   ]
  },
  {
   "cell_type": "markdown",
   "id": "187ceb8b",
   "metadata": {},
   "source": [
    "Ahora compararemos los resultados de los modelos de bosque aleatorio, LightGBM y CatBoost."
   ]
  },
  {
   "cell_type": "code",
   "execution_count": 361,
   "id": "a63f0cab",
   "metadata": {},
   "outputs": [],
   "source": [
    "resumen_modelos = {\n",
    "    'Tiempo De Entrenamiento [s]':[train_time_by_time_rfr, train_time_lGBM, train_time_cB],\n",
    "    'Tiempo De Predicción [s]': [predict_time_by_best_time_rfr.average, predict_time_lGBM.average, predict_time_by_best_score_cB.average],\n",
    "    'RECM [€]' :[best_score_by_time_rfr, metric_lGBM, metric_cB_by_best_score]}\n",
    "index = ['Bosque Aleatorio', 'LightGBM', 'CatBoost']"
   ]
  },
  {
   "cell_type": "code",
   "execution_count": 362,
   "id": "fb12c4fe",
   "metadata": {
    "scrolled": true
   },
   "outputs": [
    {
     "data": {
      "text/html": [
       "<div>\n",
       "<style scoped>\n",
       "    .dataframe tbody tr th:only-of-type {\n",
       "        vertical-align: middle;\n",
       "    }\n",
       "\n",
       "    .dataframe tbody tr th {\n",
       "        vertical-align: top;\n",
       "    }\n",
       "\n",
       "    .dataframe thead th {\n",
       "        text-align: right;\n",
       "    }\n",
       "</style>\n",
       "<table border=\"1\" class=\"dataframe\">\n",
       "  <thead>\n",
       "    <tr style=\"text-align: right;\">\n",
       "      <th></th>\n",
       "      <th>Tiempo De Entrenamiento [s]</th>\n",
       "      <th>Tiempo De Predicción [s]</th>\n",
       "      <th>RECM [€]</th>\n",
       "    </tr>\n",
       "  </thead>\n",
       "  <tbody>\n",
       "    <tr>\n",
       "      <th>Bosque Aleatorio</th>\n",
       "      <td>59.201</td>\n",
       "      <td>1.512792</td>\n",
       "      <td>1620.319000</td>\n",
       "    </tr>\n",
       "    <tr>\n",
       "      <th>LightGBM</th>\n",
       "      <td>2.009</td>\n",
       "      <td>0.097434</td>\n",
       "      <td>1643.992164</td>\n",
       "    </tr>\n",
       "    <tr>\n",
       "      <th>CatBoost</th>\n",
       "      <td>111.273</td>\n",
       "      <td>0.054286</td>\n",
       "      <td>1639.074743</td>\n",
       "    </tr>\n",
       "  </tbody>\n",
       "</table>\n",
       "</div>"
      ],
      "text/plain": [
       "                  Tiempo De Entrenamiento [s]  Tiempo De Predicción [s]  \\\n",
       "Bosque Aleatorio                       59.201                  1.512792   \n",
       "LightGBM                                2.009                  0.097434   \n",
       "CatBoost                              111.273                  0.054286   \n",
       "\n",
       "                     RECM [€]  \n",
       "Bosque Aleatorio  1620.319000  \n",
       "LightGBM          1643.992164  \n",
       "CatBoost          1639.074743  "
      ]
     },
     "execution_count": 362,
     "metadata": {},
     "output_type": "execute_result"
    }
   ],
   "source": [
    "pd.DataFrame(data=resumen_modelos, index=index)"
   ]
  },
  {
   "cell_type": "markdown",
   "id": "083e6a37",
   "metadata": {},
   "source": [
    "El modelo de regresión lineal resultó en una RECM de 2718. Todos nuestros modelos finales pasan la prueba de cordura, al tener menor error.\n",
    "\n",
    "Entre los 3, la mejor métrica se encuentra con bosque aleatorio. Sin embargo, tiene el tiempo de predicción más alto de los 3, aunque no es por mucho viendo los valores absolutos.\n",
    "\n",
    "CatBoost tuvo el tiempo de entrenamiento más largo. Se podría conseguir menores tiempos aun, pero a costa de aumentar el RECM de la predicción. El modelo de CatBoost nos da el menor tiempo de predicción de los tres. \n",
    "\n",
    "LightGBM tiene un tiempo de entrenamiento muy bajo comparado al resto. Tiene la peor métrica, pero la diferencia es de 23 euros con respecto a la mejor predicción."
   ]
  },
  {
   "cell_type": "markdown",
   "id": "2c7566e3",
   "metadata": {},
   "source": [
    "<div class=\"alert alert-block alert-success\">\n",
    "<b>Comentario del revisor</b> <a class=\"tocSkip\"></a>\n",
    "    \n",
    "Todo bien en esta sección y concuerdo con las conclusiones.\n",
    "</div>"
   ]
  },
  {
   "cell_type": "markdown",
   "id": "1b80d1a2",
   "metadata": {},
   "source": [
    "## Conclusiones"
   ]
  },
  {
   "cell_type": "markdown",
   "id": "23358ea8",
   "metadata": {},
   "source": [
    "Comenzamos con datos históricos de autos que estuvieron a la venta en la web. El objetivo es predecir el precio de un auto en base a las características de este, para una app que averigua el precio de un coche de segunda mano que desee vender un usuario. Se deberá comparar los tiempos de entrenamiento y predicción, y la métrica de varios modelos.\n",
    "\n",
    "Se realizó la exploración de datos, donde se eliminaron carácterísticas de tipo fecha, ya que no deberían ser determinantes en la predicción del precio. También ciertos datos inuales fueron revisados, ya sea precios igual a cero, o años anteriores a la creación del auto. Se tratarón los valores ausentes usando la moda de cada característica, dado que eran variable categóricas. También se eliminaron algunas categorías que tuvieran poca frecuencia.\n",
    "\n",
    "El entrenamiento de modelos se realizó en 4 tipos diferentes. Se hizo una regresión lineal, cuyo RECM fue de 2718. Este modelo sirvió como prueba de cordura, los demás modelos que entrenaramos deberían dar mejor resultado que la regresión lineal.\n",
    "\n",
    "Luego se realizó el entrenamiento de modelos aplicando bosque aleatorio, LightGBm y CatBoost. Se aplicó un GridSearchCV a cada uno para encontrar el set de parámetros que den las mejores métricas. En el caso de bosque aleatorio y CatBoost, no se eligió el modelo de la mejor métrica, pero sí uno con un métrica cercana a la mejor pero que tomará casi la mitad del tiempo de entrenamiento.\n",
    "\n",
    "Las predicciones varian de 1620 a 1643, en términos de precisión son muy similares. Principalmente varían en los tiempos de entrenamiento y predicción. El modelo de LightGBM destacó por tener un tiempo de entrenamiento mucho menor a los demás modelos. A pesar de tener el peor RECM del grupo, no es una diferencia significante. Este bajo tiempo de entrenamiento podría permitir variar otros hiperparámetros al aplicar el GridSearchCV para mejor la métrica, sin que este tenga que tomar extensos tiempos como los otros dos modelos. Además, su tiempo de predicción es bueno, aproximadamente un segundo para todos los datos de validación."
   ]
  },
  {
   "cell_type": "markdown",
   "id": "869a2bea",
   "metadata": {},
   "source": [
    "<div class=\"alert alert-block alert-danger\">\n",
    "    \n",
    "# Comentarios generales\n",
    "<b>Comentario del revisor</b> <a class=\"tocSkip\"></a>\n",
    "    \n",
    "Muy buen trabajo el que se ha realizado en este proyecto. Sin embargo, nos quedan algunos detalles pendientes en lo referente a la limpieza que debemos corregir antes de aprobarlo. He dejado comentarios en esta sección del documento para ello.\n",
    "</div>"
   ]
  },
  {
   "cell_type": "markdown",
   "id": "eabdf599",
   "metadata": {},
   "source": [
    "<div class=\"alert alert-block alert-success\">\n",
    "    \n",
    "# Comentarios generales\n",
    "<b>Comentario del revisor</b> <a class=\"tocSkip\"></a>\n",
    "    \n",
    "Buen trabajo. Todo ha sido corregido y has aprobado un nuevo proyecto. ¡Felicitaciones!\n",
    "</div>"
   ]
  },
  {
   "cell_type": "markdown",
   "id": "5abd6787",
   "metadata": {},
   "source": [
    "# Lista de control"
   ]
  },
  {
   "cell_type": "markdown",
   "id": "ab4255ed",
   "metadata": {},
   "source": [
    "Escribe 'x' para verificar. Luego presiona Shift+Enter"
   ]
  },
  {
   "cell_type": "markdown",
   "id": "eac58412",
   "metadata": {},
   "source": [
    "- [x]  Jupyter Notebook está abierto\n",
    "- [x]  El código no tiene errores\n",
    "- [x]  Las celdas con el código han sido colocadas en orden de ejecución\n",
    "- [x]  Los datos han sido descargados y preparados\n",
    "- [x]  Los modelos han sido entrenados\n",
    "- [x]  Se realizó el análisis de velocidad y calidad de los modelos"
   ]
  }
 ],
 "metadata": {
  "kernelspec": {
   "display_name": "Python 3 (ipykernel)",
   "language": "python",
   "name": "python3"
  },
  "language_info": {
   "codemirror_mode": {
    "name": "ipython",
    "version": 3
   },
   "file_extension": ".py",
   "mimetype": "text/x-python",
   "name": "python",
   "nbconvert_exporter": "python",
   "pygments_lexer": "ipython3",
   "version": "3.9.16"
  },
  "toc": {
   "base_numbering": 1,
   "nav_menu": {},
   "number_sections": true,
   "sideBar": true,
   "skip_h1_title": true,
   "title_cell": "Table of Contents",
   "title_sidebar": "Contents",
   "toc_cell": false,
   "toc_position": {
    "height": "calc(100% - 180px)",
    "left": "10px",
    "top": "150px",
    "width": "288px"
   },
   "toc_section_display": true,
   "toc_window_display": true
  }
 },
 "nbformat": 4,
 "nbformat_minor": 5
}
